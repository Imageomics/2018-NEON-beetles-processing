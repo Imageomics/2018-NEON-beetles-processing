{
 "cells": [
  {
   "cell_type": "code",
   "execution_count": 1,
   "metadata": {},
   "outputs": [],
   "source": [
    "import pandas as pd"
   ]
  },
  {
   "cell_type": "markdown",
   "metadata": {},
   "source": [
    "# Get Metadata for [Separate_segmented_train_test_splits_80_20](https://huggingface.co/datasets/imageomics/2018-NEON-beetles/tree/main/Separate_segmented_train_test_splits_80_20)\n",
    "\n",
    "Using [`sum-buddy`](https://github.com/Imageomics/sum-buddy) package within the [2018-NEON-beetles repository](https://huggingface.co/datasets/imageomics/2018-NEON-beetles):\n",
    "```\n",
    "sum-buddy -o Separate_segmented_train_test_splits_80_20/checksum_metadata.csv Separate_segmented_train_test_splits_80_20\n",
    "```"
   ]
  },
  {
   "cell_type": "code",
   "execution_count": 2,
   "metadata": {},
   "outputs": [
    {
     "data": {
      "text/html": [
       "<div>\n",
       "<style scoped>\n",
       "    .dataframe tbody tr th:only-of-type {\n",
       "        vertical-align: middle;\n",
       "    }\n",
       "\n",
       "    .dataframe tbody tr th {\n",
       "        vertical-align: top;\n",
       "    }\n",
       "\n",
       "    .dataframe thead th {\n",
       "        text-align: right;\n",
       "    }\n",
       "</style>\n",
       "<table border=\"1\" class=\"dataframe\">\n",
       "  <thead>\n",
       "    <tr style=\"text-align: right;\">\n",
       "      <th></th>\n",
       "      <th>filepath</th>\n",
       "      <th>filename</th>\n",
       "      <th>md5</th>\n",
       "    </tr>\n",
       "  </thead>\n",
       "  <tbody>\n",
       "    <tr>\n",
       "      <th>0</th>\n",
       "      <td>Separate_segmented_train_test_splits_80_20/tes...</td>\n",
       "      <td>beetle_1176_1088.png</td>\n",
       "      <td>dcd4b79619ac96fd7519225f3bd46a86</td>\n",
       "    </tr>\n",
       "    <tr>\n",
       "      <th>1</th>\n",
       "      <td>Separate_segmented_train_test_splits_80_20/tes...</td>\n",
       "      <td>beetle_414_629.png</td>\n",
       "      <td>3f388c96812cbfcf6036939eae49afe0</td>\n",
       "    </tr>\n",
       "    <tr>\n",
       "      <th>2</th>\n",
       "      <td>Separate_segmented_train_test_splits_80_20/tes...</td>\n",
       "      <td>beetle_339_946.png</td>\n",
       "      <td>df7b91b86ee4dc3b0ee8e8000f8b6e18</td>\n",
       "    </tr>\n",
       "    <tr>\n",
       "      <th>3</th>\n",
       "      <td>Separate_segmented_train_test_splits_80_20/tes...</td>\n",
       "      <td>beetle_130_537.png</td>\n",
       "      <td>debd1c10ff568fd9ea48a025808cc324</td>\n",
       "    </tr>\n",
       "    <tr>\n",
       "      <th>4</th>\n",
       "      <td>Separate_segmented_train_test_splits_80_20/tes...</td>\n",
       "      <td>beetle_320_1374.png</td>\n",
       "      <td>87d5a67d7f6ac04882ea9ab96e21272f</td>\n",
       "    </tr>\n",
       "  </tbody>\n",
       "</table>\n",
       "</div>"
      ],
      "text/plain": [
       "                                            filepath              filename  \\\n",
       "0  Separate_segmented_train_test_splits_80_20/tes...  beetle_1176_1088.png   \n",
       "1  Separate_segmented_train_test_splits_80_20/tes...    beetle_414_629.png   \n",
       "2  Separate_segmented_train_test_splits_80_20/tes...    beetle_339_946.png   \n",
       "3  Separate_segmented_train_test_splits_80_20/tes...    beetle_130_537.png   \n",
       "4  Separate_segmented_train_test_splits_80_20/tes...   beetle_320_1374.png   \n",
       "\n",
       "                                md5  \n",
       "0  dcd4b79619ac96fd7519225f3bd46a86  \n",
       "1  3f388c96812cbfcf6036939eae49afe0  \n",
       "2  df7b91b86ee4dc3b0ee8e8000f8b6e18  \n",
       "3  debd1c10ff568fd9ea48a025808cc324  \n",
       "4  87d5a67d7f6ac04882ea9ab96e21272f  "
      ]
     },
     "execution_count": 2,
     "metadata": {},
     "output_type": "execute_result"
    }
   ],
   "source": [
    "df = pd.read_csv(\"../../2018-NEON-beetles/Separate_segmented_train_test_splits_80_20/checksum_metadata.csv\")\n",
    "df.head()"
   ]
  },
  {
   "cell_type": "markdown",
   "metadata": {},
   "source": [
    "## Make `split`, `species`, and `file_name` Columns\n",
    "\n",
    "`file_name` will be path within the `Separate_segmented_train_test_splits_80_20` for the dataset viewer on HF (and we'll name the file `metadata.csv` at that point)."
   ]
  },
  {
   "cell_type": "code",
   "execution_count": 3,
   "metadata": {},
   "outputs": [
    {
     "data": {
      "text/plain": [
       "array(['Separate_segmented_train_test_splits_80_20/test/advena/beetle_1176_1088.png',\n",
       "       'Separate_segmented_train_test_splits_80_20/test/advena/beetle_414_629.png',\n",
       "       'Separate_segmented_train_test_splits_80_20/test/advena/beetle_339_946.png',\n",
       "       'Separate_segmented_train_test_splits_80_20/test/advena/beetle_130_537.png',\n",
       "       'Separate_segmented_train_test_splits_80_20/test/advena/beetle_320_1374.png',\n",
       "       'Separate_segmented_train_test_splits_80_20/test/advena/beetle_749_1174.png',\n",
       "       'Separate_segmented_train_test_splits_80_20/test/advena/beetle_754_788.png',\n",
       "       'Separate_segmented_train_test_splits_80_20/test/advena/beetle_189_1137.png',\n",
       "       'Separate_segmented_train_test_splits_80_20/test/advena/beetle_509_696.png',\n",
       "       'Separate_segmented_train_test_splits_80_20/test/advena/beetle_137_238.png'],\n",
       "      dtype=object)"
      ]
     },
     "execution_count": 3,
     "metadata": {},
     "output_type": "execute_result"
    }
   ],
   "source": [
    "df[\"filepath\"].values[:10]"
   ]
  },
  {
   "cell_type": "code",
   "execution_count": 4,
   "metadata": {},
   "outputs": [],
   "source": [
    "def get_split(filepath):\n",
    "    return filepath.split(\"/\")[1]\n",
    "\n",
    "def get_species(filepath):\n",
    "    return filepath.split(\"/\")[2]\n",
    "\n",
    "def get_file_name(filepath):\n",
    "    return filepath.split(\"splits_80_20/\")[1]"
   ]
  },
  {
   "cell_type": "code",
   "execution_count": 5,
   "metadata": {},
   "outputs": [],
   "source": [
    "df[\"species\"] = df[\"filepath\"].apply(get_species)\n",
    "df[\"split\"] = df[\"filepath\"].apply(get_split)\n",
    "df[\"file_name\"] = df[\"filepath\"].apply(get_file_name)\n",
    "\n",
    "df[\"subset\"] = \"separate segmented splits\""
   ]
  },
  {
   "cell_type": "code",
   "execution_count": 6,
   "metadata": {},
   "outputs": [
    {
     "data": {
      "text/html": [
       "<div>\n",
       "<style scoped>\n",
       "    .dataframe tbody tr th:only-of-type {\n",
       "        vertical-align: middle;\n",
       "    }\n",
       "\n",
       "    .dataframe tbody tr th {\n",
       "        vertical-align: top;\n",
       "    }\n",
       "\n",
       "    .dataframe thead th {\n",
       "        text-align: right;\n",
       "    }\n",
       "</style>\n",
       "<table border=\"1\" class=\"dataframe\">\n",
       "  <thead>\n",
       "    <tr style=\"text-align: right;\">\n",
       "      <th></th>\n",
       "      <th>filepath</th>\n",
       "      <th>filename</th>\n",
       "      <th>md5</th>\n",
       "      <th>species</th>\n",
       "      <th>split</th>\n",
       "      <th>file_name</th>\n",
       "      <th>subset</th>\n",
       "    </tr>\n",
       "  </thead>\n",
       "  <tbody>\n",
       "    <tr>\n",
       "      <th>0</th>\n",
       "      <td>Separate_segmented_train_test_splits_80_20/tes...</td>\n",
       "      <td>beetle_1176_1088.png</td>\n",
       "      <td>dcd4b79619ac96fd7519225f3bd46a86</td>\n",
       "      <td>advena</td>\n",
       "      <td>test</td>\n",
       "      <td>test/advena/beetle_1176_1088.png</td>\n",
       "      <td>separate segmented splits</td>\n",
       "    </tr>\n",
       "    <tr>\n",
       "      <th>1</th>\n",
       "      <td>Separate_segmented_train_test_splits_80_20/tes...</td>\n",
       "      <td>beetle_414_629.png</td>\n",
       "      <td>3f388c96812cbfcf6036939eae49afe0</td>\n",
       "      <td>advena</td>\n",
       "      <td>test</td>\n",
       "      <td>test/advena/beetle_414_629.png</td>\n",
       "      <td>separate segmented splits</td>\n",
       "    </tr>\n",
       "    <tr>\n",
       "      <th>2</th>\n",
       "      <td>Separate_segmented_train_test_splits_80_20/tes...</td>\n",
       "      <td>beetle_339_946.png</td>\n",
       "      <td>df7b91b86ee4dc3b0ee8e8000f8b6e18</td>\n",
       "      <td>advena</td>\n",
       "      <td>test</td>\n",
       "      <td>test/advena/beetle_339_946.png</td>\n",
       "      <td>separate segmented splits</td>\n",
       "    </tr>\n",
       "    <tr>\n",
       "      <th>3</th>\n",
       "      <td>Separate_segmented_train_test_splits_80_20/tes...</td>\n",
       "      <td>beetle_130_537.png</td>\n",
       "      <td>debd1c10ff568fd9ea48a025808cc324</td>\n",
       "      <td>advena</td>\n",
       "      <td>test</td>\n",
       "      <td>test/advena/beetle_130_537.png</td>\n",
       "      <td>separate segmented splits</td>\n",
       "    </tr>\n",
       "    <tr>\n",
       "      <th>4</th>\n",
       "      <td>Separate_segmented_train_test_splits_80_20/tes...</td>\n",
       "      <td>beetle_320_1374.png</td>\n",
       "      <td>87d5a67d7f6ac04882ea9ab96e21272f</td>\n",
       "      <td>advena</td>\n",
       "      <td>test</td>\n",
       "      <td>test/advena/beetle_320_1374.png</td>\n",
       "      <td>separate segmented splits</td>\n",
       "    </tr>\n",
       "  </tbody>\n",
       "</table>\n",
       "</div>"
      ],
      "text/plain": [
       "                                            filepath              filename  \\\n",
       "0  Separate_segmented_train_test_splits_80_20/tes...  beetle_1176_1088.png   \n",
       "1  Separate_segmented_train_test_splits_80_20/tes...    beetle_414_629.png   \n",
       "2  Separate_segmented_train_test_splits_80_20/tes...    beetle_339_946.png   \n",
       "3  Separate_segmented_train_test_splits_80_20/tes...    beetle_130_537.png   \n",
       "4  Separate_segmented_train_test_splits_80_20/tes...   beetle_320_1374.png   \n",
       "\n",
       "                                md5 species split  \\\n",
       "0  dcd4b79619ac96fd7519225f3bd46a86  advena  test   \n",
       "1  3f388c96812cbfcf6036939eae49afe0  advena  test   \n",
       "2  df7b91b86ee4dc3b0ee8e8000f8b6e18  advena  test   \n",
       "3  debd1c10ff568fd9ea48a025808cc324  advena  test   \n",
       "4  87d5a67d7f6ac04882ea9ab96e21272f  advena  test   \n",
       "\n",
       "                          file_name                     subset  \n",
       "0  test/advena/beetle_1176_1088.png  separate segmented splits  \n",
       "1    test/advena/beetle_414_629.png  separate segmented splits  \n",
       "2    test/advena/beetle_339_946.png  separate segmented splits  \n",
       "3    test/advena/beetle_130_537.png  separate segmented splits  \n",
       "4   test/advena/beetle_320_1374.png  separate segmented splits  "
      ]
     },
     "execution_count": 6,
     "metadata": {},
     "output_type": "execute_result"
    }
   ],
   "source": [
    "df.head()"
   ]
  },
  {
   "cell_type": "code",
   "execution_count": 7,
   "metadata": {},
   "outputs": [
    {
     "data": {
      "text/plain": [
       "species\n",
       "advena                   1355\n",
       "impunctatus              1139\n",
       "goryi                    1096\n",
       "lachrymosus               613\n",
       "torvus                    490\n",
       "pensylvanicus             451\n",
       "melanarius melanarius     380\n",
       "restrictus                347\n",
       "aestivus                  336\n",
       "melanarius                292\n",
       "grossus                   289\n",
       "dubius                    282\n",
       "Name: count, dtype: int64"
      ]
     },
     "execution_count": 7,
     "metadata": {},
     "output_type": "execute_result"
    }
   ],
   "source": [
    "df.species.value_counts()"
   ]
  },
  {
   "cell_type": "markdown",
   "metadata": {},
   "source": [
    "## Display Distribution"
   ]
  },
  {
   "cell_type": "code",
   "execution_count": 8,
   "metadata": {},
   "outputs": [],
   "source": [
    "import seaborn as sns"
   ]
  },
  {
   "cell_type": "code",
   "execution_count": 9,
   "metadata": {},
   "outputs": [
    {
     "data": {
      "text/plain": [
       "<Axes: xlabel='Count', ylabel='species'>"
      ]
     },
     "execution_count": 9,
     "metadata": {},
     "output_type": "execute_result"
    },
    {
     "data": {
      "image/png": "[encoded data removed]",
      "text/plain": [
       "<Figure size 640x480 with 1 Axes>"
      ]
     },
     "metadata": {},
     "output_type": "display_data"
    }
   ],
   "source": [
    "sns.histplot(df.sort_values(\"species\"), y = \"species\", hue = \"split\")"
   ]
  },
  {
   "cell_type": "markdown",
   "metadata": {},
   "source": [
    "## Save CSV\n",
    "\n",
    "We don't need the `filepath` column since we're including the `file_name` for the purpose of the dataset viewer."
   ]
  },
  {
   "cell_type": "code",
   "execution_count": 10,
   "metadata": {},
   "outputs": [
    {
     "data": {
      "text/html": [
       "<div>\n",
       "<style scoped>\n",
       "    .dataframe tbody tr th:only-of-type {\n",
       "        vertical-align: middle;\n",
       "    }\n",
       "\n",
       "    .dataframe tbody tr th {\n",
       "        vertical-align: top;\n",
       "    }\n",
       "\n",
       "    .dataframe thead th {\n",
       "        text-align: right;\n",
       "    }\n",
       "</style>\n",
       "<table border=\"1\" class=\"dataframe\">\n",
       "  <thead>\n",
       "    <tr style=\"text-align: right;\">\n",
       "      <th></th>\n",
       "      <th>filename</th>\n",
       "      <th>md5</th>\n",
       "      <th>species</th>\n",
       "      <th>split</th>\n",
       "      <th>file_name</th>\n",
       "      <th>subset</th>\n",
       "    </tr>\n",
       "  </thead>\n",
       "  <tbody>\n",
       "    <tr>\n",
       "      <th>0</th>\n",
       "      <td>beetle_1176_1088.png</td>\n",
       "      <td>dcd4b79619ac96fd7519225f3bd46a86</td>\n",
       "      <td>advena</td>\n",
       "      <td>test</td>\n",
       "      <td>test/advena/beetle_1176_1088.png</td>\n",
       "      <td>separate segmented splits</td>\n",
       "    </tr>\n",
       "    <tr>\n",
       "      <th>1</th>\n",
       "      <td>beetle_414_629.png</td>\n",
       "      <td>3f388c96812cbfcf6036939eae49afe0</td>\n",
       "      <td>advena</td>\n",
       "      <td>test</td>\n",
       "      <td>test/advena/beetle_414_629.png</td>\n",
       "      <td>separate segmented splits</td>\n",
       "    </tr>\n",
       "    <tr>\n",
       "      <th>2</th>\n",
       "      <td>beetle_339_946.png</td>\n",
       "      <td>df7b91b86ee4dc3b0ee8e8000f8b6e18</td>\n",
       "      <td>advena</td>\n",
       "      <td>test</td>\n",
       "      <td>test/advena/beetle_339_946.png</td>\n",
       "      <td>separate segmented splits</td>\n",
       "    </tr>\n",
       "    <tr>\n",
       "      <th>3</th>\n",
       "      <td>beetle_130_537.png</td>\n",
       "      <td>debd1c10ff568fd9ea48a025808cc324</td>\n",
       "      <td>advena</td>\n",
       "      <td>test</td>\n",
       "      <td>test/advena/beetle_130_537.png</td>\n",
       "      <td>separate segmented splits</td>\n",
       "    </tr>\n",
       "    <tr>\n",
       "      <th>4</th>\n",
       "      <td>beetle_320_1374.png</td>\n",
       "      <td>87d5a67d7f6ac04882ea9ab96e21272f</td>\n",
       "      <td>advena</td>\n",
       "      <td>test</td>\n",
       "      <td>test/advena/beetle_320_1374.png</td>\n",
       "      <td>separate segmented splits</td>\n",
       "    </tr>\n",
       "  </tbody>\n",
       "</table>\n",
       "</div>"
      ],
      "text/plain": [
       "               filename                               md5 species split  \\\n",
       "0  beetle_1176_1088.png  dcd4b79619ac96fd7519225f3bd46a86  advena  test   \n",
       "1    beetle_414_629.png  3f388c96812cbfcf6036939eae49afe0  advena  test   \n",
       "2    beetle_339_946.png  df7b91b86ee4dc3b0ee8e8000f8b6e18  advena  test   \n",
       "3    beetle_130_537.png  debd1c10ff568fd9ea48a025808cc324  advena  test   \n",
       "4   beetle_320_1374.png  87d5a67d7f6ac04882ea9ab96e21272f  advena  test   \n",
       "\n",
       "                          file_name                     subset  \n",
       "0  test/advena/beetle_1176_1088.png  separate segmented splits  \n",
       "1    test/advena/beetle_414_629.png  separate segmented splits  \n",
       "2    test/advena/beetle_339_946.png  separate segmented splits  \n",
       "3    test/advena/beetle_130_537.png  separate segmented splits  \n",
       "4   test/advena/beetle_320_1374.png  separate segmented splits  "
      ]
     },
     "execution_count": 10,
     "metadata": {},
     "output_type": "execute_result"
    }
   ],
   "source": [
    "df[list(df.columns)[1:]].head()"
   ]
  },
  {
   "cell_type": "code",
   "execution_count": 11,
   "metadata": {},
   "outputs": [],
   "source": [
    "df[list(df.columns)[1:]].to_csv(\"../../2018-NEON-beetles/Separate_segmented_train_test_splits_80_20/metadata.csv\", index = False)"
   ]
  },
  {
   "cell_type": "code",
   "execution_count": null,
   "metadata": {},
   "outputs": [],
   "source": []
  }
 ],
 "metadata": {
  "jupytext": {
   "formats": "ipynb,py:percent"
  },
  "kernelspec": {
   "display_name": "std",
   "language": "python",
   "name": "python3"
  },
  "language_info": {
   "codemirror_mode": {
    "name": "ipython",
    "version": 3
   },
   "file_extension": ".py",
   "mimetype": "text/x-python",
   "name": "python",
   "nbconvert_exporter": "python",
   "pygments_lexer": "ipython3",
   "version": "3.11.3"
  }
 },
 "nbformat": 4,
 "nbformat_minor": 2
}
