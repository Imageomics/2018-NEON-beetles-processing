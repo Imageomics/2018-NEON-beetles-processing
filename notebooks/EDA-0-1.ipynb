{
 "cells": [
  {
   "cell_type": "code",
   "execution_count": 1,
   "metadata": {},
   "outputs": [],
   "source": [
    "import pandas as pd\n",
    "import seaborn as sns"
   ]
  },
  {
   "cell_type": "markdown",
   "metadata": {},
   "source": [
    "# Beetlepalooza Beetle Measurement Data\n",
    "\n",
    "This dataset has images of multiple beetles from each site (the individual beetles will be segmented out). Each image has multiple rows in the measurements CSV (2 per beetle, one representing each of the two measurements performed on the beetles)."
   ]
  },
  {
   "cell_type": "code",
   "execution_count": 2,
   "metadata": {},
   "outputs": [
    {
     "data": {
      "text/html": [
       "<div>\n",
       "<style scoped>\n",
       "    .dataframe tbody tr th:only-of-type {\n",
       "        vertical-align: middle;\n",
       "    }\n",
       "\n",
       "    .dataframe tbody tr th {\n",
       "        vertical-align: top;\n",
       "    }\n",
       "\n",
       "    .dataframe thead th {\n",
       "        text-align: right;\n",
       "    }\n",
       "</style>\n",
       "<table border=\"1\" class=\"dataframe\">\n",
       "  <thead>\n",
       "    <tr style=\"text-align: right;\">\n",
       "      <th></th>\n",
       "      <th>Unnamed: 0</th>\n",
       "      <th>PictureID</th>\n",
       "      <th>scalebar</th>\n",
       "      <th>scale_dist_pix</th>\n",
       "      <th>individual</th>\n",
       "      <th>structure</th>\n",
       "      <th>lyingstraight</th>\n",
       "      <th>coords_pix</th>\n",
       "      <th>dist_pix</th>\n",
       "      <th>dist_cm</th>\n",
       "      <th>scientificName</th>\n",
       "      <th>NEON_sampleID_</th>\n",
       "      <th>siteID</th>\n",
       "      <th>field_site_name</th>\n",
       "      <th>plotID</th>\n",
       "      <th>user_name</th>\n",
       "      <th>workflow_id</th>\n",
       "    </tr>\n",
       "  </thead>\n",
       "  <tbody>\n",
       "    <tr>\n",
       "      <th>0</th>\n",
       "      <td>1</td>\n",
       "      <td>A00000032929.jpg</td>\n",
       "      <td>{\"x1\": 815, \"y1\": 244, \"x2\": 892, \"y2\": 244}</td>\n",
       "      <td>77.0</td>\n",
       "      <td>1</td>\n",
       "      <td>ElytraLength</td>\n",
       "      <td>Yes</td>\n",
       "      <td>{\"x1\": 1055, \"y1\": 154, \"x2\": 1163, \"y2\": 149}</td>\n",
       "      <td>108.115679</td>\n",
       "      <td>1.404100</td>\n",
       "      <td>Carabus goryi</td>\n",
       "      <td>HARV_001.20180605.CARGOR.01</td>\n",
       "      <td>HARV</td>\n",
       "      <td>Harvard Forest &amp; Quabbin Watershed NEON</td>\n",
       "      <td>HARV_001</td>\n",
       "      <td>IsaFluck</td>\n",
       "      <td>21652</td>\n",
       "    </tr>\n",
       "    <tr>\n",
       "      <th>1</th>\n",
       "      <td>2</td>\n",
       "      <td>A00000032929.jpg</td>\n",
       "      <td>{\"x1\": 815, \"y1\": 244, \"x2\": 892, \"y2\": 244}</td>\n",
       "      <td>77.0</td>\n",
       "      <td>1</td>\n",
       "      <td>ElytraWidth</td>\n",
       "      <td>Yes</td>\n",
       "      <td>{\"x1\": 1053, \"y1\": 129, \"x2\": 1057, \"y2\": 179}</td>\n",
       "      <td>50.159745</td>\n",
       "      <td>0.651425</td>\n",
       "      <td>Carabus goryi</td>\n",
       "      <td>HARV_001.20180605.CARGOR.01</td>\n",
       "      <td>HARV</td>\n",
       "      <td>Harvard Forest &amp; Quabbin Watershed NEON</td>\n",
       "      <td>HARV_001</td>\n",
       "      <td>IsaFluck</td>\n",
       "      <td>21652</td>\n",
       "    </tr>\n",
       "    <tr>\n",
       "      <th>2</th>\n",
       "      <td>3</td>\n",
       "      <td>A00000032929.jpg</td>\n",
       "      <td>{\"x1\": 815, \"y1\": 244, \"x2\": 892, \"y2\": 244}</td>\n",
       "      <td>77.0</td>\n",
       "      <td>2</td>\n",
       "      <td>ElytraLength</td>\n",
       "      <td>Yes</td>\n",
       "      <td>{\"x1\": 1390, \"y1\": 150, \"x2\": 1314, \"y2\": 241}</td>\n",
       "      <td>118.562220</td>\n",
       "      <td>1.539769</td>\n",
       "      <td>Carabus goryi</td>\n",
       "      <td>HARV_001.20180605.CARGOR.01</td>\n",
       "      <td>HARV</td>\n",
       "      <td>Harvard Forest &amp; Quabbin Watershed NEON</td>\n",
       "      <td>HARV_001</td>\n",
       "      <td>IsaFluck</td>\n",
       "      <td>21652</td>\n",
       "    </tr>\n",
       "    <tr>\n",
       "      <th>3</th>\n",
       "      <td>4</td>\n",
       "      <td>A00000032929.jpg</td>\n",
       "      <td>{\"x1\": 815, \"y1\": 244, \"x2\": 892, \"y2\": 244}</td>\n",
       "      <td>77.0</td>\n",
       "      <td>2</td>\n",
       "      <td>ElytraWidth</td>\n",
       "      <td>Yes</td>\n",
       "      <td>{\"x1\": 1369, \"y1\": 136, \"x2\": 1407, \"y2\": 169}</td>\n",
       "      <td>50.328918</td>\n",
       "      <td>0.653622</td>\n",
       "      <td>Carabus goryi</td>\n",
       "      <td>HARV_001.20180605.CARGOR.01</td>\n",
       "      <td>HARV</td>\n",
       "      <td>Harvard Forest &amp; Quabbin Watershed NEON</td>\n",
       "      <td>HARV_001</td>\n",
       "      <td>IsaFluck</td>\n",
       "      <td>21652</td>\n",
       "    </tr>\n",
       "    <tr>\n",
       "      <th>4</th>\n",
       "      <td>5</td>\n",
       "      <td>A00000032929.jpg</td>\n",
       "      <td>{\"x1\": 815, \"y1\": 244, \"x2\": 892, \"y2\": 244}</td>\n",
       "      <td>77.0</td>\n",
       "      <td>3</td>\n",
       "      <td>ElytraLength</td>\n",
       "      <td>Yes</td>\n",
       "      <td>{\"x1\": 507, \"y1\": 378, \"x2\": 501, \"y2\": 487}</td>\n",
       "      <td>109.165013</td>\n",
       "      <td>1.417727</td>\n",
       "      <td>Carabus goryi</td>\n",
       "      <td>HARV_001.20180605.CARGOR.01</td>\n",
       "      <td>HARV</td>\n",
       "      <td>Harvard Forest &amp; Quabbin Watershed NEON</td>\n",
       "      <td>HARV_001</td>\n",
       "      <td>IsaFluck</td>\n",
       "      <td>21652</td>\n",
       "    </tr>\n",
       "  </tbody>\n",
       "</table>\n",
       "</div>"
      ],
      "text/plain": [
       "   Unnamed: 0         PictureID                                      scalebar  \\\n",
       "0           1  A00000032929.jpg  {\"x1\": 815, \"y1\": 244, \"x2\": 892, \"y2\": 244}   \n",
       "1           2  A00000032929.jpg  {\"x1\": 815, \"y1\": 244, \"x2\": 892, \"y2\": 244}   \n",
       "2           3  A00000032929.jpg  {\"x1\": 815, \"y1\": 244, \"x2\": 892, \"y2\": 244}   \n",
       "3           4  A00000032929.jpg  {\"x1\": 815, \"y1\": 244, \"x2\": 892, \"y2\": 244}   \n",
       "4           5  A00000032929.jpg  {\"x1\": 815, \"y1\": 244, \"x2\": 892, \"y2\": 244}   \n",
       "\n",
       "   scale_dist_pix  individual     structure lyingstraight  \\\n",
       "0            77.0           1  ElytraLength           Yes   \n",
       "1            77.0           1   ElytraWidth           Yes   \n",
       "2            77.0           2  ElytraLength           Yes   \n",
       "3            77.0           2   ElytraWidth           Yes   \n",
       "4            77.0           3  ElytraLength           Yes   \n",
       "\n",
       "                                       coords_pix    dist_pix   dist_cm  \\\n",
       "0  {\"x1\": 1055, \"y1\": 154, \"x2\": 1163, \"y2\": 149}  108.115679  1.404100   \n",
       "1  {\"x1\": 1053, \"y1\": 129, \"x2\": 1057, \"y2\": 179}   50.159745  0.651425   \n",
       "2  {\"x1\": 1390, \"y1\": 150, \"x2\": 1314, \"y2\": 241}  118.562220  1.539769   \n",
       "3  {\"x1\": 1369, \"y1\": 136, \"x2\": 1407, \"y2\": 169}   50.328918  0.653622   \n",
       "4    {\"x1\": 507, \"y1\": 378, \"x2\": 501, \"y2\": 487}  109.165013  1.417727   \n",
       "\n",
       "  scientificName               NEON_sampleID_ siteID  \\\n",
       "0  Carabus goryi  HARV_001.20180605.CARGOR.01   HARV   \n",
       "1  Carabus goryi  HARV_001.20180605.CARGOR.01   HARV   \n",
       "2  Carabus goryi  HARV_001.20180605.CARGOR.01   HARV   \n",
       "3  Carabus goryi  HARV_001.20180605.CARGOR.01   HARV   \n",
       "4  Carabus goryi  HARV_001.20180605.CARGOR.01   HARV   \n",
       "\n",
       "                           field_site_name    plotID user_name  workflow_id  \n",
       "0  Harvard Forest & Quabbin Watershed NEON  HARV_001  IsaFluck        21652  \n",
       "1  Harvard Forest & Quabbin Watershed NEON  HARV_001  IsaFluck        21652  \n",
       "2  Harvard Forest & Quabbin Watershed NEON  HARV_001  IsaFluck        21652  \n",
       "3  Harvard Forest & Quabbin Watershed NEON  HARV_001  IsaFluck        21652  \n",
       "4  Harvard Forest & Quabbin Watershed NEON  HARV_001  IsaFluck        21652  "
      ]
     },
     "execution_count": 2,
     "metadata": {},
     "output_type": "execute_result"
    }
   ],
   "source": [
    "df = pd.read_csv(\"https://huggingface.co/datasets/imageomics/BeetlePalooza/resolve/bbefad05d50ed55da82e99bd330afe12a5fd1d97/BeetleMeasurements.csv\", low_memory = False)\n",
    "df.head()"
   ]
  },
  {
   "cell_type": "markdown",
   "metadata": {},
   "source": [
    "We'll want to remove the `Unnamed: 0` column or set it as index (would be good to have some type of UUID for this CSV). `NEON_sampleID_` should be changed to either `NEON_sample_id` or have the trailing underscore removed; need consistency across the \"ID\" columns.\n",
    "\n",
    "Remaining column info:\n",
    "  - `PictureID`: Name of the image: `<sample-barcode>.jpg`. Unique identifier for _group_ images, not for dataset. --- Probably should lowercase this.\n",
    "  - `scalebar`: Pixel coordinates of the ruler/scalebar in the image.\n",
    "  - `scale_dist_pix`: Integer. The length in pixels of the scalebar.\n",
    "  - `individual`: Integer. The beetle in the image to whom the measurements refer. Awaiting confirmation of how they are counted.\n",
    "  - `structure`: Whether the measurement applies to the length or width of the elytra (`ElytraLength` or `ElytraWidth`, respectively).\n",
    "  - `lyingstraight`: Whether or not the beetle is \"straight\" in the image (`Yes` or `No`). Further guidance on this term's meaning would be helpful.\n",
    "  - `coords_pix`: Pixel coordinates of the line marking the length or width of the elytra (green or purple --confirm which is which). Note that the lines are more than one pixel wide, which is why these coordinates form a rectangle.\n",
    "  - `dist_pix`: Float. The length or width of the elytra (indicated by `structure`) as measured in pixels.\n",
    "  - `dist_cm`: Float. The length or width of the elytra (indicated by `structure`) as measured in centimeters using the scalebar (the red line in the reference image denotes the pixel count for 1cm).\n",
    "  - `scientificName`: Scientific name of the specimen (`<Genus> <species>`).\n",
    "  - `siteID`: String. Identifier for the site from which the specimens were collected.\n",
    "  - `field_site_name`: Name of site from which the specimens were collected.\n",
    "  - `plotID`: Identifier for the plot from which the specimens were collected (`<siteID>_<plot number>`).\n",
    "  - `user_name`: Name of person inputting the information? (`<first><Last>`) or just their username in the system?\n",
    "  - `workflow_id`: Integer identifier for the workflow used...??\n"
   ]
  },
  {
   "cell_type": "code",
   "execution_count": 3,
   "metadata": {},
   "outputs": [
    {
     "name": "stdout",
     "output_type": "stream",
     "text": [
      "<class 'pandas.core.frame.DataFrame'>\n",
      "RangeIndex: 39064 entries, 0 to 39063\n",
      "Data columns (total 17 columns):\n",
      " #   Column           Non-Null Count  Dtype  \n",
      "---  ------           --------------  -----  \n",
      " 0   Unnamed: 0       39064 non-null  int64  \n",
      " 1   PictureID        39064 non-null  object \n",
      " 2   scalebar         39064 non-null  object \n",
      " 3   scale_dist_pix   39064 non-null  float64\n",
      " 4   individual       39064 non-null  int64  \n",
      " 5   structure        39064 non-null  object \n",
      " 6   lyingstraight    39064 non-null  object \n",
      " 7   coords_pix       39064 non-null  object \n",
      " 8   dist_pix         39064 non-null  float64\n",
      " 9   dist_cm          39064 non-null  float64\n",
      " 10  scientificName   39030 non-null  object \n",
      " 11  NEON_sampleID_   39064 non-null  object \n",
      " 12  siteID           39064 non-null  object \n",
      " 13  field_site_name  39064 non-null  object \n",
      " 14  plotID           39064 non-null  object \n",
      " 15  user_name        39064 non-null  object \n",
      " 16  workflow_id      39064 non-null  int64  \n",
      "dtypes: float64(3), int64(3), object(11)\n",
      "memory usage: 5.1+ MB\n"
     ]
    }
   ],
   "source": [
    "df.info()"
   ]
  },
  {
   "cell_type": "markdown",
   "metadata": {},
   "source": [
    "We have 34 entries (presumably 17 individuals) without `scientificName`. Everything else is completely filled in. Should check how many images that is and overall info. Everything else is completely filled."
   ]
  },
  {
   "cell_type": "code",
   "execution_count": 4,
   "metadata": {},
   "outputs": [
    {
     "data": {
      "text/plain": [
       "Unnamed: 0         39064\n",
       "PictureID            577\n",
       "scalebar            1045\n",
       "scale_dist_pix       327\n",
       "individual            99\n",
       "structure              2\n",
       "lyingstraight          2\n",
       "coords_pix         38724\n",
       "dist_pix            4198\n",
       "dist_cm            31566\n",
       "scientificName        85\n",
       "NEON_sampleID_       576\n",
       "siteID                30\n",
       "field_site_name       43\n",
       "plotID               144\n",
       "user_name              3\n",
       "workflow_id            5\n",
       "dtype: int64"
      ]
     },
     "execution_count": 4,
     "metadata": {},
     "output_type": "execute_result"
    }
   ],
   "source": [
    "df.nunique()"
   ]
  },
  {
   "cell_type": "markdown",
   "metadata": {},
   "source": [
    "We will need to count uniqueness as pair of `PictureID` + `individual` to get count of individuals."
   ]
  },
  {
   "cell_type": "code",
   "execution_count": 5,
   "metadata": {},
   "outputs": [
    {
     "data": {
      "text/plain": [
       "36"
      ]
     },
     "execution_count": 5,
     "metadata": {},
     "output_type": "execute_result"
    }
   ],
   "source": [
    "def get_genus(sci_name):\n",
    "    if type(sci_name) == float:\n",
    "        return sci_name\n",
    "    return sci_name.split(\" \")[0]\n",
    "\n",
    "df[\"genus\"] = df[\"scientificName\"].apply(get_genus)\n",
    "df[\"genus\"].nunique()"
   ]
  },
  {
   "cell_type": "markdown",
   "metadata": {},
   "source": [
    "There are 85 different species among 36 genera.\n",
    "\n",
    "Now let's check on the missing `scientificName`."
   ]
  },
  {
   "cell_type": "code",
   "execution_count": 6,
   "metadata": {},
   "outputs": [
    {
     "data": {
      "text/plain": [
       "Unnamed: 0         34\n",
       "PictureID           1\n",
       "scalebar            1\n",
       "scale_dist_pix      1\n",
       "individual         17\n",
       "structure           2\n",
       "lyingstraight       2\n",
       "coords_pix         34\n",
       "dist_pix           32\n",
       "dist_cm            32\n",
       "scientificName      0\n",
       "NEON_sampleID_      1\n",
       "siteID              1\n",
       "field_site_name     1\n",
       "plotID              1\n",
       "user_name           1\n",
       "workflow_id         1\n",
       "genus               0\n",
       "dtype: int64"
      ]
     },
     "execution_count": 6,
     "metadata": {},
     "output_type": "execute_result"
    }
   ],
   "source": [
    "missing_sci = df.loc[df.scientificName.isna()].copy()\n",
    "missing_sci.nunique()"
   ]
  },
  {
   "cell_type": "markdown",
   "metadata": {},
   "source": [
    "It is just one image with 17 individuals."
   ]
  },
  {
   "cell_type": "code",
   "execution_count": 7,
   "metadata": {},
   "outputs": [
    {
     "data": {
      "text/html": [
       "<div>\n",
       "<style scoped>\n",
       "    .dataframe tbody tr th:only-of-type {\n",
       "        vertical-align: middle;\n",
       "    }\n",
       "\n",
       "    .dataframe tbody tr th {\n",
       "        vertical-align: top;\n",
       "    }\n",
       "\n",
       "    .dataframe thead th {\n",
       "        text-align: right;\n",
       "    }\n",
       "</style>\n",
       "<table border=\"1\" class=\"dataframe\">\n",
       "  <thead>\n",
       "    <tr style=\"text-align: right;\">\n",
       "      <th></th>\n",
       "      <th>Unnamed: 0</th>\n",
       "      <th>PictureID</th>\n",
       "      <th>scalebar</th>\n",
       "      <th>scale_dist_pix</th>\n",
       "      <th>individual</th>\n",
       "      <th>structure</th>\n",
       "      <th>lyingstraight</th>\n",
       "      <th>coords_pix</th>\n",
       "      <th>dist_pix</th>\n",
       "      <th>dist_cm</th>\n",
       "      <th>scientificName</th>\n",
       "      <th>NEON_sampleID_</th>\n",
       "      <th>siteID</th>\n",
       "      <th>field_site_name</th>\n",
       "      <th>plotID</th>\n",
       "      <th>user_name</th>\n",
       "      <th>workflow_id</th>\n",
       "      <th>genus</th>\n",
       "    </tr>\n",
       "  </thead>\n",
       "  <tbody>\n",
       "    <tr>\n",
       "      <th>26947</th>\n",
       "      <td>26948</td>\n",
       "      <td>MOAB_001.S.20180724.jpg</td>\n",
       "      <td>{\"x1\": 1122, \"y1\": 368, \"x2\": 1210, \"y2\": 369}</td>\n",
       "      <td>88.005682</td>\n",
       "      <td>17</td>\n",
       "      <td>ElytraWidth</td>\n",
       "      <td>No</td>\n",
       "      <td>{\"x1\": 1767, \"y1\": 1163, \"x2\": 1753, \"y2\": 1192}</td>\n",
       "      <td>32.202484</td>\n",
       "      <td>0.365914</td>\n",
       "      <td>NaN</td>\n",
       "      <td>MOAB_001.S.20180724</td>\n",
       "      <td>MOAB</td>\n",
       "      <td>Moab NEON</td>\n",
       "      <td>MOAB_001</td>\n",
       "      <td>IsaFluck</td>\n",
       "      <td>22073</td>\n",
       "      <td>NaN</td>\n",
       "    </tr>\n",
       "  </tbody>\n",
       "</table>\n",
       "</div>"
      ],
      "text/plain": [
       "       Unnamed: 0                PictureID  \\\n",
       "26947       26948  MOAB_001.S.20180724.jpg   \n",
       "\n",
       "                                             scalebar  scale_dist_pix  \\\n",
       "26947  {\"x1\": 1122, \"y1\": 368, \"x2\": 1210, \"y2\": 369}       88.005682   \n",
       "\n",
       "       individual    structure lyingstraight  \\\n",
       "26947          17  ElytraWidth            No   \n",
       "\n",
       "                                             coords_pix   dist_pix   dist_cm  \\\n",
       "26947  {\"x1\": 1767, \"y1\": 1163, \"x2\": 1753, \"y2\": 1192}  32.202484  0.365914   \n",
       "\n",
       "      scientificName       NEON_sampleID_ siteID field_site_name    plotID  \\\n",
       "26947            NaN  MOAB_001.S.20180724   MOAB       Moab NEON  MOAB_001   \n",
       "\n",
       "      user_name  workflow_id genus  \n",
       "26947  IsaFluck        22073   NaN  "
      ]
     },
     "execution_count": 7,
     "metadata": {},
     "output_type": "execute_result"
    }
   ],
   "source": [
    "missing_sci.sample()"
   ]
  },
  {
   "cell_type": "markdown",
   "metadata": {},
   "source": [
    "Sometimes the `PictureID` is the `NEON_sampleID_`."
   ]
  },
  {
   "cell_type": "code",
   "execution_count": 8,
   "metadata": {},
   "outputs": [
    {
     "data": {
      "text/plain": [
       "11104"
      ]
     },
     "execution_count": 8,
     "metadata": {},
     "output_type": "execute_result"
    }
   ],
   "source": [
    "def generate_indivdiual_id(pictureID, individual):\n",
    "    return pictureID.split(\".jpg\")[0] + \"_\" + str(individual)\n",
    "\n",
    "df[\"individualID\"] = df.apply(lambda x: generate_indivdiual_id(x[\"PictureID\"], x[\"individual\"]), axis = 1)\n",
    "df[\"individualID\"].nunique()"
   ]
  },
  {
   "cell_type": "markdown",
   "metadata": {},
   "source": [
    "But there should be 19,532 since there are 39,064 entries and should have two per individual...well `coords_pix` is not entirely unique..."
   ]
  },
  {
   "cell_type": "code",
   "execution_count": 9,
   "metadata": {},
   "outputs": [
    {
     "data": {
      "text/html": [
       "<div>\n",
       "<style scoped>\n",
       "    .dataframe tbody tr th:only-of-type {\n",
       "        vertical-align: middle;\n",
       "    }\n",
       "\n",
       "    .dataframe tbody tr th {\n",
       "        vertical-align: top;\n",
       "    }\n",
       "\n",
       "    .dataframe thead th {\n",
       "        text-align: right;\n",
       "    }\n",
       "</style>\n",
       "<table border=\"1\" class=\"dataframe\">\n",
       "  <thead>\n",
       "    <tr style=\"text-align: right;\">\n",
       "      <th></th>\n",
       "      <th>Unnamed: 0</th>\n",
       "      <th>PictureID</th>\n",
       "      <th>scalebar</th>\n",
       "      <th>scale_dist_pix</th>\n",
       "      <th>individual</th>\n",
       "      <th>structure</th>\n",
       "      <th>lyingstraight</th>\n",
       "      <th>coords_pix</th>\n",
       "      <th>dist_pix</th>\n",
       "      <th>dist_cm</th>\n",
       "      <th>scientificName</th>\n",
       "      <th>NEON_sampleID_</th>\n",
       "      <th>siteID</th>\n",
       "      <th>field_site_name</th>\n",
       "      <th>plotID</th>\n",
       "      <th>user_name</th>\n",
       "      <th>workflow_id</th>\n",
       "      <th>genus</th>\n",
       "      <th>individualID</th>\n",
       "    </tr>\n",
       "  </thead>\n",
       "  <tbody>\n",
       "    <tr>\n",
       "      <th>14866</th>\n",
       "      <td>14867</td>\n",
       "      <td>A00000046081.jpg</td>\n",
       "      <td>{\"x1\": 664, \"y1\": 285, \"x2\": 746, \"y2\": 289}</td>\n",
       "      <td>82.097503</td>\n",
       "      <td>22</td>\n",
       "      <td>ElytraLength</td>\n",
       "      <td>Yes</td>\n",
       "      <td>{\"x1\": 1010, \"y1\": 895, \"x2\": 1100, \"y2\": 944}</td>\n",
       "      <td>102.474387</td>\n",
       "      <td>1.248203</td>\n",
       "      <td>Carabus goryi</td>\n",
       "      <td>MLBS_009.S.20180619.CARGOR.01</td>\n",
       "      <td>MLBS</td>\n",
       "      <td>Mountain Lake Biological Station NEON</td>\n",
       "      <td>MLBS_009</td>\n",
       "      <td>ishachinniah</td>\n",
       "      <td>21840</td>\n",
       "      <td>Carabus</td>\n",
       "      <td>A00000046081_22</td>\n",
       "    </tr>\n",
       "  </tbody>\n",
       "</table>\n",
       "</div>"
      ],
      "text/plain": [
       "       Unnamed: 0         PictureID  \\\n",
       "14866       14867  A00000046081.jpg   \n",
       "\n",
       "                                           scalebar  scale_dist_pix  \\\n",
       "14866  {\"x1\": 664, \"y1\": 285, \"x2\": 746, \"y2\": 289}       82.097503   \n",
       "\n",
       "       individual     structure lyingstraight  \\\n",
       "14866          22  ElytraLength           Yes   \n",
       "\n",
       "                                           coords_pix    dist_pix   dist_cm  \\\n",
       "14866  {\"x1\": 1010, \"y1\": 895, \"x2\": 1100, \"y2\": 944}  102.474387  1.248203   \n",
       "\n",
       "      scientificName                 NEON_sampleID_ siteID  \\\n",
       "14866  Carabus goryi  MLBS_009.S.20180619.CARGOR.01   MLBS   \n",
       "\n",
       "                             field_site_name    plotID     user_name  \\\n",
       "14866  Mountain Lake Biological Station NEON  MLBS_009  ishachinniah   \n",
       "\n",
       "       workflow_id    genus     individualID  \n",
       "14866        21840  Carabus  A00000046081_22  "
      ]
     },
     "execution_count": 9,
     "metadata": {},
     "output_type": "execute_result"
    }
   ],
   "source": [
    "df.sample()"
   ]
  },
  {
   "cell_type": "markdown",
   "metadata": {},
   "source": [
    "Let's remove that index column and check for duplication."
   ]
  },
  {
   "cell_type": "code",
   "execution_count": 10,
   "metadata": {},
   "outputs": [
    {
     "data": {
      "text/plain": [
       "duplicate\n",
       "False    39064\n",
       "Name: count, dtype: int64"
      ]
     },
     "execution_count": 10,
     "metadata": {},
     "output_type": "execute_result"
    }
   ],
   "source": [
    "df = df[list(df.columns)[1:]].copy()\n",
    "df[\"duplicate\"] = df.duplicated(keep = \"first\")\n",
    "df[\"duplicate\"].value_counts()"
   ]
  },
  {
   "cell_type": "markdown",
   "metadata": {},
   "source": [
    "Let's try ignoring the `user_name` to check."
   ]
  },
  {
   "cell_type": "code",
   "execution_count": 11,
   "metadata": {},
   "outputs": [
    {
     "data": {
      "text/plain": [
       "duplicate\n",
       "False    39064\n",
       "Name: count, dtype: int64"
      ]
     },
     "execution_count": 11,
     "metadata": {},
     "output_type": "execute_result"
    }
   ],
   "source": [
    "df[\"duplicate\"] = df.duplicated(subset = [col for col in list(df.columns) if col != \"user_name\"], keep = \"first\")\n",
    "df[\"duplicate\"].value_counts()"
   ]
  },
  {
   "cell_type": "markdown",
   "metadata": {},
   "source": [
    "Let's check the `coords_pix` that are duplicated."
   ]
  },
  {
   "cell_type": "code",
   "execution_count": 12,
   "metadata": {},
   "outputs": [
    {
     "data": {
      "text/plain": [
       "coords_dupe\n",
       "False    38388\n",
       "True       676\n",
       "Name: count, dtype: int64"
      ]
     },
     "execution_count": 12,
     "metadata": {},
     "output_type": "execute_result"
    }
   ],
   "source": [
    "df[\"coords_dupe\"] = df.duplicated(subset = [\"coords_pix\"], keep = False)\n",
    "df[\"coords_dupe\"].value_counts()"
   ]
  },
  {
   "cell_type": "markdown",
   "metadata": {},
   "source": [
    "Still not enough to account for the difference, but let's take a sample of them."
   ]
  },
  {
   "cell_type": "code",
   "execution_count": 13,
   "metadata": {},
   "outputs": [
    {
     "data": {
      "text/html": [
       "<div>\n",
       "<style scoped>\n",
       "    .dataframe tbody tr th:only-of-type {\n",
       "        vertical-align: middle;\n",
       "    }\n",
       "\n",
       "    .dataframe tbody tr th {\n",
       "        vertical-align: top;\n",
       "    }\n",
       "\n",
       "    .dataframe thead th {\n",
       "        text-align: right;\n",
       "    }\n",
       "</style>\n",
       "<table border=\"1\" class=\"dataframe\">\n",
       "  <thead>\n",
       "    <tr style=\"text-align: right;\">\n",
       "      <th></th>\n",
       "      <th>PictureID</th>\n",
       "      <th>scalebar</th>\n",
       "      <th>scale_dist_pix</th>\n",
       "      <th>individual</th>\n",
       "      <th>structure</th>\n",
       "      <th>lyingstraight</th>\n",
       "      <th>coords_pix</th>\n",
       "      <th>dist_pix</th>\n",
       "      <th>dist_cm</th>\n",
       "      <th>scientificName</th>\n",
       "      <th>NEON_sampleID_</th>\n",
       "      <th>siteID</th>\n",
       "      <th>field_site_name</th>\n",
       "      <th>plotID</th>\n",
       "      <th>user_name</th>\n",
       "      <th>workflow_id</th>\n",
       "      <th>genus</th>\n",
       "      <th>individualID</th>\n",
       "      <th>duplicate</th>\n",
       "      <th>coords_dupe</th>\n",
       "    </tr>\n",
       "  </thead>\n",
       "  <tbody>\n",
       "    <tr>\n",
       "      <th>88</th>\n",
       "      <td>A00000033585.jpg</td>\n",
       "      <td>{\"x1\": 781, \"y1\": 253, \"x2\": 891, \"y2\": 254}</td>\n",
       "      <td>110.004545</td>\n",
       "      <td>6</td>\n",
       "      <td>ElytraLength</td>\n",
       "      <td>Yes</td>\n",
       "      <td>{\"x1\": 1009, \"y1\": 370, \"x2\": 1026, \"y2\": 433}</td>\n",
       "      <td>65.253352</td>\n",
       "      <td>0.593188</td>\n",
       "      <td>Synuchus impunctatus</td>\n",
       "      <td>HARV_008.20180814.SYNIMP.01</td>\n",
       "      <td>HARV</td>\n",
       "      <td>Harvard Forest &amp; Quabbin Watershed NEON</td>\n",
       "      <td>HARV_008</td>\n",
       "      <td>ishachinniah</td>\n",
       "      <td>21652</td>\n",
       "      <td>Synuchus</td>\n",
       "      <td>A00000033585_6</td>\n",
       "      <td>False</td>\n",
       "      <td>True</td>\n",
       "    </tr>\n",
       "    <tr>\n",
       "      <th>139</th>\n",
       "      <td>A00000033585.jpg</td>\n",
       "      <td>{\"x1\": 782, \"y1\": 253, \"x2\": 886, \"y2\": 254}</td>\n",
       "      <td>104.004808</td>\n",
       "      <td>15</td>\n",
       "      <td>ElytraWidth</td>\n",
       "      <td>Yes</td>\n",
       "      <td>{\"x1\": 1036, \"y1\": 828, \"x2\": 1032, \"y2\": 856}</td>\n",
       "      <td>28.284271</td>\n",
       "      <td>0.271952</td>\n",
       "      <td>Synuchus impunctatus</td>\n",
       "      <td>HARV_008.20180814.SYNIMP.01</td>\n",
       "      <td>HARV</td>\n",
       "      <td>Harvard Forest &amp; Quabbin Watershed NEON</td>\n",
       "      <td>HARV_008</td>\n",
       "      <td>IsaFluck</td>\n",
       "      <td>21652</td>\n",
       "      <td>Synuchus</td>\n",
       "      <td>A00000033585_15</td>\n",
       "      <td>False</td>\n",
       "      <td>True</td>\n",
       "    </tr>\n",
       "    <tr>\n",
       "      <th>152</th>\n",
       "      <td>A00000033585.jpg</td>\n",
       "      <td>{\"x1\": 666, \"y1\": 254, \"x2\": 781, \"y2\": 255}</td>\n",
       "      <td>115.004348</td>\n",
       "      <td>6</td>\n",
       "      <td>ElytraLength</td>\n",
       "      <td>Yes</td>\n",
       "      <td>{\"x1\": 1009, \"y1\": 370, \"x2\": 1026, \"y2\": 433}</td>\n",
       "      <td>65.253352</td>\n",
       "      <td>0.567399</td>\n",
       "      <td>Synuchus impunctatus</td>\n",
       "      <td>HARV_008.20180814.SYNIMP.01</td>\n",
       "      <td>HARV</td>\n",
       "      <td>Harvard Forest &amp; Quabbin Watershed NEON</td>\n",
       "      <td>HARV_008</td>\n",
       "      <td>rileywolcheski</td>\n",
       "      <td>21652</td>\n",
       "      <td>Synuchus</td>\n",
       "      <td>A00000033585_6</td>\n",
       "      <td>False</td>\n",
       "      <td>True</td>\n",
       "    </tr>\n",
       "    <tr>\n",
       "      <th>171</th>\n",
       "      <td>A00000033585.jpg</td>\n",
       "      <td>{\"x1\": 666, \"y1\": 254, \"x2\": 781, \"y2\": 255}</td>\n",
       "      <td>115.004348</td>\n",
       "      <td>15</td>\n",
       "      <td>ElytraWidth</td>\n",
       "      <td>Yes</td>\n",
       "      <td>{\"x1\": 1036, \"y1\": 828, \"x2\": 1032, \"y2\": 856}</td>\n",
       "      <td>28.284271</td>\n",
       "      <td>0.245941</td>\n",
       "      <td>Synuchus impunctatus</td>\n",
       "      <td>HARV_008.20180814.SYNIMP.01</td>\n",
       "      <td>HARV</td>\n",
       "      <td>Harvard Forest &amp; Quabbin Watershed NEON</td>\n",
       "      <td>HARV_008</td>\n",
       "      <td>rileywolcheski</td>\n",
       "      <td>21652</td>\n",
       "      <td>Synuchus</td>\n",
       "      <td>A00000033585_15</td>\n",
       "      <td>False</td>\n",
       "      <td>True</td>\n",
       "    </tr>\n",
       "    <tr>\n",
       "      <th>211</th>\n",
       "      <td>A00000033652.jpg</td>\n",
       "      <td>{\"x1\": 933, \"y1\": 298, \"x2\": 1056, \"y2\": 295}</td>\n",
       "      <td>123.036580</td>\n",
       "      <td>13</td>\n",
       "      <td>ElytraWidth</td>\n",
       "      <td>No</td>\n",
       "      <td>{\"x1\": 538, \"y1\": 866, \"x2\": 575, \"y2\": 861}</td>\n",
       "      <td>37.336309</td>\n",
       "      <td>0.303457</td>\n",
       "      <td>Synuchus impunctatus</td>\n",
       "      <td>HARV_006.20180911.SYNIMP.01</td>\n",
       "      <td>HARV</td>\n",
       "      <td>Harvard Forest &amp; Quabbin Watershed NEON</td>\n",
       "      <td>HARV_006</td>\n",
       "      <td>IsaFluck</td>\n",
       "      <td>21652</td>\n",
       "      <td>Synuchus</td>\n",
       "      <td>A00000033652_13</td>\n",
       "      <td>False</td>\n",
       "      <td>True</td>\n",
       "    </tr>\n",
       "    <tr>\n",
       "      <th>245</th>\n",
       "      <td>A00000033652.jpg</td>\n",
       "      <td>{\"x1\": 931, \"y1\": 299, \"x2\": 1057, \"y2\": 297}</td>\n",
       "      <td>126.015872</td>\n",
       "      <td>13</td>\n",
       "      <td>ElytraWidth</td>\n",
       "      <td>Yes</td>\n",
       "      <td>{\"x1\": 538, \"y1\": 866, \"x2\": 575, \"y2\": 861}</td>\n",
       "      <td>37.336309</td>\n",
       "      <td>0.296283</td>\n",
       "      <td>Synuchus impunctatus</td>\n",
       "      <td>HARV_006.20180911.SYNIMP.01</td>\n",
       "      <td>HARV</td>\n",
       "      <td>Harvard Forest &amp; Quabbin Watershed NEON</td>\n",
       "      <td>HARV_006</td>\n",
       "      <td>ishachinniah</td>\n",
       "      <td>21652</td>\n",
       "      <td>Synuchus</td>\n",
       "      <td>A00000033652_13</td>\n",
       "      <td>False</td>\n",
       "      <td>True</td>\n",
       "    </tr>\n",
       "    <tr>\n",
       "      <th>322</th>\n",
       "      <td>A00000032963.jpg</td>\n",
       "      <td>{\"x1\": 476, \"y1\": 210, \"x2\": 554, \"y2\": 211}</td>\n",
       "      <td>78.006410</td>\n",
       "      <td>18</td>\n",
       "      <td>ElytraLength</td>\n",
       "      <td>No</td>\n",
       "      <td>{\"x1\": 1443, \"y1\": 904, \"x2\": 1443, \"y2\": 1002}</td>\n",
       "      <td>98.000000</td>\n",
       "      <td>1.256307</td>\n",
       "      <td>Carabus goryi</td>\n",
       "      <td>HARV_005.20180814.CARGOR.01</td>\n",
       "      <td>HARV</td>\n",
       "      <td>Harvard Forest &amp; Quabbin Watershed NEON</td>\n",
       "      <td>HARV_005</td>\n",
       "      <td>IsaFluck</td>\n",
       "      <td>21652</td>\n",
       "      <td>Carabus</td>\n",
       "      <td>A00000032963_18</td>\n",
       "      <td>False</td>\n",
       "      <td>True</td>\n",
       "    </tr>\n",
       "  </tbody>\n",
       "</table>\n",
       "</div>"
      ],
      "text/plain": [
       "            PictureID                                       scalebar  \\\n",
       "88   A00000033585.jpg   {\"x1\": 781, \"y1\": 253, \"x2\": 891, \"y2\": 254}   \n",
       "139  A00000033585.jpg   {\"x1\": 782, \"y1\": 253, \"x2\": 886, \"y2\": 254}   \n",
       "152  A00000033585.jpg   {\"x1\": 666, \"y1\": 254, \"x2\": 781, \"y2\": 255}   \n",
       "171  A00000033585.jpg   {\"x1\": 666, \"y1\": 254, \"x2\": 781, \"y2\": 255}   \n",
       "211  A00000033652.jpg  {\"x1\": 933, \"y1\": 298, \"x2\": 1056, \"y2\": 295}   \n",
       "245  A00000033652.jpg  {\"x1\": 931, \"y1\": 299, \"x2\": 1057, \"y2\": 297}   \n",
       "322  A00000032963.jpg   {\"x1\": 476, \"y1\": 210, \"x2\": 554, \"y2\": 211}   \n",
       "\n",
       "     scale_dist_pix  individual     structure lyingstraight  \\\n",
       "88       110.004545           6  ElytraLength           Yes   \n",
       "139      104.004808          15   ElytraWidth           Yes   \n",
       "152      115.004348           6  ElytraLength           Yes   \n",
       "171      115.004348          15   ElytraWidth           Yes   \n",
       "211      123.036580          13   ElytraWidth            No   \n",
       "245      126.015872          13   ElytraWidth           Yes   \n",
       "322       78.006410          18  ElytraLength            No   \n",
       "\n",
       "                                          coords_pix   dist_pix   dist_cm  \\\n",
       "88    {\"x1\": 1009, \"y1\": 370, \"x2\": 1026, \"y2\": 433}  65.253352  0.593188   \n",
       "139   {\"x1\": 1036, \"y1\": 828, \"x2\": 1032, \"y2\": 856}  28.284271  0.271952   \n",
       "152   {\"x1\": 1009, \"y1\": 370, \"x2\": 1026, \"y2\": 433}  65.253352  0.567399   \n",
       "171   {\"x1\": 1036, \"y1\": 828, \"x2\": 1032, \"y2\": 856}  28.284271  0.245941   \n",
       "211     {\"x1\": 538, \"y1\": 866, \"x2\": 575, \"y2\": 861}  37.336309  0.303457   \n",
       "245     {\"x1\": 538, \"y1\": 866, \"x2\": 575, \"y2\": 861}  37.336309  0.296283   \n",
       "322  {\"x1\": 1443, \"y1\": 904, \"x2\": 1443, \"y2\": 1002}  98.000000  1.256307   \n",
       "\n",
       "           scientificName               NEON_sampleID_ siteID  \\\n",
       "88   Synuchus impunctatus  HARV_008.20180814.SYNIMP.01   HARV   \n",
       "139  Synuchus impunctatus  HARV_008.20180814.SYNIMP.01   HARV   \n",
       "152  Synuchus impunctatus  HARV_008.20180814.SYNIMP.01   HARV   \n",
       "171  Synuchus impunctatus  HARV_008.20180814.SYNIMP.01   HARV   \n",
       "211  Synuchus impunctatus  HARV_006.20180911.SYNIMP.01   HARV   \n",
       "245  Synuchus impunctatus  HARV_006.20180911.SYNIMP.01   HARV   \n",
       "322         Carabus goryi  HARV_005.20180814.CARGOR.01   HARV   \n",
       "\n",
       "                             field_site_name    plotID       user_name  \\\n",
       "88   Harvard Forest & Quabbin Watershed NEON  HARV_008    ishachinniah   \n",
       "139  Harvard Forest & Quabbin Watershed NEON  HARV_008        IsaFluck   \n",
       "152  Harvard Forest & Quabbin Watershed NEON  HARV_008  rileywolcheski   \n",
       "171  Harvard Forest & Quabbin Watershed NEON  HARV_008  rileywolcheski   \n",
       "211  Harvard Forest & Quabbin Watershed NEON  HARV_006        IsaFluck   \n",
       "245  Harvard Forest & Quabbin Watershed NEON  HARV_006    ishachinniah   \n",
       "322  Harvard Forest & Quabbin Watershed NEON  HARV_005        IsaFluck   \n",
       "\n",
       "     workflow_id     genus     individualID  duplicate  coords_dupe  \n",
       "88         21652  Synuchus   A00000033585_6      False         True  \n",
       "139        21652  Synuchus  A00000033585_15      False         True  \n",
       "152        21652  Synuchus   A00000033585_6      False         True  \n",
       "171        21652  Synuchus  A00000033585_15      False         True  \n",
       "211        21652  Synuchus  A00000033652_13      False         True  \n",
       "245        21652  Synuchus  A00000033652_13      False         True  \n",
       "322        21652   Carabus  A00000032963_18      False         True  "
      ]
     },
     "execution_count": 13,
     "metadata": {},
     "output_type": "execute_result"
    }
   ],
   "source": [
    "df.loc[df[\"coords_dupe\"]].head(7)"
   ]
  },
  {
   "cell_type": "markdown",
   "metadata": {},
   "source": [
    "Based on comparing a few of these, the duplication seems to be caused by variations in the person inputting the data. They match the line coordinates, but the scalebar coordinates are slightly different (in one case just which is 1 vs 2) and the cm calculation differs (despite matching pixel distance). We also see here a disagreement on `lyingstraight` here."
   ]
  },
  {
   "cell_type": "code",
   "execution_count": 14,
   "metadata": {},
   "outputs": [
    {
     "name": "stdout",
     "output_type": "stream",
     "text": [
      "IsaFluck annotated 577 images in 22918 entries, with 11078 unique individuals (picID + individual)\n",
      "ishachinniah annotated 235 images in 8122 entries, with 4053 unique individuals (picID + individual)\n",
      "rileywolcheski annotated 234 images in 8024 entries, with 4004 unique individuals (picID + individual)\n"
     ]
    }
   ],
   "source": [
    "for username in list(df.user_name.unique()):\n",
    "    temp = df.loc[df[\"user_name\"] == username].copy()\n",
    "    print(f\"{username} annotated {temp.PictureID.nunique()} images in {temp.shape[0]} entries, with {temp.individualID.nunique()} unique individuals (picID + individual)\")"
   ]
  },
  {
   "cell_type": "markdown",
   "metadata": {},
   "source": [
    "Looks like `IsaFluck` annotated all images, but not all individuals. The other two people each annotated about half. Based on the numbers per annotator there are at least 2 images that were looked at by 3 people (if only 2, then all other images were reviewed by 2 people).\n",
    "\n",
    "They all seem to have more than two rows per individual (as in a handful of individuals got 3+ entries for each annotator). Here I'm counting individuals using the `PictureID` (minus the `.jpg`) plus the `individual` number from the image.\n",
    "\n",
    "Some inconsistency could also come from different numbering schemes, though that would suggest many more issues."
   ]
  },
  {
   "cell_type": "code",
   "execution_count": 15,
   "metadata": {},
   "outputs": [
    {
     "name": "stdout",
     "output_type": "stream",
     "text": [
      "<class 'pandas.core.frame.DataFrame'>\n",
      "Index: 11104 entries, 0 to 39062\n",
      "Data columns (total 21 columns):\n",
      " #   Column           Non-Null Count  Dtype  \n",
      "---  ------           --------------  -----  \n",
      " 0   PictureID        11104 non-null  object \n",
      " 1   scalebar         11104 non-null  object \n",
      " 2   scale_dist_pix   11104 non-null  float64\n",
      " 3   individual       11104 non-null  int64  \n",
      " 4   structure        11104 non-null  object \n",
      " 5   lyingstraight    11104 non-null  object \n",
      " 6   coords_pix       11104 non-null  object \n",
      " 7   dist_pix         11104 non-null  float64\n",
      " 8   dist_cm          11104 non-null  float64\n",
      " 9   scientificName   11087 non-null  object \n",
      " 10  NEON_sampleID_   11104 non-null  object \n",
      " 11  siteID           11104 non-null  object \n",
      " 12  field_site_name  11104 non-null  object \n",
      " 13  plotID           11104 non-null  object \n",
      " 14  user_name        11104 non-null  object \n",
      " 15  workflow_id      11104 non-null  int64  \n",
      " 16  genus            11087 non-null  object \n",
      " 17  individualID     11104 non-null  object \n",
      " 18  duplicate        11104 non-null  bool   \n",
      " 19  coords_dupe      11104 non-null  bool   \n",
      " 20  dupeID           11104 non-null  bool   \n",
      "dtypes: bool(3), float64(3), int64(2), object(13)\n",
      "memory usage: 1.6+ MB\n"
     ]
    }
   ],
   "source": [
    "df[\"dupeID\"] = df.duplicated(subset = [\"individualID\"], keep = \"first\")\n",
    "\n",
    "individual_count_df = df.loc[~df[\"dupeID\"]].copy()\n",
    "\n",
    "individual_count_df.info()"
   ]
  },
  {
   "cell_type": "code",
   "execution_count": 16,
   "metadata": {},
   "outputs": [
    {
     "data": {
      "text/plain": [
       "<Axes: xlabel='Count', ylabel='genus'>"
      ]
     },
     "execution_count": 16,
     "metadata": {},
     "output_type": "execute_result"
    },
    {
     "data": {
      "image/png": "[encoded data removed]",
      "text/plain": [
       "<Figure size 640x480 with 1 Axes>"
      ]
     },
     "metadata": {},
     "output_type": "display_data"
    }
   ],
   "source": [
    "sns.histplot(individual_count_df, y = \"genus\", hue = \"scientificName\", legend = False)"
   ]
  },
  {
   "cell_type": "markdown",
   "metadata": {},
   "source": [
    "### Add `file_name` Column for HF\n",
    "\n",
    "Add the `file_name` column with relative path from root of directory to the images for the dataset viewer. It should be `group_images/<PictureID>`."
   ]
  },
  {
   "cell_type": "code",
   "execution_count": 17,
   "metadata": {},
   "outputs": [
    {
     "data": {
      "text/plain": [
       "577"
      ]
     },
     "execution_count": 17,
     "metadata": {},
     "output_type": "execute_result"
    }
   ],
   "source": [
    "df[\"file_name\"] = \"group_images/\" + df[\"PictureID\"]\n",
    "df[\"file_name\"].nunique()"
   ]
  },
  {
   "cell_type": "markdown",
   "metadata": {},
   "source": [
    "### Quick Look at Size Comparisons\n",
    "\n",
    "Let's just take the first measurement for length and width of the elytra (in cm) to add for a column on the individual subset (curious about range). This we won't worry about saving since the individual CSV is going to be made after we address the annotation inconsistencies.\n",
    " - Next step will be to compare the measurements for each individual and see what the variation is across the estimated 2-3 annotations per individual."
   ]
  },
  {
   "cell_type": "code",
   "execution_count": 18,
   "metadata": {},
   "outputs": [],
   "source": [
    "for id in list(individual_count_df[\"individualID\"]):\n",
    "    meas_temp = df.loc[df[\"individualID\"] == id].copy()\n",
    "    \n",
    "    elytra_length = meas_temp.loc[meas_temp[\"structure\"] == \"ElytraLength\", \"dist_cm\"].values[0]\n",
    "    elytra_width = meas_temp.loc[meas_temp[\"structure\"] == \"ElytraWidth\", \"dist_cm\"].values[0]\n",
    "    \n",
    "    individual_count_df.loc[individual_count_df[\"individualID\"] == id, \"elytraLength\"] = elytra_length\n",
    "    individual_count_df.loc[individual_count_df[\"individualID\"] == id, \"elytraWidth\"] = elytra_width"
   ]
  },
  {
   "cell_type": "code",
   "execution_count": 19,
   "metadata": {},
   "outputs": [
    {
     "data": {
      "text/plain": [
       "<Axes: xlabel='elytraLength', ylabel='elytraWidth'>"
      ]
     },
     "execution_count": 19,
     "metadata": {},
     "output_type": "execute_result"
    },
    {
     "data": {
      "image/png": "[encoded data removed]",
      "text/plain": [
       "<Figure size 640x480 with 1 Axes>"
      ]
     },
     "metadata": {},
     "output_type": "display_data"
    }
   ],
   "source": [
    "sns.scatterplot(individual_count_df, x = \"elytraLength\", y = \"elytraWidth\", hue = \"genus\", legend = False)"
   ]
  },
  {
   "cell_type": "markdown",
   "metadata": {},
   "source": [
    "Comparing annotations for individuals will be particularly interesting (there's one big outlier here)...who is that guy?"
   ]
  },
  {
   "cell_type": "code",
   "execution_count": 20,
   "metadata": {},
   "outputs": [
    {
     "data": {
      "text/html": [
       "<div>\n",
       "<style scoped>\n",
       "    .dataframe tbody tr th:only-of-type {\n",
       "        vertical-align: middle;\n",
       "    }\n",
       "\n",
       "    .dataframe tbody tr th {\n",
       "        vertical-align: top;\n",
       "    }\n",
       "\n",
       "    .dataframe thead th {\n",
       "        text-align: right;\n",
       "    }\n",
       "</style>\n",
       "<table border=\"1\" class=\"dataframe\">\n",
       "  <thead>\n",
       "    <tr style=\"text-align: right;\">\n",
       "      <th></th>\n",
       "      <th>PictureID</th>\n",
       "      <th>scalebar</th>\n",
       "      <th>scale_dist_pix</th>\n",
       "      <th>individual</th>\n",
       "      <th>structure</th>\n",
       "      <th>lyingstraight</th>\n",
       "      <th>coords_pix</th>\n",
       "      <th>dist_pix</th>\n",
       "      <th>dist_cm</th>\n",
       "      <th>scientificName</th>\n",
       "      <th>...</th>\n",
       "      <th>plotID</th>\n",
       "      <th>user_name</th>\n",
       "      <th>workflow_id</th>\n",
       "      <th>genus</th>\n",
       "      <th>individualID</th>\n",
       "      <th>duplicate</th>\n",
       "      <th>coords_dupe</th>\n",
       "      <th>dupeID</th>\n",
       "      <th>elytraLength</th>\n",
       "      <th>elytraWidth</th>\n",
       "    </tr>\n",
       "  </thead>\n",
       "  <tbody>\n",
       "    <tr>\n",
       "      <th>14542</th>\n",
       "      <td>A00000046078.jpg</td>\n",
       "      <td>{\"x1\": 1242, \"y1\": 307, \"x2\": 1335, \"y2\": 305}</td>\n",
       "      <td>93.021503</td>\n",
       "      <td>10</td>\n",
       "      <td>ElytraLength</td>\n",
       "      <td>Yes</td>\n",
       "      <td>{\"x1\": 1575, \"y1\": 797, \"x2\": 1570, \"y2\": 830}</td>\n",
       "      <td>33.376639</td>\n",
       "      <td>0.358806</td>\n",
       "      <td>Pterostichus lachrymosus</td>\n",
       "      <td>...</td>\n",
       "      <td>MLBS_009</td>\n",
       "      <td>IsaFluck</td>\n",
       "      <td>21840</td>\n",
       "      <td>Pterostichus</td>\n",
       "      <td>A00000046078_10</td>\n",
       "      <td>False</td>\n",
       "      <td>False</td>\n",
       "      <td>False</td>\n",
       "      <td>0.358806</td>\n",
       "      <td>0.81652</td>\n",
       "    </tr>\n",
       "  </tbody>\n",
       "</table>\n",
       "<p>1 rows × 23 columns</p>\n",
       "</div>"
      ],
      "text/plain": [
       "              PictureID                                        scalebar  \\\n",
       "14542  A00000046078.jpg  {\"x1\": 1242, \"y1\": 307, \"x2\": 1335, \"y2\": 305}   \n",
       "\n",
       "       scale_dist_pix  individual     structure lyingstraight  \\\n",
       "14542       93.021503          10  ElytraLength           Yes   \n",
       "\n",
       "                                           coords_pix   dist_pix   dist_cm  \\\n",
       "14542  {\"x1\": 1575, \"y1\": 797, \"x2\": 1570, \"y2\": 830}  33.376639  0.358806   \n",
       "\n",
       "                 scientificName  ...    plotID user_name workflow_id  \\\n",
       "14542  Pterostichus lachrymosus  ...  MLBS_009  IsaFluck       21840   \n",
       "\n",
       "              genus     individualID  duplicate coords_dupe dupeID  \\\n",
       "14542  Pterostichus  A00000046078_10      False       False  False   \n",
       "\n",
       "       elytraLength  elytraWidth  \n",
       "14542      0.358806      0.81652  \n",
       "\n",
       "[1 rows x 23 columns]"
      ]
     },
     "execution_count": 20,
     "metadata": {},
     "output_type": "execute_result"
    }
   ],
   "source": [
    "individual_count_df.loc[(individual_count_df[\"elytraWidth\"] > .8) & (individual_count_df[\"elytraLength\"] < .5)]"
   ]
  },
  {
   "cell_type": "code",
   "execution_count": 21,
   "metadata": {},
   "outputs": [
    {
     "data": {
      "text/html": [
       "<div>\n",
       "<style scoped>\n",
       "    .dataframe tbody tr th:only-of-type {\n",
       "        vertical-align: middle;\n",
       "    }\n",
       "\n",
       "    .dataframe tbody tr th {\n",
       "        vertical-align: top;\n",
       "    }\n",
       "\n",
       "    .dataframe thead th {\n",
       "        text-align: right;\n",
       "    }\n",
       "</style>\n",
       "<table border=\"1\" class=\"dataframe\">\n",
       "  <thead>\n",
       "    <tr style=\"text-align: right;\">\n",
       "      <th></th>\n",
       "      <th>PictureID</th>\n",
       "      <th>scalebar</th>\n",
       "      <th>scale_dist_pix</th>\n",
       "      <th>individual</th>\n",
       "      <th>structure</th>\n",
       "      <th>lyingstraight</th>\n",
       "      <th>coords_pix</th>\n",
       "      <th>dist_pix</th>\n",
       "      <th>dist_cm</th>\n",
       "      <th>scientificName</th>\n",
       "      <th>...</th>\n",
       "      <th>field_site_name</th>\n",
       "      <th>plotID</th>\n",
       "      <th>user_name</th>\n",
       "      <th>workflow_id</th>\n",
       "      <th>genus</th>\n",
       "      <th>individualID</th>\n",
       "      <th>duplicate</th>\n",
       "      <th>coords_dupe</th>\n",
       "      <th>dupeID</th>\n",
       "      <th>file_name</th>\n",
       "    </tr>\n",
       "  </thead>\n",
       "  <tbody>\n",
       "    <tr>\n",
       "      <th>14542</th>\n",
       "      <td>A00000046078.jpg</td>\n",
       "      <td>{\"x1\": 1242, \"y1\": 307, \"x2\": 1335, \"y2\": 305}</td>\n",
       "      <td>93.021503</td>\n",
       "      <td>10</td>\n",
       "      <td>ElytraLength</td>\n",
       "      <td>Yes</td>\n",
       "      <td>{\"x1\": 1575, \"y1\": 797, \"x2\": 1570, \"y2\": 830}</td>\n",
       "      <td>33.376639</td>\n",
       "      <td>0.358806</td>\n",
       "      <td>Pterostichus lachrymosus</td>\n",
       "      <td>...</td>\n",
       "      <td>Mountain Lake Biological Station NEON</td>\n",
       "      <td>MLBS_009</td>\n",
       "      <td>IsaFluck</td>\n",
       "      <td>21840</td>\n",
       "      <td>Pterostichus</td>\n",
       "      <td>A00000046078_10</td>\n",
       "      <td>False</td>\n",
       "      <td>False</td>\n",
       "      <td>False</td>\n",
       "      <td>group_images/A00000046078.jpg</td>\n",
       "    </tr>\n",
       "    <tr>\n",
       "      <th>14543</th>\n",
       "      <td>A00000046078.jpg</td>\n",
       "      <td>{\"x1\": 1242, \"y1\": 307, \"x2\": 1335, \"y2\": 305}</td>\n",
       "      <td>93.021503</td>\n",
       "      <td>10</td>\n",
       "      <td>ElytraWidth</td>\n",
       "      <td>Yes</td>\n",
       "      <td>{\"x1\": 1574, \"y1\": 812, \"x2\": 1649, \"y2\": 824}</td>\n",
       "      <td>75.953933</td>\n",
       "      <td>0.816520</td>\n",
       "      <td>Pterostichus lachrymosus</td>\n",
       "      <td>...</td>\n",
       "      <td>Mountain Lake Biological Station NEON</td>\n",
       "      <td>MLBS_009</td>\n",
       "      <td>IsaFluck</td>\n",
       "      <td>21840</td>\n",
       "      <td>Pterostichus</td>\n",
       "      <td>A00000046078_10</td>\n",
       "      <td>False</td>\n",
       "      <td>False</td>\n",
       "      <td>True</td>\n",
       "      <td>group_images/A00000046078.jpg</td>\n",
       "    </tr>\n",
       "    <tr>\n",
       "      <th>14564</th>\n",
       "      <td>A00000046078.jpg</td>\n",
       "      <td>{\"x1\": 1242, \"y1\": 308, \"x2\": 1338, \"y2\": 306}</td>\n",
       "      <td>96.020831</td>\n",
       "      <td>10</td>\n",
       "      <td>ElytraLength</td>\n",
       "      <td>No</td>\n",
       "      <td>{\"x1\": 1575, \"y1\": 813, \"x2\": 1648, \"y2\": 823}</td>\n",
       "      <td>73.681748</td>\n",
       "      <td>0.767352</td>\n",
       "      <td>Pterostichus lachrymosus</td>\n",
       "      <td>...</td>\n",
       "      <td>Mountain Lake Biological Station NEON</td>\n",
       "      <td>MLBS_009</td>\n",
       "      <td>ishachinniah</td>\n",
       "      <td>21840</td>\n",
       "      <td>Pterostichus</td>\n",
       "      <td>A00000046078_10</td>\n",
       "      <td>False</td>\n",
       "      <td>False</td>\n",
       "      <td>True</td>\n",
       "      <td>group_images/A00000046078.jpg</td>\n",
       "    </tr>\n",
       "    <tr>\n",
       "      <th>14565</th>\n",
       "      <td>A00000046078.jpg</td>\n",
       "      <td>{\"x1\": 1242, \"y1\": 308, \"x2\": 1338, \"y2\": 306}</td>\n",
       "      <td>96.020831</td>\n",
       "      <td>10</td>\n",
       "      <td>ElytraWidth</td>\n",
       "      <td>No</td>\n",
       "      <td>{\"x1\": 1568, \"y1\": 827, \"x2\": 1572, \"y2\": 798}</td>\n",
       "      <td>29.274562</td>\n",
       "      <td>0.304877</td>\n",
       "      <td>Pterostichus lachrymosus</td>\n",
       "      <td>...</td>\n",
       "      <td>Mountain Lake Biological Station NEON</td>\n",
       "      <td>MLBS_009</td>\n",
       "      <td>ishachinniah</td>\n",
       "      <td>21840</td>\n",
       "      <td>Pterostichus</td>\n",
       "      <td>A00000046078_10</td>\n",
       "      <td>False</td>\n",
       "      <td>False</td>\n",
       "      <td>True</td>\n",
       "      <td>group_images/A00000046078.jpg</td>\n",
       "    </tr>\n",
       "    <tr>\n",
       "      <th>14586</th>\n",
       "      <td>A00000046078.jpg</td>\n",
       "      <td>{\"x1\": 948, \"y1\": 316, \"x2\": 1048, \"y2\": 313}</td>\n",
       "      <td>100.044990</td>\n",
       "      <td>10</td>\n",
       "      <td>ElytraLength</td>\n",
       "      <td>Yes</td>\n",
       "      <td>{\"x1\": 1575, \"y1\": 814, \"x2\": 1648, \"y2\": 824}</td>\n",
       "      <td>73.681748</td>\n",
       "      <td>0.736486</td>\n",
       "      <td>Pterostichus lachrymosus</td>\n",
       "      <td>...</td>\n",
       "      <td>Mountain Lake Biological Station NEON</td>\n",
       "      <td>MLBS_009</td>\n",
       "      <td>rileywolcheski</td>\n",
       "      <td>21840</td>\n",
       "      <td>Pterostichus</td>\n",
       "      <td>A00000046078_10</td>\n",
       "      <td>False</td>\n",
       "      <td>False</td>\n",
       "      <td>True</td>\n",
       "      <td>group_images/A00000046078.jpg</td>\n",
       "    </tr>\n",
       "    <tr>\n",
       "      <th>14587</th>\n",
       "      <td>A00000046078.jpg</td>\n",
       "      <td>{\"x1\": 948, \"y1\": 316, \"x2\": 1048, \"y2\": 313}</td>\n",
       "      <td>100.044990</td>\n",
       "      <td>10</td>\n",
       "      <td>ElytraWidth</td>\n",
       "      <td>Yes</td>\n",
       "      <td>{\"x1\": 1574, \"y1\": 799, \"x2\": 1570, \"y2\": 830}</td>\n",
       "      <td>31.256999</td>\n",
       "      <td>0.312429</td>\n",
       "      <td>Pterostichus lachrymosus</td>\n",
       "      <td>...</td>\n",
       "      <td>Mountain Lake Biological Station NEON</td>\n",
       "      <td>MLBS_009</td>\n",
       "      <td>rileywolcheski</td>\n",
       "      <td>21840</td>\n",
       "      <td>Pterostichus</td>\n",
       "      <td>A00000046078_10</td>\n",
       "      <td>False</td>\n",
       "      <td>False</td>\n",
       "      <td>True</td>\n",
       "      <td>group_images/A00000046078.jpg</td>\n",
       "    </tr>\n",
       "  </tbody>\n",
       "</table>\n",
       "<p>6 rows × 22 columns</p>\n",
       "</div>"
      ],
      "text/plain": [
       "              PictureID                                        scalebar  \\\n",
       "14542  A00000046078.jpg  {\"x1\": 1242, \"y1\": 307, \"x2\": 1335, \"y2\": 305}   \n",
       "14543  A00000046078.jpg  {\"x1\": 1242, \"y1\": 307, \"x2\": 1335, \"y2\": 305}   \n",
       "14564  A00000046078.jpg  {\"x1\": 1242, \"y1\": 308, \"x2\": 1338, \"y2\": 306}   \n",
       "14565  A00000046078.jpg  {\"x1\": 1242, \"y1\": 308, \"x2\": 1338, \"y2\": 306}   \n",
       "14586  A00000046078.jpg   {\"x1\": 948, \"y1\": 316, \"x2\": 1048, \"y2\": 313}   \n",
       "14587  A00000046078.jpg   {\"x1\": 948, \"y1\": 316, \"x2\": 1048, \"y2\": 313}   \n",
       "\n",
       "       scale_dist_pix  individual     structure lyingstraight  \\\n",
       "14542       93.021503          10  ElytraLength           Yes   \n",
       "14543       93.021503          10   ElytraWidth           Yes   \n",
       "14564       96.020831          10  ElytraLength            No   \n",
       "14565       96.020831          10   ElytraWidth            No   \n",
       "14586      100.044990          10  ElytraLength           Yes   \n",
       "14587      100.044990          10   ElytraWidth           Yes   \n",
       "\n",
       "                                           coords_pix   dist_pix   dist_cm  \\\n",
       "14542  {\"x1\": 1575, \"y1\": 797, \"x2\": 1570, \"y2\": 830}  33.376639  0.358806   \n",
       "14543  {\"x1\": 1574, \"y1\": 812, \"x2\": 1649, \"y2\": 824}  75.953933  0.816520   \n",
       "14564  {\"x1\": 1575, \"y1\": 813, \"x2\": 1648, \"y2\": 823}  73.681748  0.767352   \n",
       "14565  {\"x1\": 1568, \"y1\": 827, \"x2\": 1572, \"y2\": 798}  29.274562  0.304877   \n",
       "14586  {\"x1\": 1575, \"y1\": 814, \"x2\": 1648, \"y2\": 824}  73.681748  0.736486   \n",
       "14587  {\"x1\": 1574, \"y1\": 799, \"x2\": 1570, \"y2\": 830}  31.256999  0.312429   \n",
       "\n",
       "                 scientificName  ...                        field_site_name  \\\n",
       "14542  Pterostichus lachrymosus  ...  Mountain Lake Biological Station NEON   \n",
       "14543  Pterostichus lachrymosus  ...  Mountain Lake Biological Station NEON   \n",
       "14564  Pterostichus lachrymosus  ...  Mountain Lake Biological Station NEON   \n",
       "14565  Pterostichus lachrymosus  ...  Mountain Lake Biological Station NEON   \n",
       "14586  Pterostichus lachrymosus  ...  Mountain Lake Biological Station NEON   \n",
       "14587  Pterostichus lachrymosus  ...  Mountain Lake Biological Station NEON   \n",
       "\n",
       "         plotID       user_name workflow_id         genus     individualID  \\\n",
       "14542  MLBS_009        IsaFluck       21840  Pterostichus  A00000046078_10   \n",
       "14543  MLBS_009        IsaFluck       21840  Pterostichus  A00000046078_10   \n",
       "14564  MLBS_009    ishachinniah       21840  Pterostichus  A00000046078_10   \n",
       "14565  MLBS_009    ishachinniah       21840  Pterostichus  A00000046078_10   \n",
       "14586  MLBS_009  rileywolcheski       21840  Pterostichus  A00000046078_10   \n",
       "14587  MLBS_009  rileywolcheski       21840  Pterostichus  A00000046078_10   \n",
       "\n",
       "      duplicate coords_dupe  dupeID                      file_name  \n",
       "14542     False       False   False  group_images/A00000046078.jpg  \n",
       "14543     False       False    True  group_images/A00000046078.jpg  \n",
       "14564     False       False    True  group_images/A00000046078.jpg  \n",
       "14565     False       False    True  group_images/A00000046078.jpg  \n",
       "14586     False       False    True  group_images/A00000046078.jpg  \n",
       "14587     False       False    True  group_images/A00000046078.jpg  \n",
       "\n",
       "[6 rows x 22 columns]"
      ]
     },
     "execution_count": 21,
     "metadata": {},
     "output_type": "execute_result"
    }
   ],
   "source": [
    "df.loc[df[\"individualID\"] == \"A00000046078_10\"]"
   ]
  },
  {
   "cell_type": "markdown",
   "metadata": {},
   "source": [
    "Ahh, `A00000046078_10` was annotated 3 times and had length and width transposed for one of the measurements! (likely just the one and the other two are correct, since they're generally longer than wide---the width isn't at the widest point)\n",
    "\n",
    "\n",
    "Big note to address the annotations!!\n",
    "\n",
    "\n",
    "### Save updated CSV with 3 new columns"
   ]
  },
  {
   "cell_type": "code",
   "execution_count": 22,
   "metadata": {},
   "outputs": [
    {
     "data": {
      "text/plain": [
       "Index(['PictureID', 'scalebar', 'scale_dist_pix', 'individual', 'structure',\n",
       "       'lyingstraight', 'coords_pix', 'dist_pix', 'dist_cm', 'scientificName',\n",
       "       'NEON_sampleID_', 'siteID', 'field_site_name', 'plotID', 'user_name',\n",
       "       'workflow_id', 'genus', 'individualID', 'duplicate', 'coords_dupe',\n",
       "       'dupeID', 'file_name'],\n",
       "      dtype='object')"
      ]
     },
     "execution_count": 22,
     "metadata": {},
     "output_type": "execute_result"
    }
   ],
   "source": [
    "df.columns"
   ]
  },
  {
   "cell_type": "markdown",
   "metadata": {},
   "source": [
    "We'll save the column rename until after a conversation with the team, but let's save this updated copy (without the duplicate markers)."
   ]
  },
  {
   "cell_type": "code",
   "execution_count": 23,
   "metadata": {},
   "outputs": [],
   "source": [
    "cols_to_keep = [col for col in list(df.columns) if col not in ['duplicate', 'coords_dupe', 'dupeID']]\n",
    "df[cols_to_keep].to_csv(\"../data/BeetleMeasurements.csv\", index = False)"
   ]
  },
  {
   "cell_type": "code",
   "execution_count": null,
   "metadata": {},
   "outputs": [],
   "source": []
  },
  {
   "cell_type": "markdown",
   "metadata": {},
   "source": [
    "## Re-open to Add Species and Update Column Names\n",
    "\n",
    "We'll add a species column to more easily identify those labeled only to the genus level. Additionally, we will standardize the column names: ID values will be camelCase and we'll set the remainder with underscores (there's a bit of variety, but NEON seems to use camelCase for the IDs (location & type of measurement): https://www.neonscience.org/data-samples/data-management/data-formats-conventions)."
   ]
  },
  {
   "cell_type": "code",
   "execution_count": 2,
   "metadata": {},
   "outputs": [
    {
     "data": {
      "text/html": [
       "<div>\n",
       "<style scoped>\n",
       "    .dataframe tbody tr th:only-of-type {\n",
       "        vertical-align: middle;\n",
       "    }\n",
       "\n",
       "    .dataframe tbody tr th {\n",
       "        vertical-align: top;\n",
       "    }\n",
       "\n",
       "    .dataframe thead th {\n",
       "        text-align: right;\n",
       "    }\n",
       "</style>\n",
       "<table border=\"1\" class=\"dataframe\">\n",
       "  <thead>\n",
       "    <tr style=\"text-align: right;\">\n",
       "      <th></th>\n",
       "      <th>PictureID</th>\n",
       "      <th>scalebar</th>\n",
       "      <th>scale_dist_pix</th>\n",
       "      <th>individual</th>\n",
       "      <th>structure</th>\n",
       "      <th>lyingstraight</th>\n",
       "      <th>coords_pix</th>\n",
       "      <th>dist_pix</th>\n",
       "      <th>dist_cm</th>\n",
       "      <th>scientificName</th>\n",
       "      <th>NEON_sampleID_</th>\n",
       "      <th>siteID</th>\n",
       "      <th>field_site_name</th>\n",
       "      <th>plotID</th>\n",
       "      <th>user_name</th>\n",
       "      <th>workflow_id</th>\n",
       "      <th>genus</th>\n",
       "      <th>individualID</th>\n",
       "      <th>file_name</th>\n",
       "    </tr>\n",
       "  </thead>\n",
       "  <tbody>\n",
       "    <tr>\n",
       "      <th>0</th>\n",
       "      <td>A00000032929.jpg</td>\n",
       "      <td>{\"x1\": 815, \"y1\": 244, \"x2\": 892, \"y2\": 244}</td>\n",
       "      <td>77.0</td>\n",
       "      <td>1</td>\n",
       "      <td>ElytraLength</td>\n",
       "      <td>Yes</td>\n",
       "      <td>{\"x1\": 1055, \"y1\": 154, \"x2\": 1163, \"y2\": 149}</td>\n",
       "      <td>108.115679</td>\n",
       "      <td>1.404100</td>\n",
       "      <td>Carabus goryi</td>\n",
       "      <td>HARV_001.20180605.CARGOR.01</td>\n",
       "      <td>HARV</td>\n",
       "      <td>Harvard Forest &amp; Quabbin Watershed NEON</td>\n",
       "      <td>HARV_001</td>\n",
       "      <td>IsaFluck</td>\n",
       "      <td>21652</td>\n",
       "      <td>Carabus</td>\n",
       "      <td>A00000032929_1</td>\n",
       "      <td>group_images/A00000032929.jpg</td>\n",
       "    </tr>\n",
       "    <tr>\n",
       "      <th>1</th>\n",
       "      <td>A00000032929.jpg</td>\n",
       "      <td>{\"x1\": 815, \"y1\": 244, \"x2\": 892, \"y2\": 244}</td>\n",
       "      <td>77.0</td>\n",
       "      <td>1</td>\n",
       "      <td>ElytraWidth</td>\n",
       "      <td>Yes</td>\n",
       "      <td>{\"x1\": 1053, \"y1\": 129, \"x2\": 1057, \"y2\": 179}</td>\n",
       "      <td>50.159745</td>\n",
       "      <td>0.651425</td>\n",
       "      <td>Carabus goryi</td>\n",
       "      <td>HARV_001.20180605.CARGOR.01</td>\n",
       "      <td>HARV</td>\n",
       "      <td>Harvard Forest &amp; Quabbin Watershed NEON</td>\n",
       "      <td>HARV_001</td>\n",
       "      <td>IsaFluck</td>\n",
       "      <td>21652</td>\n",
       "      <td>Carabus</td>\n",
       "      <td>A00000032929_1</td>\n",
       "      <td>group_images/A00000032929.jpg</td>\n",
       "    </tr>\n",
       "    <tr>\n",
       "      <th>2</th>\n",
       "      <td>A00000032929.jpg</td>\n",
       "      <td>{\"x1\": 815, \"y1\": 244, \"x2\": 892, \"y2\": 244}</td>\n",
       "      <td>77.0</td>\n",
       "      <td>2</td>\n",
       "      <td>ElytraLength</td>\n",
       "      <td>Yes</td>\n",
       "      <td>{\"x1\": 1390, \"y1\": 150, \"x2\": 1314, \"y2\": 241}</td>\n",
       "      <td>118.562220</td>\n",
       "      <td>1.539769</td>\n",
       "      <td>Carabus goryi</td>\n",
       "      <td>HARV_001.20180605.CARGOR.01</td>\n",
       "      <td>HARV</td>\n",
       "      <td>Harvard Forest &amp; Quabbin Watershed NEON</td>\n",
       "      <td>HARV_001</td>\n",
       "      <td>IsaFluck</td>\n",
       "      <td>21652</td>\n",
       "      <td>Carabus</td>\n",
       "      <td>A00000032929_2</td>\n",
       "      <td>group_images/A00000032929.jpg</td>\n",
       "    </tr>\n",
       "    <tr>\n",
       "      <th>3</th>\n",
       "      <td>A00000032929.jpg</td>\n",
       "      <td>{\"x1\": 815, \"y1\": 244, \"x2\": 892, \"y2\": 244}</td>\n",
       "      <td>77.0</td>\n",
       "      <td>2</td>\n",
       "      <td>ElytraWidth</td>\n",
       "      <td>Yes</td>\n",
       "      <td>{\"x1\": 1369, \"y1\": 136, \"x2\": 1407, \"y2\": 169}</td>\n",
       "      <td>50.328918</td>\n",
       "      <td>0.653622</td>\n",
       "      <td>Carabus goryi</td>\n",
       "      <td>HARV_001.20180605.CARGOR.01</td>\n",
       "      <td>HARV</td>\n",
       "      <td>Harvard Forest &amp; Quabbin Watershed NEON</td>\n",
       "      <td>HARV_001</td>\n",
       "      <td>IsaFluck</td>\n",
       "      <td>21652</td>\n",
       "      <td>Carabus</td>\n",
       "      <td>A00000032929_2</td>\n",
       "      <td>group_images/A00000032929.jpg</td>\n",
       "    </tr>\n",
       "    <tr>\n",
       "      <th>4</th>\n",
       "      <td>A00000032929.jpg</td>\n",
       "      <td>{\"x1\": 815, \"y1\": 244, \"x2\": 892, \"y2\": 244}</td>\n",
       "      <td>77.0</td>\n",
       "      <td>3</td>\n",
       "      <td>ElytraLength</td>\n",
       "      <td>Yes</td>\n",
       "      <td>{\"x1\": 507, \"y1\": 378, \"x2\": 501, \"y2\": 487}</td>\n",
       "      <td>109.165013</td>\n",
       "      <td>1.417727</td>\n",
       "      <td>Carabus goryi</td>\n",
       "      <td>HARV_001.20180605.CARGOR.01</td>\n",
       "      <td>HARV</td>\n",
       "      <td>Harvard Forest &amp; Quabbin Watershed NEON</td>\n",
       "      <td>HARV_001</td>\n",
       "      <td>IsaFluck</td>\n",
       "      <td>21652</td>\n",
       "      <td>Carabus</td>\n",
       "      <td>A00000032929_3</td>\n",
       "      <td>group_images/A00000032929.jpg</td>\n",
       "    </tr>\n",
       "  </tbody>\n",
       "</table>\n",
       "</div>"
      ],
      "text/plain": [
       "          PictureID                                      scalebar  \\\n",
       "0  A00000032929.jpg  {\"x1\": 815, \"y1\": 244, \"x2\": 892, \"y2\": 244}   \n",
       "1  A00000032929.jpg  {\"x1\": 815, \"y1\": 244, \"x2\": 892, \"y2\": 244}   \n",
       "2  A00000032929.jpg  {\"x1\": 815, \"y1\": 244, \"x2\": 892, \"y2\": 244}   \n",
       "3  A00000032929.jpg  {\"x1\": 815, \"y1\": 244, \"x2\": 892, \"y2\": 244}   \n",
       "4  A00000032929.jpg  {\"x1\": 815, \"y1\": 244, \"x2\": 892, \"y2\": 244}   \n",
       "\n",
       "   scale_dist_pix  individual     structure lyingstraight  \\\n",
       "0            77.0           1  ElytraLength           Yes   \n",
       "1            77.0           1   ElytraWidth           Yes   \n",
       "2            77.0           2  ElytraLength           Yes   \n",
       "3            77.0           2   ElytraWidth           Yes   \n",
       "4            77.0           3  ElytraLength           Yes   \n",
       "\n",
       "                                       coords_pix    dist_pix   dist_cm  \\\n",
       "0  {\"x1\": 1055, \"y1\": 154, \"x2\": 1163, \"y2\": 149}  108.115679  1.404100   \n",
       "1  {\"x1\": 1053, \"y1\": 129, \"x2\": 1057, \"y2\": 179}   50.159745  0.651425   \n",
       "2  {\"x1\": 1390, \"y1\": 150, \"x2\": 1314, \"y2\": 241}  118.562220  1.539769   \n",
       "3  {\"x1\": 1369, \"y1\": 136, \"x2\": 1407, \"y2\": 169}   50.328918  0.653622   \n",
       "4    {\"x1\": 507, \"y1\": 378, \"x2\": 501, \"y2\": 487}  109.165013  1.417727   \n",
       "\n",
       "  scientificName               NEON_sampleID_ siteID  \\\n",
       "0  Carabus goryi  HARV_001.20180605.CARGOR.01   HARV   \n",
       "1  Carabus goryi  HARV_001.20180605.CARGOR.01   HARV   \n",
       "2  Carabus goryi  HARV_001.20180605.CARGOR.01   HARV   \n",
       "3  Carabus goryi  HARV_001.20180605.CARGOR.01   HARV   \n",
       "4  Carabus goryi  HARV_001.20180605.CARGOR.01   HARV   \n",
       "\n",
       "                           field_site_name    plotID user_name  workflow_id  \\\n",
       "0  Harvard Forest & Quabbin Watershed NEON  HARV_001  IsaFluck        21652   \n",
       "1  Harvard Forest & Quabbin Watershed NEON  HARV_001  IsaFluck        21652   \n",
       "2  Harvard Forest & Quabbin Watershed NEON  HARV_001  IsaFluck        21652   \n",
       "3  Harvard Forest & Quabbin Watershed NEON  HARV_001  IsaFluck        21652   \n",
       "4  Harvard Forest & Quabbin Watershed NEON  HARV_001  IsaFluck        21652   \n",
       "\n",
       "     genus    individualID                      file_name  \n",
       "0  Carabus  A00000032929_1  group_images/A00000032929.jpg  \n",
       "1  Carabus  A00000032929_1  group_images/A00000032929.jpg  \n",
       "2  Carabus  A00000032929_2  group_images/A00000032929.jpg  \n",
       "3  Carabus  A00000032929_2  group_images/A00000032929.jpg  \n",
       "4  Carabus  A00000032929_3  group_images/A00000032929.jpg  "
      ]
     },
     "execution_count": 2,
     "metadata": {},
     "output_type": "execute_result"
    }
   ],
   "source": [
    "df = pd.read_csv(\"https://huggingface.co/datasets/imageomics/BeetlePalooza/resolve/190cfc9c71b813b8faa338d251d3d02ee8dc14a9/BeetleMeasurements.csv\", low_memory = False)\n",
    "df.head()"
   ]
  },
  {
   "cell_type": "code",
   "execution_count": 3,
   "metadata": {},
   "outputs": [],
   "source": [
    "import numpy as np"
   ]
  },
  {
   "cell_type": "code",
   "execution_count": 4,
   "metadata": {},
   "outputs": [],
   "source": [
    "longer_sp_names = []\n",
    "\n",
    "def get_species(sciName):\n",
    "    if (type(sciName) != float) and (\"sp.\" not in sciName):\n",
    "        names = sciName.split(\" \")\n",
    "        if len(names) == 2:\n",
    "            return(names[1])\n",
    "        elif len(names) > 2:\n",
    "            longer_sp_names.append(sciName)\n",
    "            genus_ = names[0] + \" \"\n",
    "            return sciName.split(sep = genus_)[1]\n",
    "    return np.nan"
   ]
  },
  {
   "cell_type": "code",
   "execution_count": 5,
   "metadata": {},
   "outputs": [
    {
     "name": "stdout",
     "output_type": "stream",
     "text": [
      "Among our 36 unique genera we have 78 unique species\n",
      "There are 6 species labels longer than one word; their scientific names are: {'Dicaelus dilatatus sinuatus', 'Carabus maeander maeander', 'Pterostichus melanarius melanarius', 'Dicaelus furvus furvus', 'Carabus nemoralis nemoralis', 'Pterostichus acutipes acutipes'}\n",
      "We have 27 individuals not labeled to the species level; 17 of them don't even have a scientific name label.\n"
     ]
    }
   ],
   "source": [
    "df[\"species\"] = df[\"scientificName\"].apply(get_species)\n",
    "print(f\"Among our 36 unique genera we have {df['species'].nunique()} unique species\")\n",
    "print(f\"There are {len(set(longer_sp_names))} species labels longer than one word; their scientific names are: {set(longer_sp_names)}\")\n",
    "print(f\"We have {df.loc[df['species'].isna(), 'individualID'].nunique()} individuals not labeled to the species level; {df.loc[(df['species'].isna()) & (df['scientificName'].isna()), 'individualID'].nunique()} of them don't even have a scientific name label.\")"
   ]
  },
  {
   "cell_type": "code",
   "execution_count": 6,
   "metadata": {},
   "outputs": [
    {
     "data": {
      "text/plain": [
       "scientificName\n",
       "Paraclivina sp.                6\n",
       "Pterostichus (Abacidus) sp.    6\n",
       "Carabidae sp.                  6\n",
       "Discoderus sp.                 6\n",
       "Apristus sp.                   2\n",
       "Loxandrus sp.                  2\n",
       "Name: count, dtype: int64"
      ]
     },
     "execution_count": 6,
     "metadata": {},
     "output_type": "execute_result"
    }
   ],
   "source": [
    "df.loc[(df[\"species\"].isna()),\"scientificName\"].value_counts()\n"
   ]
  },
  {
   "cell_type": "code",
   "execution_count": 7,
   "metadata": {},
   "outputs": [
    {
     "data": {
      "text/plain": [
       "False"
      ]
     },
     "execution_count": 7,
     "metadata": {},
     "output_type": "execute_result"
    }
   ],
   "source": [
    "\"Abacidus\" in list(df[\"genus\"].unique())"
   ]
  },
  {
   "cell_type": "markdown",
   "metadata": {},
   "source": [
    "`Abacidus` seems to be a subgenus of `Pterostichus` ([ref](https://bugguide.net/node/view/1740293)). Those counts seem a bit low for the number of individuals in images..."
   ]
  },
  {
   "cell_type": "code",
   "execution_count": 8,
   "metadata": {},
   "outputs": [
    {
     "data": {
      "text/plain": [
       "False"
      ]
     },
     "execution_count": 8,
     "metadata": {},
     "output_type": "execute_result"
    }
   ],
   "source": [
    "\"sp\" in list(df[\"species\"].unique())"
   ]
  },
  {
   "cell_type": "code",
   "execution_count": 9,
   "metadata": {},
   "outputs": [
    {
     "data": {
      "text/plain": [
       "False"
      ]
     },
     "execution_count": 9,
     "metadata": {},
     "output_type": "execute_result"
    }
   ],
   "source": [
    "\"(\" in list(df[\"species\"].unique())"
   ]
  },
  {
   "cell_type": "code",
   "execution_count": 10,
   "metadata": {},
   "outputs": [
    {
     "data": {
      "text/plain": [
       "62"
      ]
     },
     "execution_count": 10,
     "metadata": {},
     "output_type": "execute_result"
    }
   ],
   "source": [
    "df[\"species\"].isna().sum()"
   ]
  },
  {
   "cell_type": "markdown",
   "metadata": {},
   "source": [
    "Total of 62 entries missing species, but it's only 27 individuals (it would seem), and we got one subgenus."
   ]
  },
  {
   "cell_type": "code",
   "execution_count": 11,
   "metadata": {},
   "outputs": [
    {
     "data": {
      "text/html": [
       "<div>\n",
       "<style scoped>\n",
       "    .dataframe tbody tr th:only-of-type {\n",
       "        vertical-align: middle;\n",
       "    }\n",
       "\n",
       "    .dataframe tbody tr th {\n",
       "        vertical-align: top;\n",
       "    }\n",
       "\n",
       "    .dataframe thead th {\n",
       "        text-align: right;\n",
       "    }\n",
       "</style>\n",
       "<table border=\"1\" class=\"dataframe\">\n",
       "  <thead>\n",
       "    <tr style=\"text-align: right;\">\n",
       "      <th></th>\n",
       "      <th>PictureID</th>\n",
       "      <th>scalebar</th>\n",
       "      <th>scale_dist_pix</th>\n",
       "      <th>individual</th>\n",
       "      <th>structure</th>\n",
       "      <th>lyingstraight</th>\n",
       "      <th>coords_pix</th>\n",
       "      <th>dist_pix</th>\n",
       "      <th>dist_cm</th>\n",
       "      <th>scientificName</th>\n",
       "      <th>NEON_sampleID_</th>\n",
       "      <th>siteID</th>\n",
       "      <th>field_site_name</th>\n",
       "      <th>plotID</th>\n",
       "      <th>user_name</th>\n",
       "      <th>workflow_id</th>\n",
       "      <th>genus</th>\n",
       "      <th>individualID</th>\n",
       "      <th>file_name</th>\n",
       "      <th>species</th>\n",
       "    </tr>\n",
       "  </thead>\n",
       "  <tbody>\n",
       "    <tr>\n",
       "      <th>13876</th>\n",
       "      <td>A00000012920.jpg</td>\n",
       "      <td>{\"x1\": 386, \"y1\": 283, \"x2\": 470, \"y2\": 281}</td>\n",
       "      <td>84.023806</td>\n",
       "      <td>28</td>\n",
       "      <td>ElytraLength</td>\n",
       "      <td>Yes</td>\n",
       "      <td>{\"x1\": 1203, \"y1\": 1059, \"x2\": 1301, \"y2\": 1093}</td>\n",
       "      <td>103.730420</td>\n",
       "      <td>1.234536</td>\n",
       "      <td>Carabus goryi</td>\n",
       "      <td>MLBS_009.E.20180508.CARGOR.01</td>\n",
       "      <td>MLBS</td>\n",
       "      <td>Mountain Lake Biological Station NEON</td>\n",
       "      <td>MLBS_009</td>\n",
       "      <td>ishachinniah</td>\n",
       "      <td>21840</td>\n",
       "      <td>Carabus</td>\n",
       "      <td>A00000012920_28</td>\n",
       "      <td>group_images/A00000012920.jpg</td>\n",
       "      <td>goryi</td>\n",
       "    </tr>\n",
       "    <tr>\n",
       "      <th>1610</th>\n",
       "      <td>A00000033624.jpg</td>\n",
       "      <td>{\"x1\": 1092, \"y1\": 292, \"x2\": 1216, \"y2\": 293}</td>\n",
       "      <td>124.004032</td>\n",
       "      <td>2</td>\n",
       "      <td>ElytraLength</td>\n",
       "      <td>Yes</td>\n",
       "      <td>{\"x1\": 842, \"y1\": 447, \"x2\": 843, \"y2\": 501}</td>\n",
       "      <td>54.009258</td>\n",
       "      <td>0.435544</td>\n",
       "      <td>Cymindis neglecta</td>\n",
       "      <td>BART_031.20180808.CYMNEG.01</td>\n",
       "      <td>BART</td>\n",
       "      <td>Bartlett Experimental Forest NEON</td>\n",
       "      <td>BART_031</td>\n",
       "      <td>IsaFluck</td>\n",
       "      <td>21652</td>\n",
       "      <td>Cymindis</td>\n",
       "      <td>A00000033624_2</td>\n",
       "      <td>group_images/A00000033624.jpg</td>\n",
       "      <td>neglecta</td>\n",
       "    </tr>\n",
       "    <tr>\n",
       "      <th>12273</th>\n",
       "      <td>A00000046180.jpg</td>\n",
       "      <td>{\"x1\": 803, \"y1\": 262, \"x2\": 884, \"y2\": 262}</td>\n",
       "      <td>81.000000</td>\n",
       "      <td>42</td>\n",
       "      <td>ElytraWidth</td>\n",
       "      <td>Yes</td>\n",
       "      <td>{\"x1\": 1368, \"y1\": 828, \"x2\": 1403, \"y2\": 827}</td>\n",
       "      <td>35.014283</td>\n",
       "      <td>0.432275</td>\n",
       "      <td>Pterostichus lachrymosus</td>\n",
       "      <td>MLBS_009.20180828.PTELAC2.01</td>\n",
       "      <td>MLBS</td>\n",
       "      <td>Mountain Lake Biological Station NEON</td>\n",
       "      <td>MLBS_009</td>\n",
       "      <td>IsaFluck</td>\n",
       "      <td>21840</td>\n",
       "      <td>Pterostichus</td>\n",
       "      <td>A00000046180_42</td>\n",
       "      <td>group_images/A00000046180.jpg</td>\n",
       "      <td>lachrymosus</td>\n",
       "    </tr>\n",
       "    <tr>\n",
       "      <th>32950</th>\n",
       "      <td>A00000008962.jpg</td>\n",
       "      <td>{\"x1\": 1135, \"y1\": 303, \"x2\": 1221, \"y2\": 303}</td>\n",
       "      <td>86.000000</td>\n",
       "      <td>9</td>\n",
       "      <td>ElytraLength</td>\n",
       "      <td>Yes</td>\n",
       "      <td>{\"x1\": 1640, \"y1\": 450, \"x2\": 1646, \"y2\": 531}</td>\n",
       "      <td>81.221918</td>\n",
       "      <td>0.944441</td>\n",
       "      <td>Pterostichus melanarius melanarius</td>\n",
       "      <td>STEI_001.20180710.PTEMEL.01</td>\n",
       "      <td>STEI</td>\n",
       "      <td>Steigerwaldt-Chequamegon NEON</td>\n",
       "      <td>STEI_001</td>\n",
       "      <td>IsaFluck</td>\n",
       "      <td>22073</td>\n",
       "      <td>Pterostichus</td>\n",
       "      <td>A00000008962_9</td>\n",
       "      <td>group_images/A00000008962.jpg</td>\n",
       "      <td>melanarius melanarius</td>\n",
       "    </tr>\n",
       "    <tr>\n",
       "      <th>33793</th>\n",
       "      <td>A00000051524.jpg</td>\n",
       "      <td>{\"x1\": 1191, \"y1\": 286, \"x2\": 1285, \"y2\": 286}</td>\n",
       "      <td>94.000000</td>\n",
       "      <td>6</td>\n",
       "      <td>ElytraWidth</td>\n",
       "      <td>Yes</td>\n",
       "      <td>{\"x1\": 1640, \"y1\": 379, \"x2\": 1636, \"y2\": 418}</td>\n",
       "      <td>39.204592</td>\n",
       "      <td>0.417070</td>\n",
       "      <td>Anisodactylus rusticus</td>\n",
       "      <td>STER_035.20180614.ANIRUS.01</td>\n",
       "      <td>STER</td>\n",
       "      <td>North Sterling NEON</td>\n",
       "      <td>STER_035</td>\n",
       "      <td>IsaFluck</td>\n",
       "      <td>22073</td>\n",
       "      <td>Anisodactylus</td>\n",
       "      <td>A00000051524_6</td>\n",
       "      <td>group_images/A00000051524.jpg</td>\n",
       "      <td>rusticus</td>\n",
       "    </tr>\n",
       "    <tr>\n",
       "      <th>3383</th>\n",
       "      <td>A00000033639.jpg</td>\n",
       "      <td>{\"x1\": 978, \"y1\": 302, \"x2\": 1108, \"y2\": 302}</td>\n",
       "      <td>130.000000</td>\n",
       "      <td>12</td>\n",
       "      <td>ElytraWidth</td>\n",
       "      <td>Yes</td>\n",
       "      <td>{\"x1\": 1294, \"y1\": 752, \"x2\": 1296, \"y2\": 781}</td>\n",
       "      <td>29.068884</td>\n",
       "      <td>0.223607</td>\n",
       "      <td>Synuchus impunctatus</td>\n",
       "      <td>BART_031.20180808.SYNIMP.01</td>\n",
       "      <td>BART</td>\n",
       "      <td>Bartlett Experimental Forest NEON</td>\n",
       "      <td>BART_031</td>\n",
       "      <td>IsaFluck</td>\n",
       "      <td>21652</td>\n",
       "      <td>Synuchus</td>\n",
       "      <td>A00000033639_12</td>\n",
       "      <td>group_images/A00000033639.jpg</td>\n",
       "      <td>impunctatus</td>\n",
       "    </tr>\n",
       "    <tr>\n",
       "      <th>8613</th>\n",
       "      <td>A00000046092.jpg</td>\n",
       "      <td>{\"x1\": 864, \"y1\": 243, \"x2\": 967, \"y2\": 247}</td>\n",
       "      <td>103.077641</td>\n",
       "      <td>3</td>\n",
       "      <td>ElytraWidth</td>\n",
       "      <td>Yes</td>\n",
       "      <td>{\"x1\": 1061, \"y1\": 433, \"x2\": 1119, \"y2\": 428}</td>\n",
       "      <td>58.215118</td>\n",
       "      <td>0.564770</td>\n",
       "      <td>Carabus goryi</td>\n",
       "      <td>GRSM_022.20180626.CARGOR.01</td>\n",
       "      <td>GRSM</td>\n",
       "      <td>Great Smoky Mountains National Park NEON</td>\n",
       "      <td>GRSM_022</td>\n",
       "      <td>ishachinniah</td>\n",
       "      <td>21840</td>\n",
       "      <td>Carabus</td>\n",
       "      <td>A00000046092_3</td>\n",
       "      <td>group_images/A00000046092.jpg</td>\n",
       "      <td>goryi</td>\n",
       "    </tr>\n",
       "  </tbody>\n",
       "</table>\n",
       "</div>"
      ],
      "text/plain": [
       "              PictureID                                        scalebar  \\\n",
       "13876  A00000012920.jpg    {\"x1\": 386, \"y1\": 283, \"x2\": 470, \"y2\": 281}   \n",
       "1610   A00000033624.jpg  {\"x1\": 1092, \"y1\": 292, \"x2\": 1216, \"y2\": 293}   \n",
       "12273  A00000046180.jpg    {\"x1\": 803, \"y1\": 262, \"x2\": 884, \"y2\": 262}   \n",
       "32950  A00000008962.jpg  {\"x1\": 1135, \"y1\": 303, \"x2\": 1221, \"y2\": 303}   \n",
       "33793  A00000051524.jpg  {\"x1\": 1191, \"y1\": 286, \"x2\": 1285, \"y2\": 286}   \n",
       "3383   A00000033639.jpg   {\"x1\": 978, \"y1\": 302, \"x2\": 1108, \"y2\": 302}   \n",
       "8613   A00000046092.jpg    {\"x1\": 864, \"y1\": 243, \"x2\": 967, \"y2\": 247}   \n",
       "\n",
       "       scale_dist_pix  individual     structure lyingstraight  \\\n",
       "13876       84.023806          28  ElytraLength           Yes   \n",
       "1610       124.004032           2  ElytraLength           Yes   \n",
       "12273       81.000000          42   ElytraWidth           Yes   \n",
       "32950       86.000000           9  ElytraLength           Yes   \n",
       "33793       94.000000           6   ElytraWidth           Yes   \n",
       "3383       130.000000          12   ElytraWidth           Yes   \n",
       "8613       103.077641           3   ElytraWidth           Yes   \n",
       "\n",
       "                                             coords_pix    dist_pix   dist_cm  \\\n",
       "13876  {\"x1\": 1203, \"y1\": 1059, \"x2\": 1301, \"y2\": 1093}  103.730420  1.234536   \n",
       "1610       {\"x1\": 842, \"y1\": 447, \"x2\": 843, \"y2\": 501}   54.009258  0.435544   \n",
       "12273    {\"x1\": 1368, \"y1\": 828, \"x2\": 1403, \"y2\": 827}   35.014283  0.432275   \n",
       "32950    {\"x1\": 1640, \"y1\": 450, \"x2\": 1646, \"y2\": 531}   81.221918  0.944441   \n",
       "33793    {\"x1\": 1640, \"y1\": 379, \"x2\": 1636, \"y2\": 418}   39.204592  0.417070   \n",
       "3383     {\"x1\": 1294, \"y1\": 752, \"x2\": 1296, \"y2\": 781}   29.068884  0.223607   \n",
       "8613     {\"x1\": 1061, \"y1\": 433, \"x2\": 1119, \"y2\": 428}   58.215118  0.564770   \n",
       "\n",
       "                           scientificName                 NEON_sampleID_  \\\n",
       "13876                       Carabus goryi  MLBS_009.E.20180508.CARGOR.01   \n",
       "1610                    Cymindis neglecta    BART_031.20180808.CYMNEG.01   \n",
       "12273            Pterostichus lachrymosus   MLBS_009.20180828.PTELAC2.01   \n",
       "32950  Pterostichus melanarius melanarius    STEI_001.20180710.PTEMEL.01   \n",
       "33793              Anisodactylus rusticus    STER_035.20180614.ANIRUS.01   \n",
       "3383                 Synuchus impunctatus    BART_031.20180808.SYNIMP.01   \n",
       "8613                        Carabus goryi    GRSM_022.20180626.CARGOR.01   \n",
       "\n",
       "      siteID                           field_site_name    plotID  \\\n",
       "13876   MLBS     Mountain Lake Biological Station NEON  MLBS_009   \n",
       "1610    BART         Bartlett Experimental Forest NEON  BART_031   \n",
       "12273   MLBS     Mountain Lake Biological Station NEON  MLBS_009   \n",
       "32950   STEI             Steigerwaldt-Chequamegon NEON  STEI_001   \n",
       "33793   STER                       North Sterling NEON  STER_035   \n",
       "3383    BART         Bartlett Experimental Forest NEON  BART_031   \n",
       "8613    GRSM  Great Smoky Mountains National Park NEON  GRSM_022   \n",
       "\n",
       "          user_name  workflow_id          genus     individualID  \\\n",
       "13876  ishachinniah        21840        Carabus  A00000012920_28   \n",
       "1610       IsaFluck        21652       Cymindis   A00000033624_2   \n",
       "12273      IsaFluck        21840   Pterostichus  A00000046180_42   \n",
       "32950      IsaFluck        22073   Pterostichus   A00000008962_9   \n",
       "33793      IsaFluck        22073  Anisodactylus   A00000051524_6   \n",
       "3383       IsaFluck        21652       Synuchus  A00000033639_12   \n",
       "8613   ishachinniah        21840        Carabus   A00000046092_3   \n",
       "\n",
       "                           file_name                species  \n",
       "13876  group_images/A00000012920.jpg                  goryi  \n",
       "1610   group_images/A00000033624.jpg               neglecta  \n",
       "12273  group_images/A00000046180.jpg            lachrymosus  \n",
       "32950  group_images/A00000008962.jpg  melanarius melanarius  \n",
       "33793  group_images/A00000051524.jpg               rusticus  \n",
       "3383   group_images/A00000033639.jpg            impunctatus  \n",
       "8613   group_images/A00000046092.jpg                  goryi  "
      ]
     },
     "execution_count": 11,
     "metadata": {},
     "output_type": "execute_result"
    }
   ],
   "source": [
    "df.sample(7)"
   ]
  },
  {
   "cell_type": "code",
   "execution_count": 12,
   "metadata": {},
   "outputs": [
    {
     "data": {
      "text/plain": [
       "Index(['PictureID', 'scalebar', 'scale_dist_pix', 'individual', 'structure',\n",
       "       'lyingstraight', 'coords_pix', 'dist_pix', 'dist_cm', 'scientificName',\n",
       "       'NEON_sampleID_', 'siteID', 'field_site_name', 'plotID', 'user_name',\n",
       "       'workflow_id', 'genus', 'individualID', 'file_name', 'species'],\n",
       "      dtype='object')"
      ]
     },
     "execution_count": 12,
     "metadata": {},
     "output_type": "execute_result"
    }
   ],
   "source": [
    "df.columns"
   ]
  },
  {
   "cell_type": "code",
   "execution_count": 13,
   "metadata": {},
   "outputs": [
    {
     "data": {
      "text/html": [
       "<div>\n",
       "<style scoped>\n",
       "    .dataframe tbody tr th:only-of-type {\n",
       "        vertical-align: middle;\n",
       "    }\n",
       "\n",
       "    .dataframe tbody tr th {\n",
       "        vertical-align: top;\n",
       "    }\n",
       "\n",
       "    .dataframe thead th {\n",
       "        text-align: right;\n",
       "    }\n",
       "</style>\n",
       "<table border=\"1\" class=\"dataframe\">\n",
       "  <thead>\n",
       "    <tr style=\"text-align: right;\">\n",
       "      <th></th>\n",
       "      <th>pictureID</th>\n",
       "      <th>scalebar</th>\n",
       "      <th>cm_pix</th>\n",
       "      <th>individual</th>\n",
       "      <th>structure</th>\n",
       "      <th>lying_straight</th>\n",
       "      <th>coords_pix</th>\n",
       "      <th>dist_pix</th>\n",
       "      <th>dist_cm</th>\n",
       "      <th>scientificName</th>\n",
       "      <th>NEON_sampleID</th>\n",
       "      <th>siteID</th>\n",
       "      <th>site_name</th>\n",
       "      <th>plotID</th>\n",
       "      <th>user_name</th>\n",
       "      <th>workflowID</th>\n",
       "      <th>genus</th>\n",
       "      <th>individualID</th>\n",
       "      <th>file_name</th>\n",
       "      <th>species</th>\n",
       "    </tr>\n",
       "  </thead>\n",
       "  <tbody>\n",
       "    <tr>\n",
       "      <th>0</th>\n",
       "      <td>A00000032929.jpg</td>\n",
       "      <td>{\"x1\": 815, \"y1\": 244, \"x2\": 892, \"y2\": 244}</td>\n",
       "      <td>77.0</td>\n",
       "      <td>1</td>\n",
       "      <td>ElytraLength</td>\n",
       "      <td>Yes</td>\n",
       "      <td>{\"x1\": 1055, \"y1\": 154, \"x2\": 1163, \"y2\": 149}</td>\n",
       "      <td>108.115679</td>\n",
       "      <td>1.404100</td>\n",
       "      <td>Carabus goryi</td>\n",
       "      <td>HARV_001.20180605.CARGOR.01</td>\n",
       "      <td>HARV</td>\n",
       "      <td>Harvard Forest &amp; Quabbin Watershed NEON</td>\n",
       "      <td>HARV_001</td>\n",
       "      <td>IsaFluck</td>\n",
       "      <td>21652</td>\n",
       "      <td>Carabus</td>\n",
       "      <td>A00000032929_1</td>\n",
       "      <td>group_images/A00000032929.jpg</td>\n",
       "      <td>goryi</td>\n",
       "    </tr>\n",
       "    <tr>\n",
       "      <th>1</th>\n",
       "      <td>A00000032929.jpg</td>\n",
       "      <td>{\"x1\": 815, \"y1\": 244, \"x2\": 892, \"y2\": 244}</td>\n",
       "      <td>77.0</td>\n",
       "      <td>1</td>\n",
       "      <td>ElytraWidth</td>\n",
       "      <td>Yes</td>\n",
       "      <td>{\"x1\": 1053, \"y1\": 129, \"x2\": 1057, \"y2\": 179}</td>\n",
       "      <td>50.159745</td>\n",
       "      <td>0.651425</td>\n",
       "      <td>Carabus goryi</td>\n",
       "      <td>HARV_001.20180605.CARGOR.01</td>\n",
       "      <td>HARV</td>\n",
       "      <td>Harvard Forest &amp; Quabbin Watershed NEON</td>\n",
       "      <td>HARV_001</td>\n",
       "      <td>IsaFluck</td>\n",
       "      <td>21652</td>\n",
       "      <td>Carabus</td>\n",
       "      <td>A00000032929_1</td>\n",
       "      <td>group_images/A00000032929.jpg</td>\n",
       "      <td>goryi</td>\n",
       "    </tr>\n",
       "  </tbody>\n",
       "</table>\n",
       "</div>"
      ],
      "text/plain": [
       "          pictureID                                      scalebar  cm_pix  \\\n",
       "0  A00000032929.jpg  {\"x1\": 815, \"y1\": 244, \"x2\": 892, \"y2\": 244}    77.0   \n",
       "1  A00000032929.jpg  {\"x1\": 815, \"y1\": 244, \"x2\": 892, \"y2\": 244}    77.0   \n",
       "\n",
       "   individual     structure lying_straight  \\\n",
       "0           1  ElytraLength            Yes   \n",
       "1           1   ElytraWidth            Yes   \n",
       "\n",
       "                                       coords_pix    dist_pix   dist_cm  \\\n",
       "0  {\"x1\": 1055, \"y1\": 154, \"x2\": 1163, \"y2\": 149}  108.115679  1.404100   \n",
       "1  {\"x1\": 1053, \"y1\": 129, \"x2\": 1057, \"y2\": 179}   50.159745  0.651425   \n",
       "\n",
       "  scientificName                NEON_sampleID siteID  \\\n",
       "0  Carabus goryi  HARV_001.20180605.CARGOR.01   HARV   \n",
       "1  Carabus goryi  HARV_001.20180605.CARGOR.01   HARV   \n",
       "\n",
       "                                 site_name    plotID user_name  workflowID  \\\n",
       "0  Harvard Forest & Quabbin Watershed NEON  HARV_001  IsaFluck       21652   \n",
       "1  Harvard Forest & Quabbin Watershed NEON  HARV_001  IsaFluck       21652   \n",
       "\n",
       "     genus    individualID                      file_name species  \n",
       "0  Carabus  A00000032929_1  group_images/A00000032929.jpg   goryi  \n",
       "1  Carabus  A00000032929_1  group_images/A00000032929.jpg   goryi  "
      ]
     },
     "execution_count": 13,
     "metadata": {},
     "output_type": "execute_result"
    }
   ],
   "source": [
    "df.rename(columns = {'PictureID': 'pictureID',\n",
    "                     'scale_dist_pix': 'cm_pix',        #this is number of pixels in a cm on the scalebar\n",
    "                     'lyingstraight': 'lying_straight',\n",
    "                     'NEON_sampleID_': 'NEON_sampleID',\n",
    "                     'workflow_id': 'workflowID',\n",
    "                     'field_site_name': 'site_name'\n",
    "                     },\n",
    "          inplace = True)\n",
    "df.head(2)"
   ]
  },
  {
   "cell_type": "markdown",
   "metadata": {},
   "source": [
    "Now let's just move `species` to follow `genus` and we'll save this updated CSV."
   ]
  },
  {
   "cell_type": "code",
   "execution_count": 14,
   "metadata": {},
   "outputs": [
    {
     "data": {
      "text/plain": [
       "['pictureID',\n",
       " 'scalebar',\n",
       " 'cm_pix',\n",
       " 'individual',\n",
       " 'structure',\n",
       " 'lying_straight',\n",
       " 'coords_pix',\n",
       " 'dist_pix',\n",
       " 'dist_cm',\n",
       " 'scientificName',\n",
       " 'NEON_sampleID',\n",
       " 'siteID',\n",
       " 'site_name',\n",
       " 'plotID',\n",
       " 'user_name',\n",
       " 'workflowID',\n",
       " 'genus',\n",
       " 'species',\n",
       " 'individualID',\n",
       " 'file_name']"
      ]
     },
     "execution_count": 14,
     "metadata": {},
     "output_type": "execute_result"
    }
   ],
   "source": [
    "col_list = list(df.columns)[:-1]\n",
    "col_list.insert(-2, \"species\")\n",
    "col_list"
   ]
  },
  {
   "cell_type": "code",
   "execution_count": 15,
   "metadata": {},
   "outputs": [
    {
     "data": {
      "text/html": [
       "<div>\n",
       "<style scoped>\n",
       "    .dataframe tbody tr th:only-of-type {\n",
       "        vertical-align: middle;\n",
       "    }\n",
       "\n",
       "    .dataframe tbody tr th {\n",
       "        vertical-align: top;\n",
       "    }\n",
       "\n",
       "    .dataframe thead th {\n",
       "        text-align: right;\n",
       "    }\n",
       "</style>\n",
       "<table border=\"1\" class=\"dataframe\">\n",
       "  <thead>\n",
       "    <tr style=\"text-align: right;\">\n",
       "      <th></th>\n",
       "      <th>pictureID</th>\n",
       "      <th>scalebar</th>\n",
       "      <th>cm_pix</th>\n",
       "      <th>individual</th>\n",
       "      <th>structure</th>\n",
       "      <th>lying_straight</th>\n",
       "      <th>coords_pix</th>\n",
       "      <th>dist_pix</th>\n",
       "      <th>dist_cm</th>\n",
       "      <th>scientificName</th>\n",
       "      <th>NEON_sampleID</th>\n",
       "      <th>siteID</th>\n",
       "      <th>site_name</th>\n",
       "      <th>plotID</th>\n",
       "      <th>user_name</th>\n",
       "      <th>workflowID</th>\n",
       "      <th>genus</th>\n",
       "      <th>species</th>\n",
       "      <th>individualID</th>\n",
       "      <th>file_name</th>\n",
       "    </tr>\n",
       "  </thead>\n",
       "  <tbody>\n",
       "    <tr>\n",
       "      <th>0</th>\n",
       "      <td>A00000032929.jpg</td>\n",
       "      <td>{\"x1\": 815, \"y1\": 244, \"x2\": 892, \"y2\": 244}</td>\n",
       "      <td>77.0</td>\n",
       "      <td>1</td>\n",
       "      <td>ElytraLength</td>\n",
       "      <td>Yes</td>\n",
       "      <td>{\"x1\": 1055, \"y1\": 154, \"x2\": 1163, \"y2\": 149}</td>\n",
       "      <td>108.115679</td>\n",
       "      <td>1.404100</td>\n",
       "      <td>Carabus goryi</td>\n",
       "      <td>HARV_001.20180605.CARGOR.01</td>\n",
       "      <td>HARV</td>\n",
       "      <td>Harvard Forest &amp; Quabbin Watershed NEON</td>\n",
       "      <td>HARV_001</td>\n",
       "      <td>IsaFluck</td>\n",
       "      <td>21652</td>\n",
       "      <td>Carabus</td>\n",
       "      <td>goryi</td>\n",
       "      <td>A00000032929_1</td>\n",
       "      <td>group_images/A00000032929.jpg</td>\n",
       "    </tr>\n",
       "    <tr>\n",
       "      <th>1</th>\n",
       "      <td>A00000032929.jpg</td>\n",
       "      <td>{\"x1\": 815, \"y1\": 244, \"x2\": 892, \"y2\": 244}</td>\n",
       "      <td>77.0</td>\n",
       "      <td>1</td>\n",
       "      <td>ElytraWidth</td>\n",
       "      <td>Yes</td>\n",
       "      <td>{\"x1\": 1053, \"y1\": 129, \"x2\": 1057, \"y2\": 179}</td>\n",
       "      <td>50.159745</td>\n",
       "      <td>0.651425</td>\n",
       "      <td>Carabus goryi</td>\n",
       "      <td>HARV_001.20180605.CARGOR.01</td>\n",
       "      <td>HARV</td>\n",
       "      <td>Harvard Forest &amp; Quabbin Watershed NEON</td>\n",
       "      <td>HARV_001</td>\n",
       "      <td>IsaFluck</td>\n",
       "      <td>21652</td>\n",
       "      <td>Carabus</td>\n",
       "      <td>goryi</td>\n",
       "      <td>A00000032929_1</td>\n",
       "      <td>group_images/A00000032929.jpg</td>\n",
       "    </tr>\n",
       "  </tbody>\n",
       "</table>\n",
       "</div>"
      ],
      "text/plain": [
       "          pictureID                                      scalebar  cm_pix  \\\n",
       "0  A00000032929.jpg  {\"x1\": 815, \"y1\": 244, \"x2\": 892, \"y2\": 244}    77.0   \n",
       "1  A00000032929.jpg  {\"x1\": 815, \"y1\": 244, \"x2\": 892, \"y2\": 244}    77.0   \n",
       "\n",
       "   individual     structure lying_straight  \\\n",
       "0           1  ElytraLength            Yes   \n",
       "1           1   ElytraWidth            Yes   \n",
       "\n",
       "                                       coords_pix    dist_pix   dist_cm  \\\n",
       "0  {\"x1\": 1055, \"y1\": 154, \"x2\": 1163, \"y2\": 149}  108.115679  1.404100   \n",
       "1  {\"x1\": 1053, \"y1\": 129, \"x2\": 1057, \"y2\": 179}   50.159745  0.651425   \n",
       "\n",
       "  scientificName                NEON_sampleID siteID  \\\n",
       "0  Carabus goryi  HARV_001.20180605.CARGOR.01   HARV   \n",
       "1  Carabus goryi  HARV_001.20180605.CARGOR.01   HARV   \n",
       "\n",
       "                                 site_name    plotID user_name  workflowID  \\\n",
       "0  Harvard Forest & Quabbin Watershed NEON  HARV_001  IsaFluck       21652   \n",
       "1  Harvard Forest & Quabbin Watershed NEON  HARV_001  IsaFluck       21652   \n",
       "\n",
       "     genus species    individualID                      file_name  \n",
       "0  Carabus   goryi  A00000032929_1  group_images/A00000032929.jpg  \n",
       "1  Carabus   goryi  A00000032929_1  group_images/A00000032929.jpg  "
      ]
     },
     "execution_count": 15,
     "metadata": {},
     "output_type": "execute_result"
    }
   ],
   "source": [
    "df[col_list].head(2)"
   ]
  },
  {
   "cell_type": "code",
   "execution_count": 16,
   "metadata": {},
   "outputs": [],
   "source": [
    "df[col_list].to_csv(\"../data/BeetleMeasurements.csv\", index = False)"
   ]
  },
  {
   "cell_type": "markdown",
   "metadata": {},
   "source": [
    "Quick check, what's the scientific name of our sample image (use the image on [GitHub](https://github.com/Imageomics/BeetlePalooza-2024/blob/main/BeetleImage-A00000046094.jpg))?"
   ]
  },
  {
   "cell_type": "code",
   "execution_count": 18,
   "metadata": {},
   "outputs": [
    {
     "data": {
      "text/plain": [
       "'Carabus goryi'"
      ]
     },
     "execution_count": 18,
     "metadata": {},
     "output_type": "execute_result"
    }
   ],
   "source": [
    "df.loc[df[\"pictureID\"] == \"A00000046094.jpg\", \"scientificName\"].values[0]"
   ]
  },
  {
   "cell_type": "code",
   "execution_count": null,
   "metadata": {},
   "outputs": [],
   "source": []
  }
 ],
 "metadata": {
  "jupytext": {
   "formats": "ipynb,py:percent"
  },
  "kernelspec": {
   "display_name": "std",
   "language": "python",
   "name": "python3"
  },
  "language_info": {
   "codemirror_mode": {
    "name": "ipython",
    "version": 3
   },
   "file_extension": ".py",
   "mimetype": "text/x-python",
   "name": "python",
   "nbconvert_exporter": "python",
   "pygments_lexer": "ipython3",
   "version": "3.11.3"
  }
 },
 "nbformat": 4,
 "nbformat_minor": 2
}
