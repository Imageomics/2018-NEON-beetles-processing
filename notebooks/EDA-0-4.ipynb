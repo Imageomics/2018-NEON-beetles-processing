{
 "cells": [
  {
   "cell_type": "code",
   "execution_count": 1,
   "metadata": {},
   "outputs": [],
   "source": [
    "import pandas as pd"
   ]
  },
  {
   "cell_type": "markdown",
   "metadata": {},
   "source": [
    "# Update Beetle Image Metadata files for viewer\n",
    "\n",
    "The viewer likely needs unique rows per image for the full-sized images (`group_images`, assuming it's not truly limited by their size) and we want to add more info to the file for the resized images so they can be viewed by `genus`, `species`, `NEON_sampleID`, and `siteID`"
   ]
  },
  {
   "cell_type": "code",
   "execution_count": 2,
   "metadata": {},
   "outputs": [
    {
     "data": {
      "text/html": [
       "<div>\n",
       "<style scoped>\n",
       "    .dataframe tbody tr th:only-of-type {\n",
       "        vertical-align: middle;\n",
       "    }\n",
       "\n",
       "    .dataframe tbody tr th {\n",
       "        vertical-align: top;\n",
       "    }\n",
       "\n",
       "    .dataframe thead th {\n",
       "        text-align: right;\n",
       "    }\n",
       "</style>\n",
       "<table border=\"1\" class=\"dataframe\">\n",
       "  <thead>\n",
       "    <tr style=\"text-align: right;\">\n",
       "      <th></th>\n",
       "      <th>pictureID</th>\n",
       "      <th>file_name</th>\n",
       "    </tr>\n",
       "  </thead>\n",
       "  <tbody>\n",
       "    <tr>\n",
       "      <th>0</th>\n",
       "      <td>A00000046175.jpg</td>\n",
       "      <td>beetle_images_resized/A00000046175.jpg</td>\n",
       "    </tr>\n",
       "    <tr>\n",
       "      <th>1</th>\n",
       "      <td>A00000022197.jpg</td>\n",
       "      <td>beetle_images_resized/A00000022197.jpg</td>\n",
       "    </tr>\n",
       "    <tr>\n",
       "      <th>2</th>\n",
       "      <td>A00000051179.jpg</td>\n",
       "      <td>beetle_images_resized/A00000051179.jpg</td>\n",
       "    </tr>\n",
       "    <tr>\n",
       "      <th>3</th>\n",
       "      <td>A00000040712.jpg</td>\n",
       "      <td>beetle_images_resized/A00000040712.jpg</td>\n",
       "    </tr>\n",
       "    <tr>\n",
       "      <th>4</th>\n",
       "      <td>A00000041430.jpg</td>\n",
       "      <td>beetle_images_resized/A00000041430.jpg</td>\n",
       "    </tr>\n",
       "  </tbody>\n",
       "</table>\n",
       "</div>"
      ],
      "text/plain": [
       "          pictureID                               file_name\n",
       "0  A00000046175.jpg  beetle_images_resized/A00000046175.jpg\n",
       "1  A00000022197.jpg  beetle_images_resized/A00000022197.jpg\n",
       "2  A00000051179.jpg  beetle_images_resized/A00000051179.jpg\n",
       "3  A00000040712.jpg  beetle_images_resized/A00000040712.jpg\n",
       "4  A00000041430.jpg  beetle_images_resized/A00000041430.jpg"
      ]
     },
     "execution_count": 2,
     "metadata": {},
     "output_type": "execute_result"
    }
   ],
   "source": [
    "# get metadata from HF\n",
    "df = pd.read_csv(\"https://huggingface.co/datasets/imageomics/2018-NEON-beetles/resolve/0420eb8c5d582b83220f16aa2f11f36e2e832674/BeetleMeasurements_resized.csv\", low_memory = False)\n",
    "df.head()"
   ]
  },
  {
   "cell_type": "code",
   "execution_count": 3,
   "metadata": {},
   "outputs": [
    {
     "data": {
      "text/html": [
       "<div>\n",
       "<style scoped>\n",
       "    .dataframe tbody tr th:only-of-type {\n",
       "        vertical-align: middle;\n",
       "    }\n",
       "\n",
       "    .dataframe tbody tr th {\n",
       "        vertical-align: top;\n",
       "    }\n",
       "\n",
       "    .dataframe thead th {\n",
       "        text-align: right;\n",
       "    }\n",
       "</style>\n",
       "<table border=\"1\" class=\"dataframe\">\n",
       "  <thead>\n",
       "    <tr style=\"text-align: right;\">\n",
       "      <th></th>\n",
       "      <th>pictureID</th>\n",
       "      <th>scalebar</th>\n",
       "      <th>cm_pix</th>\n",
       "      <th>individual</th>\n",
       "      <th>structure</th>\n",
       "      <th>lying_flat</th>\n",
       "      <th>coords_pix</th>\n",
       "      <th>dist_pix</th>\n",
       "      <th>dist_cm</th>\n",
       "      <th>scientificName</th>\n",
       "      <th>...</th>\n",
       "      <th>siteID</th>\n",
       "      <th>site_name</th>\n",
       "      <th>plotID</th>\n",
       "      <th>user_name</th>\n",
       "      <th>workflowID</th>\n",
       "      <th>genus</th>\n",
       "      <th>species</th>\n",
       "      <th>combinedID</th>\n",
       "      <th>measureID</th>\n",
       "      <th>file_name</th>\n",
       "    </tr>\n",
       "  </thead>\n",
       "  <tbody>\n",
       "    <tr>\n",
       "      <th>0</th>\n",
       "      <td>A00000032929.jpg</td>\n",
       "      <td>{\"x1\": 815, \"y1\": 244, \"x2\": 892, \"y2\": 244}</td>\n",
       "      <td>77.0</td>\n",
       "      <td>1</td>\n",
       "      <td>ElytraLength</td>\n",
       "      <td>Yes</td>\n",
       "      <td>{\"x1\": 1055, \"y1\": 154, \"x2\": 1163, \"y2\": 149}</td>\n",
       "      <td>108.115679</td>\n",
       "      <td>1.404100</td>\n",
       "      <td>Carabus goryi</td>\n",
       "      <td>...</td>\n",
       "      <td>HARV</td>\n",
       "      <td>Harvard Forest &amp; Quabbin Watershed NEON</td>\n",
       "      <td>HARV_001</td>\n",
       "      <td>IsaFluck</td>\n",
       "      <td>21652</td>\n",
       "      <td>Carabus</td>\n",
       "      <td>goryi</td>\n",
       "      <td>A00000032929_1</td>\n",
       "      <td>581c1309-6b06-4445-9ed5-55ebe366f6ed</td>\n",
       "      <td>group_images/A00000032929.jpg</td>\n",
       "    </tr>\n",
       "    <tr>\n",
       "      <th>1</th>\n",
       "      <td>A00000032929.jpg</td>\n",
       "      <td>{\"x1\": 815, \"y1\": 244, \"x2\": 892, \"y2\": 244}</td>\n",
       "      <td>77.0</td>\n",
       "      <td>1</td>\n",
       "      <td>ElytraWidth</td>\n",
       "      <td>Yes</td>\n",
       "      <td>{\"x1\": 1053, \"y1\": 129, \"x2\": 1057, \"y2\": 179}</td>\n",
       "      <td>50.159745</td>\n",
       "      <td>0.651425</td>\n",
       "      <td>Carabus goryi</td>\n",
       "      <td>...</td>\n",
       "      <td>HARV</td>\n",
       "      <td>Harvard Forest &amp; Quabbin Watershed NEON</td>\n",
       "      <td>HARV_001</td>\n",
       "      <td>IsaFluck</td>\n",
       "      <td>21652</td>\n",
       "      <td>Carabus</td>\n",
       "      <td>goryi</td>\n",
       "      <td>A00000032929_1</td>\n",
       "      <td>464836fd-853e-40d5-861c-8c279aec6a55</td>\n",
       "      <td>group_images/A00000032929.jpg</td>\n",
       "    </tr>\n",
       "  </tbody>\n",
       "</table>\n",
       "<p>2 rows × 21 columns</p>\n",
       "</div>"
      ],
      "text/plain": [
       "          pictureID                                      scalebar  cm_pix  \\\n",
       "0  A00000032929.jpg  {\"x1\": 815, \"y1\": 244, \"x2\": 892, \"y2\": 244}    77.0   \n",
       "1  A00000032929.jpg  {\"x1\": 815, \"y1\": 244, \"x2\": 892, \"y2\": 244}    77.0   \n",
       "\n",
       "   individual     structure lying_flat  \\\n",
       "0           1  ElytraLength        Yes   \n",
       "1           1   ElytraWidth        Yes   \n",
       "\n",
       "                                       coords_pix    dist_pix   dist_cm  \\\n",
       "0  {\"x1\": 1055, \"y1\": 154, \"x2\": 1163, \"y2\": 149}  108.115679  1.404100   \n",
       "1  {\"x1\": 1053, \"y1\": 129, \"x2\": 1057, \"y2\": 179}   50.159745  0.651425   \n",
       "\n",
       "  scientificName  ... siteID                                site_name  \\\n",
       "0  Carabus goryi  ...   HARV  Harvard Forest & Quabbin Watershed NEON   \n",
       "1  Carabus goryi  ...   HARV  Harvard Forest & Quabbin Watershed NEON   \n",
       "\n",
       "     plotID user_name workflowID    genus species      combinedID  \\\n",
       "0  HARV_001  IsaFluck      21652  Carabus   goryi  A00000032929_1   \n",
       "1  HARV_001  IsaFluck      21652  Carabus   goryi  A00000032929_1   \n",
       "\n",
       "                              measureID                      file_name  \n",
       "0  581c1309-6b06-4445-9ed5-55ebe366f6ed  group_images/A00000032929.jpg  \n",
       "1  464836fd-853e-40d5-861c-8c279aec6a55  group_images/A00000032929.jpg  \n",
       "\n",
       "[2 rows x 21 columns]"
      ]
     },
     "execution_count": 3,
     "metadata": {},
     "output_type": "execute_result"
    }
   ],
   "source": [
    "# get metadata from HF\n",
    "df_detail = pd.read_csv(\"https://huggingface.co/datasets/imageomics/2018-NEON-beetles/resolve/54c160e18d3032e4f13003691bb514db4eef4ece/BeetleMeasurements.csv\", low_memory = False)\n",
    "df_detail.head(2)"
   ]
  },
  {
   "cell_type": "code",
   "execution_count": 4,
   "metadata": {},
   "outputs": [
    {
     "name": "stdout",
     "output_type": "stream",
     "text": [
      "577 (577, 2)\n"
     ]
    }
   ],
   "source": [
    "print(df[\"pictureID\"].nunique(), df.shape)"
   ]
  },
  {
   "cell_type": "code",
   "execution_count": 5,
   "metadata": {},
   "outputs": [],
   "source": [
    "cols_to_add = [\"scientificName\", \"genus\", \"species\", \"NEON_sampleID\", \"siteID\"]"
   ]
  },
  {
   "cell_type": "code",
   "execution_count": 6,
   "metadata": {},
   "outputs": [
    {
     "data": {
      "text/html": [
       "<div>\n",
       "<style scoped>\n",
       "    .dataframe tbody tr th:only-of-type {\n",
       "        vertical-align: middle;\n",
       "    }\n",
       "\n",
       "    .dataframe tbody tr th {\n",
       "        vertical-align: top;\n",
       "    }\n",
       "\n",
       "    .dataframe thead th {\n",
       "        text-align: right;\n",
       "    }\n",
       "</style>\n",
       "<table border=\"1\" class=\"dataframe\">\n",
       "  <thead>\n",
       "    <tr style=\"text-align: right;\">\n",
       "      <th></th>\n",
       "      <th>pictureID</th>\n",
       "      <th>file_name</th>\n",
       "      <th>scientificName</th>\n",
       "      <th>genus</th>\n",
       "      <th>species</th>\n",
       "      <th>NEON_sampleID</th>\n",
       "      <th>siteID</th>\n",
       "    </tr>\n",
       "  </thead>\n",
       "  <tbody>\n",
       "    <tr>\n",
       "      <th>0</th>\n",
       "      <td>A00000046175.jpg</td>\n",
       "      <td>beetle_images_resized/A00000046175.jpg</td>\n",
       "      <td>Pterostichus lachrymosus</td>\n",
       "      <td>Pterostichus</td>\n",
       "      <td>lachrymosus</td>\n",
       "      <td>MLBS_005.20180814.PTELAC2.01</td>\n",
       "      <td>MLBS</td>\n",
       "    </tr>\n",
       "    <tr>\n",
       "      <th>1</th>\n",
       "      <td>A00000022197.jpg</td>\n",
       "      <td>beetle_images_resized/A00000022197.jpg</td>\n",
       "      <td>Apristus sp.</td>\n",
       "      <td>Apristus</td>\n",
       "      <td>NaN</td>\n",
       "      <td>SRER_008.S.20180523.APRSP.01</td>\n",
       "      <td>SRER</td>\n",
       "    </tr>\n",
       "    <tr>\n",
       "      <th>2</th>\n",
       "      <td>A00000051179.jpg</td>\n",
       "      <td>beetle_images_resized/A00000051179.jpg</td>\n",
       "      <td>Euryderus grossus</td>\n",
       "      <td>Euryderus</td>\n",
       "      <td>grossus</td>\n",
       "      <td>CPER_003.20180719.EURGRO.01</td>\n",
       "      <td>CPER</td>\n",
       "    </tr>\n",
       "    <tr>\n",
       "      <th>3</th>\n",
       "      <td>A00000040712.jpg</td>\n",
       "      <td>beetle_images_resized/A00000040712.jpg</td>\n",
       "      <td>Bembidion muscicola</td>\n",
       "      <td>Bembidion</td>\n",
       "      <td>muscicola</td>\n",
       "      <td>TREE_005.W.20180828.BEMMUS.01</td>\n",
       "      <td>TREE</td>\n",
       "    </tr>\n",
       "    <tr>\n",
       "      <th>4</th>\n",
       "      <td>A00000041430.jpg</td>\n",
       "      <td>beetle_images_resized/A00000041430.jpg</td>\n",
       "      <td>Pasimachus depressus</td>\n",
       "      <td>Pasimachus</td>\n",
       "      <td>depressus</td>\n",
       "      <td>KONZ_002.W.20180730.PASDEP.01</td>\n",
       "      <td>KONZ</td>\n",
       "    </tr>\n",
       "  </tbody>\n",
       "</table>\n",
       "</div>"
      ],
      "text/plain": [
       "          pictureID                               file_name  \\\n",
       "0  A00000046175.jpg  beetle_images_resized/A00000046175.jpg   \n",
       "1  A00000022197.jpg  beetle_images_resized/A00000022197.jpg   \n",
       "2  A00000051179.jpg  beetle_images_resized/A00000051179.jpg   \n",
       "3  A00000040712.jpg  beetle_images_resized/A00000040712.jpg   \n",
       "4  A00000041430.jpg  beetle_images_resized/A00000041430.jpg   \n",
       "\n",
       "             scientificName         genus      species  \\\n",
       "0  Pterostichus lachrymosus  Pterostichus  lachrymosus   \n",
       "1              Apristus sp.      Apristus          NaN   \n",
       "2         Euryderus grossus     Euryderus      grossus   \n",
       "3       Bembidion muscicola     Bembidion    muscicola   \n",
       "4      Pasimachus depressus    Pasimachus    depressus   \n",
       "\n",
       "                   NEON_sampleID siteID  \n",
       "0   MLBS_005.20180814.PTELAC2.01   MLBS  \n",
       "1   SRER_008.S.20180523.APRSP.01   SRER  \n",
       "2    CPER_003.20180719.EURGRO.01   CPER  \n",
       "3  TREE_005.W.20180828.BEMMUS.01   TREE  \n",
       "4  KONZ_002.W.20180730.PASDEP.01   KONZ  "
      ]
     },
     "execution_count": 6,
     "metadata": {},
     "output_type": "execute_result"
    }
   ],
   "source": [
    "for pic_id in list(df[\"pictureID\"]):\n",
    "    temp = df_detail.loc[df_detail[\"pictureID\"] == pic_id].copy()\n",
    "    for col in cols_to_add:\n",
    "        df.loc[df[\"pictureID\"] == pic_id, col] = temp[col].values[0]\n",
    "\n",
    "df.head()"
   ]
  },
  {
   "cell_type": "code",
   "execution_count": 7,
   "metadata": {},
   "outputs": [],
   "source": [
    "df.to_csv(\"../data/BeetleMeasurements_resized.csv\", index = False)"
   ]
  },
  {
   "cell_type": "markdown",
   "metadata": {},
   "source": [
    "## Update `group_images` and `group_images_masks` Metadata\n",
    "\n",
    "Run [sum-buddy](https://github.com/Imageomics/sum-buddy) for folder image contents information (run at root of repo, relative path to local copy of [HF repo](https://huggingface.co/datasets/imageomics/2018-NEON-beetles)).\n",
    "```console\n",
    "sum-buddy --output-file metadata/group_images_sb.csv ../2018-NEON-beetles/group_images\n",
    "sum-buddy --output-file metadata/group_images_masks_sb.csv ../2018-NEON-beetles/group_images_masks\n",
    "```"
   ]
  },
  {
   "cell_type": "code",
   "execution_count": 2,
   "metadata": {},
   "outputs": [
    {
     "data": {
      "text/html": [
       "<div>\n",
       "<style scoped>\n",
       "    .dataframe tbody tr th:only-of-type {\n",
       "        vertical-align: middle;\n",
       "    }\n",
       "\n",
       "    .dataframe tbody tr th {\n",
       "        vertical-align: top;\n",
       "    }\n",
       "\n",
       "    .dataframe thead th {\n",
       "        text-align: right;\n",
       "    }\n",
       "</style>\n",
       "<table border=\"1\" class=\"dataframe\">\n",
       "  <thead>\n",
       "    <tr style=\"text-align: right;\">\n",
       "      <th></th>\n",
       "      <th>pictureID</th>\n",
       "      <th>scalebar</th>\n",
       "      <th>cm_pix</th>\n",
       "      <th>individual</th>\n",
       "      <th>structure</th>\n",
       "      <th>lying_flat</th>\n",
       "      <th>coords_pix</th>\n",
       "      <th>dist_pix</th>\n",
       "      <th>dist_cm</th>\n",
       "      <th>scientificName</th>\n",
       "      <th>...</th>\n",
       "      <th>user_name</th>\n",
       "      <th>workflowID</th>\n",
       "      <th>genus</th>\n",
       "      <th>species</th>\n",
       "      <th>combinedID</th>\n",
       "      <th>measureID</th>\n",
       "      <th>file_name</th>\n",
       "      <th>image_dim</th>\n",
       "      <th>resized_image_dim</th>\n",
       "      <th>coords_pix_scaled_up</th>\n",
       "    </tr>\n",
       "  </thead>\n",
       "  <tbody>\n",
       "    <tr>\n",
       "      <th>0</th>\n",
       "      <td>A00000032929.jpg</td>\n",
       "      <td>{\"x1\": 815, \"y1\": 244, \"x2\": 892, \"y2\": 244}</td>\n",
       "      <td>77.0</td>\n",
       "      <td>1</td>\n",
       "      <td>ElytraLength</td>\n",
       "      <td>Yes</td>\n",
       "      <td>{\"x1\": 1055, \"y1\": 154, \"x2\": 1163, \"y2\": 149}</td>\n",
       "      <td>108.115679</td>\n",
       "      <td>1.404100</td>\n",
       "      <td>Carabus goryi</td>\n",
       "      <td>...</td>\n",
       "      <td>IsaFluck</td>\n",
       "      <td>21652</td>\n",
       "      <td>Carabus</td>\n",
       "      <td>goryi</td>\n",
       "      <td>A00000032929_1</td>\n",
       "      <td>581c1309-6b06-4445-9ed5-55ebe366f6ed</td>\n",
       "      <td>group_images/A00000032929.jpg</td>\n",
       "      <td>(3712, 5568, 3)</td>\n",
       "      <td>(1299, 1949, 3)</td>\n",
       "      <td>{'x1': 3014, 'y1': 439, 'x2': 3323, 'y2': 425}</td>\n",
       "    </tr>\n",
       "    <tr>\n",
       "      <th>1</th>\n",
       "      <td>A00000032929.jpg</td>\n",
       "      <td>{\"x1\": 815, \"y1\": 244, \"x2\": 892, \"y2\": 244}</td>\n",
       "      <td>77.0</td>\n",
       "      <td>1</td>\n",
       "      <td>ElytraWidth</td>\n",
       "      <td>Yes</td>\n",
       "      <td>{\"x1\": 1053, \"y1\": 129, \"x2\": 1057, \"y2\": 179}</td>\n",
       "      <td>50.159745</td>\n",
       "      <td>0.651425</td>\n",
       "      <td>Carabus goryi</td>\n",
       "      <td>...</td>\n",
       "      <td>IsaFluck</td>\n",
       "      <td>21652</td>\n",
       "      <td>Carabus</td>\n",
       "      <td>goryi</td>\n",
       "      <td>A00000032929_1</td>\n",
       "      <td>464836fd-853e-40d5-861c-8c279aec6a55</td>\n",
       "      <td>group_images/A00000032929.jpg</td>\n",
       "      <td>(3712, 5568, 3)</td>\n",
       "      <td>(1299, 1949, 3)</td>\n",
       "      <td>{'x1': 3009, 'y1': 368, 'x2': 3020, 'y2': 511}</td>\n",
       "    </tr>\n",
       "  </tbody>\n",
       "</table>\n",
       "<p>2 rows × 24 columns</p>\n",
       "</div>"
      ],
      "text/plain": [
       "          pictureID                                      scalebar  cm_pix  \\\n",
       "0  A00000032929.jpg  {\"x1\": 815, \"y1\": 244, \"x2\": 892, \"y2\": 244}    77.0   \n",
       "1  A00000032929.jpg  {\"x1\": 815, \"y1\": 244, \"x2\": 892, \"y2\": 244}    77.0   \n",
       "\n",
       "   individual     structure lying_flat  \\\n",
       "0           1  ElytraLength        Yes   \n",
       "1           1   ElytraWidth        Yes   \n",
       "\n",
       "                                       coords_pix    dist_pix   dist_cm  \\\n",
       "0  {\"x1\": 1055, \"y1\": 154, \"x2\": 1163, \"y2\": 149}  108.115679  1.404100   \n",
       "1  {\"x1\": 1053, \"y1\": 129, \"x2\": 1057, \"y2\": 179}   50.159745  0.651425   \n",
       "\n",
       "  scientificName  ... user_name workflowID    genus species      combinedID  \\\n",
       "0  Carabus goryi  ...  IsaFluck      21652  Carabus   goryi  A00000032929_1   \n",
       "1  Carabus goryi  ...  IsaFluck      21652  Carabus   goryi  A00000032929_1   \n",
       "\n",
       "                              measureID                      file_name  \\\n",
       "0  581c1309-6b06-4445-9ed5-55ebe366f6ed  group_images/A00000032929.jpg   \n",
       "1  464836fd-853e-40d5-861c-8c279aec6a55  group_images/A00000032929.jpg   \n",
       "\n",
       "         image_dim resized_image_dim  \\\n",
       "0  (3712, 5568, 3)   (1299, 1949, 3)   \n",
       "1  (3712, 5568, 3)   (1299, 1949, 3)   \n",
       "\n",
       "                             coords_pix_scaled_up  \n",
       "0  {'x1': 3014, 'y1': 439, 'x2': 3323, 'y2': 425}  \n",
       "1  {'x1': 3009, 'y1': 368, 'x2': 3020, 'y2': 511}  \n",
       "\n",
       "[2 rows x 24 columns]"
      ]
     },
     "execution_count": 2,
     "metadata": {},
     "output_type": "execute_result"
    }
   ],
   "source": [
    "# Get metadata for images\n",
    "meta_df = pd.read_csv(\"https://huggingface.co/datasets/imageomics/2018-NEON-beetles/resolve/10f6ed40764864e1edc0c0022f66642367161606/BeetleMeasurements.csv\", low_memory=False)\n",
    "meta_df.head(2)"
   ]
  },
  {
   "cell_type": "code",
   "execution_count": 3,
   "metadata": {},
   "outputs": [
    {
     "data": {
      "text/html": [
       "<div>\n",
       "<style scoped>\n",
       "    .dataframe tbody tr th:only-of-type {\n",
       "        vertical-align: middle;\n",
       "    }\n",
       "\n",
       "    .dataframe tbody tr th {\n",
       "        vertical-align: top;\n",
       "    }\n",
       "\n",
       "    .dataframe thead th {\n",
       "        text-align: right;\n",
       "    }\n",
       "</style>\n",
       "<table border=\"1\" class=\"dataframe\">\n",
       "  <thead>\n",
       "    <tr style=\"text-align: right;\">\n",
       "      <th></th>\n",
       "      <th>filepath</th>\n",
       "      <th>filename</th>\n",
       "      <th>md5</th>\n",
       "    </tr>\n",
       "  </thead>\n",
       "  <tbody>\n",
       "    <tr>\n",
       "      <th>0</th>\n",
       "      <td>../2018-NEON-beetles/group_images/A00000046175...</td>\n",
       "      <td>A00000046175.jpg</td>\n",
       "      <td>ea3cbb9cef140de9b2926650f89710b0</td>\n",
       "    </tr>\n",
       "    <tr>\n",
       "      <th>1</th>\n",
       "      <td>../2018-NEON-beetles/group_images/A00000022197...</td>\n",
       "      <td>A00000022197.jpg</td>\n",
       "      <td>d8674743b1edf7a97d133da029835ff9</td>\n",
       "    </tr>\n",
       "    <tr>\n",
       "      <th>2</th>\n",
       "      <td>../2018-NEON-beetles/group_images/A00000051179...</td>\n",
       "      <td>A00000051179.jpg</td>\n",
       "      <td>0c2e8c229e231311a1f3c4d34bb7926c</td>\n",
       "    </tr>\n",
       "    <tr>\n",
       "      <th>3</th>\n",
       "      <td>../2018-NEON-beetles/group_images/A00000040712...</td>\n",
       "      <td>A00000040712.jpg</td>\n",
       "      <td>86a97b6932627fada9f7461ff961b751</td>\n",
       "    </tr>\n",
       "    <tr>\n",
       "      <th>4</th>\n",
       "      <td>../2018-NEON-beetles/group_images/A00000041430...</td>\n",
       "      <td>A00000041430.jpg</td>\n",
       "      <td>b1eb585e813d304837ab579e727e91ae</td>\n",
       "    </tr>\n",
       "  </tbody>\n",
       "</table>\n",
       "</div>"
      ],
      "text/plain": [
       "                                            filepath          filename  \\\n",
       "0  ../2018-NEON-beetles/group_images/A00000046175...  A00000046175.jpg   \n",
       "1  ../2018-NEON-beetles/group_images/A00000022197...  A00000022197.jpg   \n",
       "2  ../2018-NEON-beetles/group_images/A00000051179...  A00000051179.jpg   \n",
       "3  ../2018-NEON-beetles/group_images/A00000040712...  A00000040712.jpg   \n",
       "4  ../2018-NEON-beetles/group_images/A00000041430...  A00000041430.jpg   \n",
       "\n",
       "                                md5  \n",
       "0  ea3cbb9cef140de9b2926650f89710b0  \n",
       "1  d8674743b1edf7a97d133da029835ff9  \n",
       "2  0c2e8c229e231311a1f3c4d34bb7926c  \n",
       "3  86a97b6932627fada9f7461ff961b751  \n",
       "4  b1eb585e813d304837ab579e727e91ae  "
      ]
     },
     "execution_count": 3,
     "metadata": {},
     "output_type": "execute_result"
    }
   ],
   "source": [
    "gp_df = pd.read_csv(\"../metadata/group_images_sb.csv\", low_memory=False)\n",
    "gp_df.head()"
   ]
  },
  {
   "cell_type": "code",
   "execution_count": 4,
   "metadata": {},
   "outputs": [
    {
     "name": "stdout",
     "output_type": "stream",
     "text": [
      "(39064, 24) (577, 3)\n"
     ]
    }
   ],
   "source": [
    "print(meta_df.shape, gp_df.shape)"
   ]
  },
  {
   "cell_type": "code",
   "execution_count": 9,
   "metadata": {},
   "outputs": [
    {
     "data": {
      "text/plain": [
       "(39063, 26)"
      ]
     },
     "execution_count": 9,
     "metadata": {},
     "output_type": "execute_result"
    }
   ],
   "source": [
    "gp_meta = pd.merge(meta_df, gp_df[[\"filename\", \"md5\"]],\n",
    "                   left_on = \"pictureID\",\n",
    "                   right_on = \"filename\",\n",
    "                   how = \"right\")\n",
    "gp_meta.shape"
   ]
  },
  {
   "cell_type": "code",
   "execution_count": 12,
   "metadata": {},
   "outputs": [
    {
     "data": {
      "text/plain": [
       "dupes\n",
       "True     38486\n",
       "False      577\n",
       "Name: count, dtype: int64"
      ]
     },
     "execution_count": 12,
     "metadata": {},
     "output_type": "execute_result"
    }
   ],
   "source": [
    "gp_meta[\"dupes\"] = gp_meta.duplicated(subset = [\"pictureID\", \"filename\", \"md5\"], keep = \"first\")\n",
    "gp_meta[\"dupes\"].value_counts()"
   ]
  },
  {
   "cell_type": "code",
   "execution_count": 13,
   "metadata": {},
   "outputs": [
    {
     "data": {
      "text/plain": [
       "(577, 27)"
      ]
     },
     "execution_count": 13,
     "metadata": {},
     "output_type": "execute_result"
    }
   ],
   "source": [
    "gp_meta_cleaned = gp_meta.loc[~gp_meta[\"dupes\"]].copy()\n",
    "gp_meta_cleaned.shape"
   ]
  },
  {
   "cell_type": "code",
   "execution_count": 15,
   "metadata": {},
   "outputs": [
    {
     "data": {
      "text/plain": [
       "pictureID    576\n",
       "filename     577\n",
       "md5          577\n",
       "dtype: int64"
      ]
     },
     "execution_count": 15,
     "metadata": {},
     "output_type": "execute_result"
    }
   ],
   "source": [
    "gp_meta[[\"pictureID\", \"filename\", \"md5\"]].nunique()"
   ]
  },
  {
   "cell_type": "markdown",
   "metadata": {},
   "source": [
    "We have one `pictureID` duplicated, though the `filename` and `md5` are unique. It should be a unique identifier, so why is that happening?"
   ]
  },
  {
   "cell_type": "code",
   "execution_count": 16,
   "metadata": {},
   "outputs": [
    {
     "data": {
      "text/html": [
       "<div>\n",
       "<style scoped>\n",
       "    .dataframe tbody tr th:only-of-type {\n",
       "        vertical-align: middle;\n",
       "    }\n",
       "\n",
       "    .dataframe tbody tr th {\n",
       "        vertical-align: top;\n",
       "    }\n",
       "\n",
       "    .dataframe thead th {\n",
       "        text-align: right;\n",
       "    }\n",
       "</style>\n",
       "<table border=\"1\" class=\"dataframe\">\n",
       "  <thead>\n",
       "    <tr style=\"text-align: right;\">\n",
       "      <th></th>\n",
       "      <th>pictureID</th>\n",
       "      <th>scalebar</th>\n",
       "      <th>cm_pix</th>\n",
       "      <th>individual</th>\n",
       "      <th>structure</th>\n",
       "      <th>lying_flat</th>\n",
       "      <th>coords_pix</th>\n",
       "      <th>dist_pix</th>\n",
       "      <th>dist_cm</th>\n",
       "      <th>scientificName</th>\n",
       "      <th>...</th>\n",
       "      <th>combinedID</th>\n",
       "      <th>measureID</th>\n",
       "      <th>file_name</th>\n",
       "      <th>image_dim</th>\n",
       "      <th>resized_image_dim</th>\n",
       "      <th>coords_pix_scaled_up</th>\n",
       "      <th>filename</th>\n",
       "      <th>md5</th>\n",
       "      <th>dupes</th>\n",
       "      <th>double-picID</th>\n",
       "    </tr>\n",
       "  </thead>\n",
       "  <tbody>\n",
       "  </tbody>\n",
       "</table>\n",
       "<p>0 rows × 28 columns</p>\n",
       "</div>"
      ],
      "text/plain": [
       "Empty DataFrame\n",
       "Columns: [pictureID, scalebar, cm_pix, individual, structure, lying_flat, coords_pix, dist_pix, dist_cm, scientificName, NEON_sampleID, siteID, site_name, plotID, user_name, workflowID, genus, species, combinedID, measureID, file_name, image_dim, resized_image_dim, coords_pix_scaled_up, filename, md5, dupes, double-picID]\n",
       "Index: []\n",
       "\n",
       "[0 rows x 28 columns]"
      ]
     },
     "execution_count": 16,
     "metadata": {},
     "output_type": "execute_result"
    }
   ],
   "source": [
    "gp_meta_cleaned[\"double-picID\"] = gp_meta_cleaned.duplicated(\"pictureID\", keep = False)\n",
    "gp_meta_cleaned.loc[gp_meta_cleaned[\"double-picID\"]]"
   ]
  },
  {
   "cell_type": "markdown",
   "metadata": {},
   "source": [
    "Or it's missing..."
   ]
  },
  {
   "cell_type": "code",
   "execution_count": 17,
   "metadata": {},
   "outputs": [
    {
     "name": "stdout",
     "output_type": "stream",
     "text": [
      "<class 'pandas.core.frame.DataFrame'>\n",
      "Index: 577 entries, 0 to 39003\n",
      "Data columns (total 3 columns):\n",
      " #   Column     Non-Null Count  Dtype \n",
      "---  ------     --------------  ----- \n",
      " 0   pictureID  576 non-null    object\n",
      " 1   filename   577 non-null    object\n",
      " 2   md5        577 non-null    object\n",
      "dtypes: object(3)\n",
      "memory usage: 18.0+ KB\n"
     ]
    }
   ],
   "source": [
    "gp_meta_cleaned[[\"pictureID\", \"filename\", \"md5\"]].info()"
   ]
  },
  {
   "cell_type": "code",
   "execution_count": 18,
   "metadata": {},
   "outputs": [
    {
     "data": {
      "text/html": [
       "<div>\n",
       "<style scoped>\n",
       "    .dataframe tbody tr th:only-of-type {\n",
       "        vertical-align: middle;\n",
       "    }\n",
       "\n",
       "    .dataframe tbody tr th {\n",
       "        vertical-align: top;\n",
       "    }\n",
       "\n",
       "    .dataframe thead th {\n",
       "        text-align: right;\n",
       "    }\n",
       "</style>\n",
       "<table border=\"1\" class=\"dataframe\">\n",
       "  <thead>\n",
       "    <tr style=\"text-align: right;\">\n",
       "      <th></th>\n",
       "      <th>pictureID</th>\n",
       "      <th>scalebar</th>\n",
       "      <th>cm_pix</th>\n",
       "      <th>individual</th>\n",
       "      <th>structure</th>\n",
       "      <th>lying_flat</th>\n",
       "      <th>coords_pix</th>\n",
       "      <th>dist_pix</th>\n",
       "      <th>dist_cm</th>\n",
       "      <th>scientificName</th>\n",
       "      <th>...</th>\n",
       "      <th>combinedID</th>\n",
       "      <th>measureID</th>\n",
       "      <th>file_name</th>\n",
       "      <th>image_dim</th>\n",
       "      <th>resized_image_dim</th>\n",
       "      <th>coords_pix_scaled_up</th>\n",
       "      <th>filename</th>\n",
       "      <th>md5</th>\n",
       "      <th>dupes</th>\n",
       "      <th>double-picID</th>\n",
       "    </tr>\n",
       "  </thead>\n",
       "  <tbody>\n",
       "    <tr>\n",
       "      <th>25164</th>\n",
       "      <td>NaN</td>\n",
       "      <td>NaN</td>\n",
       "      <td>NaN</td>\n",
       "      <td>NaN</td>\n",
       "      <td>NaN</td>\n",
       "      <td>NaN</td>\n",
       "      <td>NaN</td>\n",
       "      <td>NaN</td>\n",
       "      <td>NaN</td>\n",
       "      <td>NaN</td>\n",
       "      <td>...</td>\n",
       "      <td>NaN</td>\n",
       "      <td>NaN</td>\n",
       "      <td>NaN</td>\n",
       "      <td>NaN</td>\n",
       "      <td>NaN</td>\n",
       "      <td>NaN</td>\n",
       "      <td>A00000006924.jpg</td>\n",
       "      <td>4ee862a3969b432c296ffc7de937afac</td>\n",
       "      <td>False</td>\n",
       "      <td>False</td>\n",
       "    </tr>\n",
       "  </tbody>\n",
       "</table>\n",
       "<p>1 rows × 28 columns</p>\n",
       "</div>"
      ],
      "text/plain": [
       "      pictureID scalebar  cm_pix  individual structure lying_flat coords_pix  \\\n",
       "25164       NaN      NaN     NaN         NaN       NaN        NaN        NaN   \n",
       "\n",
       "       dist_pix  dist_cm scientificName  ... combinedID measureID file_name  \\\n",
       "25164       NaN      NaN            NaN  ...        NaN       NaN       NaN   \n",
       "\n",
       "      image_dim resized_image_dim  coords_pix_scaled_up          filename  \\\n",
       "25164       NaN               NaN                   NaN  A00000006924.jpg   \n",
       "\n",
       "                                    md5  dupes double-picID  \n",
       "25164  4ee862a3969b432c296ffc7de937afac  False        False  \n",
       "\n",
       "[1 rows x 28 columns]"
      ]
     },
     "execution_count": 18,
     "metadata": {},
     "output_type": "execute_result"
    }
   ],
   "source": [
    "gp_meta_cleaned.loc[gp_meta_cleaned[\"pictureID\"].isna()]"
   ]
  },
  {
   "cell_type": "markdown",
   "metadata": {},
   "source": [
    "It looks like this has an extra `0` added."
   ]
  },
  {
   "cell_type": "code",
   "execution_count": 21,
   "metadata": {},
   "outputs": [
    {
     "data": {
      "text/html": [
       "<div>\n",
       "<style scoped>\n",
       "    .dataframe tbody tr th:only-of-type {\n",
       "        vertical-align: middle;\n",
       "    }\n",
       "\n",
       "    .dataframe tbody tr th {\n",
       "        vertical-align: top;\n",
       "    }\n",
       "\n",
       "    .dataframe thead th {\n",
       "        text-align: right;\n",
       "    }\n",
       "</style>\n",
       "<table border=\"1\" class=\"dataframe\">\n",
       "  <thead>\n",
       "    <tr style=\"text-align: right;\">\n",
       "      <th></th>\n",
       "      <th>pictureID</th>\n",
       "      <th>scalebar</th>\n",
       "      <th>cm_pix</th>\n",
       "      <th>individual</th>\n",
       "      <th>structure</th>\n",
       "      <th>lying_flat</th>\n",
       "      <th>coords_pix</th>\n",
       "      <th>dist_pix</th>\n",
       "      <th>dist_cm</th>\n",
       "      <th>scientificName</th>\n",
       "      <th>...</th>\n",
       "      <th>user_name</th>\n",
       "      <th>workflowID</th>\n",
       "      <th>genus</th>\n",
       "      <th>species</th>\n",
       "      <th>combinedID</th>\n",
       "      <th>measureID</th>\n",
       "      <th>file_name</th>\n",
       "      <th>image_dim</th>\n",
       "      <th>resized_image_dim</th>\n",
       "      <th>coords_pix_scaled_up</th>\n",
       "    </tr>\n",
       "  </thead>\n",
       "  <tbody>\n",
       "  </tbody>\n",
       "</table>\n",
       "<p>0 rows × 24 columns</p>\n",
       "</div>"
      ],
      "text/plain": [
       "Empty DataFrame\n",
       "Columns: [pictureID, scalebar, cm_pix, individual, structure, lying_flat, coords_pix, dist_pix, dist_cm, scientificName, NEON_sampleID, siteID, site_name, plotID, user_name, workflowID, genus, species, combinedID, measureID, file_name, image_dim, resized_image_dim, coords_pix_scaled_up]\n",
       "Index: []\n",
       "\n",
       "[0 rows x 24 columns]"
      ]
     },
     "execution_count": 21,
     "metadata": {},
     "output_type": "execute_result"
    }
   ],
   "source": [
    "meta_df.loc[meta_df[\"pictureID\"] == \"A0000006924.jpg\"]"
   ]
  },
  {
   "cell_type": "markdown",
   "metadata": {},
   "source": [
    "Actually, found the image in the folder. Opened the image, its ID should be `A00000069245.jpg`, as the ID comes from the tube the beetles were in and `A00000069245` is the code on the tube label. We'll rename this image and update the file."
   ]
  },
  {
   "cell_type": "code",
   "execution_count": 22,
   "metadata": {},
   "outputs": [
    {
     "name": "stdout",
     "output_type": "stream",
     "text": [
      "(39064, 26)\n",
      "dupes\n",
      "True     38487\n",
      "False      577\n",
      "Name: count, dtype: int64\n"
     ]
    },
    {
     "data": {
      "text/plain": [
       "(577, 27)"
      ]
     },
     "execution_count": 22,
     "metadata": {},
     "output_type": "execute_result"
    }
   ],
   "source": [
    "gp_df.loc[gp_df[\"filename\"] == \"A00000006924.jpg\"] = \"A00000069245.jpg\"\n",
    "\n",
    "gp_meta = pd.merge(meta_df, gp_df[[\"filename\", \"md5\"]],\n",
    "                   left_on = \"pictureID\",\n",
    "                   right_on = \"filename\",\n",
    "                   how = \"inner\")\n",
    "print(gp_meta.shape)\n",
    "\n",
    "gp_meta[\"dupes\"] = gp_meta.duplicated(subset = [\"pictureID\", \"filename\", \"md5\"], keep = \"first\")\n",
    "print(gp_meta[\"dupes\"].value_counts())\n",
    "\n",
    "gp_meta_cleaned = gp_meta.loc[~gp_meta[\"dupes\"]].copy()\n",
    "gp_meta_cleaned.shape"
   ]
  },
  {
   "cell_type": "markdown",
   "metadata": {},
   "source": [
    "Now we just adjust the `filename` column to be `file_name` for HF dataset viewer and drop the `dupes` column."
   ]
  },
  {
   "cell_type": "code",
   "execution_count": 24,
   "metadata": {},
   "outputs": [
    {
     "data": {
      "text/html": [
       "<div>\n",
       "<style scoped>\n",
       "    .dataframe tbody tr th:only-of-type {\n",
       "        vertical-align: middle;\n",
       "    }\n",
       "\n",
       "    .dataframe tbody tr th {\n",
       "        vertical-align: top;\n",
       "    }\n",
       "\n",
       "    .dataframe thead th {\n",
       "        text-align: right;\n",
       "    }\n",
       "</style>\n",
       "<table border=\"1\" class=\"dataframe\">\n",
       "  <thead>\n",
       "    <tr style=\"text-align: right;\">\n",
       "      <th></th>\n",
       "      <th>pictureID</th>\n",
       "      <th>scalebar</th>\n",
       "      <th>cm_pix</th>\n",
       "      <th>individual</th>\n",
       "      <th>structure</th>\n",
       "      <th>lying_flat</th>\n",
       "      <th>coords_pix</th>\n",
       "      <th>dist_pix</th>\n",
       "      <th>dist_cm</th>\n",
       "      <th>scientificName</th>\n",
       "      <th>...</th>\n",
       "      <th>genus</th>\n",
       "      <th>species</th>\n",
       "      <th>combinedID</th>\n",
       "      <th>measureID</th>\n",
       "      <th>file_name</th>\n",
       "      <th>image_dim</th>\n",
       "      <th>resized_image_dim</th>\n",
       "      <th>coords_pix_scaled_up</th>\n",
       "      <th>file_name</th>\n",
       "      <th>md5</th>\n",
       "    </tr>\n",
       "  </thead>\n",
       "  <tbody>\n",
       "    <tr>\n",
       "      <th>0</th>\n",
       "      <td>A00000032929.jpg</td>\n",
       "      <td>{\"x1\": 815, \"y1\": 244, \"x2\": 892, \"y2\": 244}</td>\n",
       "      <td>77.000000</td>\n",
       "      <td>1</td>\n",
       "      <td>ElytraLength</td>\n",
       "      <td>Yes</td>\n",
       "      <td>{\"x1\": 1055, \"y1\": 154, \"x2\": 1163, \"y2\": 149}</td>\n",
       "      <td>108.115679</td>\n",
       "      <td>1.404100</td>\n",
       "      <td>Carabus goryi</td>\n",
       "      <td>...</td>\n",
       "      <td>Carabus</td>\n",
       "      <td>goryi</td>\n",
       "      <td>A00000032929_1</td>\n",
       "      <td>581c1309-6b06-4445-9ed5-55ebe366f6ed</td>\n",
       "      <td>group_images/A00000032929.jpg</td>\n",
       "      <td>(3712, 5568, 3)</td>\n",
       "      <td>(1299, 1949, 3)</td>\n",
       "      <td>{'x1': 3014, 'y1': 439, 'x2': 3323, 'y2': 425}</td>\n",
       "      <td>A00000032929.jpg</td>\n",
       "      <td>e2110ecefbf13d48f20fb4a51c6ff5a9</td>\n",
       "    </tr>\n",
       "    <tr>\n",
       "      <th>78</th>\n",
       "      <td>A00000033585.jpg</td>\n",
       "      <td>{\"x1\": 781, \"y1\": 253, \"x2\": 891, \"y2\": 254}</td>\n",
       "      <td>110.004545</td>\n",
       "      <td>1</td>\n",
       "      <td>ElytraLength</td>\n",
       "      <td>Yes</td>\n",
       "      <td>{\"x1\": 1010, \"y1\": 172, \"x2\": 1029, \"y2\": 229}</td>\n",
       "      <td>60.083276</td>\n",
       "      <td>0.546189</td>\n",
       "      <td>Synuchus impunctatus</td>\n",
       "      <td>...</td>\n",
       "      <td>Synuchus</td>\n",
       "      <td>impunctatus</td>\n",
       "      <td>A00000033585_1</td>\n",
       "      <td>ea4658bb-c7fe-49b5-b3e7-c4c42aa8e084</td>\n",
       "      <td>group_images/A00000033585.jpg</td>\n",
       "      <td>(3712, 5568, 3)</td>\n",
       "      <td>(1336, 2004, 3)</td>\n",
       "      <td>{'x1': 2806, 'y1': 477, 'x2': 2859, 'y2': 636}</td>\n",
       "      <td>A00000033585.jpg</td>\n",
       "      <td>37a7fb236e3e557fad52d3d5c1f6f054</td>\n",
       "    </tr>\n",
       "  </tbody>\n",
       "</table>\n",
       "<p>2 rows × 26 columns</p>\n",
       "</div>"
      ],
      "text/plain": [
       "           pictureID                                      scalebar  \\\n",
       "0   A00000032929.jpg  {\"x1\": 815, \"y1\": 244, \"x2\": 892, \"y2\": 244}   \n",
       "78  A00000033585.jpg  {\"x1\": 781, \"y1\": 253, \"x2\": 891, \"y2\": 254}   \n",
       "\n",
       "        cm_pix  individual     structure lying_flat  \\\n",
       "0    77.000000           1  ElytraLength        Yes   \n",
       "78  110.004545           1  ElytraLength        Yes   \n",
       "\n",
       "                                        coords_pix    dist_pix   dist_cm  \\\n",
       "0   {\"x1\": 1055, \"y1\": 154, \"x2\": 1163, \"y2\": 149}  108.115679  1.404100   \n",
       "78  {\"x1\": 1010, \"y1\": 172, \"x2\": 1029, \"y2\": 229}   60.083276  0.546189   \n",
       "\n",
       "          scientificName  ...     genus      species      combinedID  \\\n",
       "0          Carabus goryi  ...   Carabus        goryi  A00000032929_1   \n",
       "78  Synuchus impunctatus  ...  Synuchus  impunctatus  A00000033585_1   \n",
       "\n",
       "                               measureID                      file_name  \\\n",
       "0   581c1309-6b06-4445-9ed5-55ebe366f6ed  group_images/A00000032929.jpg   \n",
       "78  ea4658bb-c7fe-49b5-b3e7-c4c42aa8e084  group_images/A00000033585.jpg   \n",
       "\n",
       "          image_dim resized_image_dim  \\\n",
       "0   (3712, 5568, 3)   (1299, 1949, 3)   \n",
       "78  (3712, 5568, 3)   (1336, 2004, 3)   \n",
       "\n",
       "                              coords_pix_scaled_up         file_name  \\\n",
       "0   {'x1': 3014, 'y1': 439, 'x2': 3323, 'y2': 425}  A00000032929.jpg   \n",
       "78  {'x1': 2806, 'y1': 477, 'x2': 2859, 'y2': 636}  A00000033585.jpg   \n",
       "\n",
       "                                 md5  \n",
       "0   e2110ecefbf13d48f20fb4a51c6ff5a9  \n",
       "78  37a7fb236e3e557fad52d3d5c1f6f054  \n",
       "\n",
       "[2 rows x 26 columns]"
      ]
     },
     "execution_count": 24,
     "metadata": {},
     "output_type": "execute_result"
    }
   ],
   "source": [
    "gp_meta_cleaned.rename(columns={\"filename\": \"file_name\"}, inplace=True)\n",
    "gp_meta_cleaned.drop(columns=\"dupes\", inplace=True)\n",
    "gp_meta_cleaned.head(2)"
   ]
  },
  {
   "cell_type": "code",
   "execution_count": 25,
   "metadata": {},
   "outputs": [],
   "source": [
    "# Add subset Column\n",
    "gp_meta_cleaned[\"subset\"] = \"group_images\""
   ]
  },
  {
   "cell_type": "markdown",
   "metadata": {},
   "source": [
    "### Save `group_images` metadata\n",
    "\n",
    "Use relative path to local copy of [HF repo](https://huggingface.co/datasets/imageomics/2018-NEON-beetles)."
   ]
  },
  {
   "cell_type": "code",
   "execution_count": 26,
   "metadata": {},
   "outputs": [],
   "source": [
    "gp_meta_cleaned.to_csv(\"../../2018-NEON-beetles/group_images/metadata.csv\", index = False)"
   ]
  },
  {
   "cell_type": "markdown",
   "metadata": {},
   "source": [
    "### Update Masks Subset\n",
    "\n",
    "Check for image that was mislabeled."
   ]
  },
  {
   "cell_type": "code",
   "execution_count": 27,
   "metadata": {},
   "outputs": [
    {
     "data": {
      "text/html": [
       "<div>\n",
       "<style scoped>\n",
       "    .dataframe tbody tr th:only-of-type {\n",
       "        vertical-align: middle;\n",
       "    }\n",
       "\n",
       "    .dataframe tbody tr th {\n",
       "        vertical-align: top;\n",
       "    }\n",
       "\n",
       "    .dataframe thead th {\n",
       "        text-align: right;\n",
       "    }\n",
       "</style>\n",
       "<table border=\"1\" class=\"dataframe\">\n",
       "  <thead>\n",
       "    <tr style=\"text-align: right;\">\n",
       "      <th></th>\n",
       "      <th>filepath</th>\n",
       "      <th>filename</th>\n",
       "      <th>md5</th>\n",
       "    </tr>\n",
       "  </thead>\n",
       "  <tbody>\n",
       "  </tbody>\n",
       "</table>\n",
       "</div>"
      ],
      "text/plain": [
       "Empty DataFrame\n",
       "Columns: [filepath, filename, md5]\n",
       "Index: []"
      ]
     },
     "execution_count": 27,
     "metadata": {},
     "output_type": "execute_result"
    }
   ],
   "source": [
    "gp_m_df = pd.read_csv(\"../metadata/group_images_masks_sb.csv\", low_memory=False)\n",
    "\n",
    "gp_m_df.loc[gp_m_df[\"filename\"] == \"A00000006924.jpg\"]"
   ]
  },
  {
   "cell_type": "code",
   "execution_count": 29,
   "metadata": {},
   "outputs": [
    {
     "data": {
      "text/html": [
       "<div>\n",
       "<style scoped>\n",
       "    .dataframe tbody tr th:only-of-type {\n",
       "        vertical-align: middle;\n",
       "    }\n",
       "\n",
       "    .dataframe tbody tr th {\n",
       "        vertical-align: top;\n",
       "    }\n",
       "\n",
       "    .dataframe thead th {\n",
       "        text-align: right;\n",
       "    }\n",
       "</style>\n",
       "<table border=\"1\" class=\"dataframe\">\n",
       "  <thead>\n",
       "    <tr style=\"text-align: right;\">\n",
       "      <th></th>\n",
       "      <th>filepath</th>\n",
       "      <th>filename</th>\n",
       "      <th>md5</th>\n",
       "    </tr>\n",
       "  </thead>\n",
       "  <tbody>\n",
       "    <tr>\n",
       "      <th>0</th>\n",
       "      <td>../2018-NEON-beetles/group_images_masks/A00000...</td>\n",
       "      <td>A00000022093_mask.png</td>\n",
       "      <td>e5e9d762534da4f9cb13752cb9ebf925</td>\n",
       "    </tr>\n",
       "    <tr>\n",
       "      <th>1</th>\n",
       "      <td>../2018-NEON-beetles/group_images_masks/BART_0...</td>\n",
       "      <td>BART_068.E.20180627.SYNIMP.01_mask.png</td>\n",
       "      <td>269a237c22d1614d8302fed14dbec9b8</td>\n",
       "    </tr>\n",
       "    <tr>\n",
       "      <th>2</th>\n",
       "      <td>../2018-NEON-beetles/group_images_masks/A00000...</td>\n",
       "      <td>A00000034553_mask.png</td>\n",
       "      <td>14a67fceb0171e48592693324f1adf86</td>\n",
       "    </tr>\n",
       "    <tr>\n",
       "      <th>3</th>\n",
       "      <td>../2018-NEON-beetles/group_images_masks/A00000...</td>\n",
       "      <td>A00000008976_mask.png</td>\n",
       "      <td>2d41c0c3e36fb0e2d9698a23a2814eae</td>\n",
       "    </tr>\n",
       "    <tr>\n",
       "      <th>4</th>\n",
       "      <td>../2018-NEON-beetles/group_images_masks/A00000...</td>\n",
       "      <td>A00000044094_mask.png</td>\n",
       "      <td>fea43f94b5910e10b55f343c57febea6</td>\n",
       "    </tr>\n",
       "  </tbody>\n",
       "</table>\n",
       "</div>"
      ],
      "text/plain": [
       "                                            filepath  \\\n",
       "0  ../2018-NEON-beetles/group_images_masks/A00000...   \n",
       "1  ../2018-NEON-beetles/group_images_masks/BART_0...   \n",
       "2  ../2018-NEON-beetles/group_images_masks/A00000...   \n",
       "3  ../2018-NEON-beetles/group_images_masks/A00000...   \n",
       "4  ../2018-NEON-beetles/group_images_masks/A00000...   \n",
       "\n",
       "                                 filename                               md5  \n",
       "0                   A00000022093_mask.png  e5e9d762534da4f9cb13752cb9ebf925  \n",
       "1  BART_068.E.20180627.SYNIMP.01_mask.png  269a237c22d1614d8302fed14dbec9b8  \n",
       "2                   A00000034553_mask.png  14a67fceb0171e48592693324f1adf86  \n",
       "3                   A00000008976_mask.png  2d41c0c3e36fb0e2d9698a23a2814eae  \n",
       "4                   A00000044094_mask.png  fea43f94b5910e10b55f343c57febea6  "
      ]
     },
     "execution_count": 29,
     "metadata": {},
     "output_type": "execute_result"
    }
   ],
   "source": [
    "gp_m_df.head()"
   ]
  },
  {
   "cell_type": "code",
   "execution_count": 31,
   "metadata": {},
   "outputs": [
    {
     "data": {
      "text/html": [
       "<div>\n",
       "<style scoped>\n",
       "    .dataframe tbody tr th:only-of-type {\n",
       "        vertical-align: middle;\n",
       "    }\n",
       "\n",
       "    .dataframe tbody tr th {\n",
       "        vertical-align: top;\n",
       "    }\n",
       "\n",
       "    .dataframe thead th {\n",
       "        text-align: right;\n",
       "    }\n",
       "</style>\n",
       "<table border=\"1\" class=\"dataframe\">\n",
       "  <thead>\n",
       "    <tr style=\"text-align: right;\">\n",
       "      <th></th>\n",
       "      <th>filepath</th>\n",
       "      <th>filename</th>\n",
       "      <th>md5</th>\n",
       "    </tr>\n",
       "  </thead>\n",
       "  <tbody>\n",
       "    <tr>\n",
       "      <th>419</th>\n",
       "      <td>../2018-NEON-beetles/group_images_masks/A00000...</td>\n",
       "      <td>A00000006924_mask.png</td>\n",
       "      <td>e133b77cc3b12f56b6b9f2613c9194a4</td>\n",
       "    </tr>\n",
       "  </tbody>\n",
       "</table>\n",
       "</div>"
      ],
      "text/plain": [
       "                                              filepath               filename  \\\n",
       "419  ../2018-NEON-beetles/group_images_masks/A00000...  A00000006924_mask.png   \n",
       "\n",
       "                                  md5  \n",
       "419  e133b77cc3b12f56b6b9f2613c9194a4  "
      ]
     },
     "execution_count": 31,
     "metadata": {},
     "output_type": "execute_result"
    }
   ],
   "source": [
    "gp_m_df.loc[gp_m_df[\"filename\"] == \"A00000006924_mask.png\"]"
   ]
  },
  {
   "cell_type": "markdown",
   "metadata": {},
   "source": [
    "Okay, let's rename this and then we'll create a `pictureID` column to merge with larger dataframe."
   ]
  },
  {
   "cell_type": "code",
   "execution_count": 32,
   "metadata": {},
   "outputs": [],
   "source": [
    "gp_m_df.loc[gp_m_df[\"filename\"] == \"A00000006924_mask.png\", \"filename\"] = \"A00000069245_mask.png\""
   ]
  },
  {
   "cell_type": "code",
   "execution_count": 36,
   "metadata": {},
   "outputs": [
    {
     "data": {
      "text/html": [
       "<div>\n",
       "<style scoped>\n",
       "    .dataframe tbody tr th:only-of-type {\n",
       "        vertical-align: middle;\n",
       "    }\n",
       "\n",
       "    .dataframe tbody tr th {\n",
       "        vertical-align: top;\n",
       "    }\n",
       "\n",
       "    .dataframe thead th {\n",
       "        text-align: right;\n",
       "    }\n",
       "</style>\n",
       "<table border=\"1\" class=\"dataframe\">\n",
       "  <thead>\n",
       "    <tr style=\"text-align: right;\">\n",
       "      <th></th>\n",
       "      <th>filepath</th>\n",
       "      <th>filename</th>\n",
       "      <th>md5</th>\n",
       "      <th>pictureID</th>\n",
       "    </tr>\n",
       "  </thead>\n",
       "  <tbody>\n",
       "    <tr>\n",
       "      <th>0</th>\n",
       "      <td>../2018-NEON-beetles/group_images_masks/A00000...</td>\n",
       "      <td>A00000022093_mask.png</td>\n",
       "      <td>e5e9d762534da4f9cb13752cb9ebf925</td>\n",
       "      <td>A00000022093.jpg</td>\n",
       "    </tr>\n",
       "    <tr>\n",
       "      <th>1</th>\n",
       "      <td>../2018-NEON-beetles/group_images_masks/BART_0...</td>\n",
       "      <td>BART_068.E.20180627.SYNIMP.01_mask.png</td>\n",
       "      <td>269a237c22d1614d8302fed14dbec9b8</td>\n",
       "      <td>BART_068.E.20180627.SYNIMP.01.jpg</td>\n",
       "    </tr>\n",
       "    <tr>\n",
       "      <th>2</th>\n",
       "      <td>../2018-NEON-beetles/group_images_masks/A00000...</td>\n",
       "      <td>A00000034553_mask.png</td>\n",
       "      <td>14a67fceb0171e48592693324f1adf86</td>\n",
       "      <td>A00000034553.jpg</td>\n",
       "    </tr>\n",
       "    <tr>\n",
       "      <th>3</th>\n",
       "      <td>../2018-NEON-beetles/group_images_masks/A00000...</td>\n",
       "      <td>A00000008976_mask.png</td>\n",
       "      <td>2d41c0c3e36fb0e2d9698a23a2814eae</td>\n",
       "      <td>A00000008976.jpg</td>\n",
       "    </tr>\n",
       "    <tr>\n",
       "      <th>4</th>\n",
       "      <td>../2018-NEON-beetles/group_images_masks/A00000...</td>\n",
       "      <td>A00000044094_mask.png</td>\n",
       "      <td>fea43f94b5910e10b55f343c57febea6</td>\n",
       "      <td>A00000044094.jpg</td>\n",
       "    </tr>\n",
       "  </tbody>\n",
       "</table>\n",
       "</div>"
      ],
      "text/plain": [
       "                                            filepath  \\\n",
       "0  ../2018-NEON-beetles/group_images_masks/A00000...   \n",
       "1  ../2018-NEON-beetles/group_images_masks/BART_0...   \n",
       "2  ../2018-NEON-beetles/group_images_masks/A00000...   \n",
       "3  ../2018-NEON-beetles/group_images_masks/A00000...   \n",
       "4  ../2018-NEON-beetles/group_images_masks/A00000...   \n",
       "\n",
       "                                 filename                               md5  \\\n",
       "0                   A00000022093_mask.png  e5e9d762534da4f9cb13752cb9ebf925   \n",
       "1  BART_068.E.20180627.SYNIMP.01_mask.png  269a237c22d1614d8302fed14dbec9b8   \n",
       "2                   A00000034553_mask.png  14a67fceb0171e48592693324f1adf86   \n",
       "3                   A00000008976_mask.png  2d41c0c3e36fb0e2d9698a23a2814eae   \n",
       "4                   A00000044094_mask.png  fea43f94b5910e10b55f343c57febea6   \n",
       "\n",
       "                           pictureID  \n",
       "0                   A00000022093.jpg  \n",
       "1  BART_068.E.20180627.SYNIMP.01.jpg  \n",
       "2                   A00000034553.jpg  \n",
       "3                   A00000008976.jpg  \n",
       "4                   A00000044094.jpg  "
      ]
     },
     "execution_count": 36,
     "metadata": {},
     "output_type": "execute_result"
    }
   ],
   "source": [
    "for pic in list(gp_m_df[\"filename\"]):\n",
    "    gp_m_df.loc[gp_m_df[\"filename\"] == pic, \"pictureID\"] = pic.split(\"_mask\")[0] + \".jpg\"\n",
    "\n",
    "gp_m_df.head()"
   ]
  },
  {
   "cell_type": "code",
   "execution_count": 37,
   "metadata": {},
   "outputs": [
    {
     "name": "stdout",
     "output_type": "stream",
     "text": [
      "(577, 4)\n",
      "(39064, 26)\n",
      "dupes\n",
      "True     38487\n",
      "False      577\n",
      "Name: count, dtype: int64\n"
     ]
    },
    {
     "data": {
      "text/plain": [
       "(577, 27)"
      ]
     },
     "execution_count": 37,
     "metadata": {},
     "output_type": "execute_result"
    }
   ],
   "source": [
    "print(gp_m_df.shape)\n",
    "\n",
    "gp_m_meta = pd.merge(meta_df, gp_m_df[[\"filename\", \"md5\", \"pictureID\"]],\n",
    "                   on = \"pictureID\",\n",
    "                   how = \"inner\")\n",
    "print(gp_m_meta.shape)\n",
    "\n",
    "gp_m_meta[\"dupes\"] = gp_m_meta.duplicated(subset = [\"pictureID\", \"filename\", \"md5\"], keep = \"first\")\n",
    "print(gp_m_meta[\"dupes\"].value_counts())\n",
    "\n",
    "gp_m_meta_cleaned = gp_m_meta.loc[~gp_m_meta[\"dupes\"]].copy()\n",
    "gp_m_meta_cleaned.shape"
   ]
  },
  {
   "cell_type": "code",
   "execution_count": 39,
   "metadata": {},
   "outputs": [
    {
     "data": {
      "text/html": [
       "<div>\n",
       "<style scoped>\n",
       "    .dataframe tbody tr th:only-of-type {\n",
       "        vertical-align: middle;\n",
       "    }\n",
       "\n",
       "    .dataframe tbody tr th {\n",
       "        vertical-align: top;\n",
       "    }\n",
       "\n",
       "    .dataframe thead th {\n",
       "        text-align: right;\n",
       "    }\n",
       "</style>\n",
       "<table border=\"1\" class=\"dataframe\">\n",
       "  <thead>\n",
       "    <tr style=\"text-align: right;\">\n",
       "      <th></th>\n",
       "      <th>pictureID</th>\n",
       "      <th>scalebar</th>\n",
       "      <th>cm_pix</th>\n",
       "      <th>individual</th>\n",
       "      <th>structure</th>\n",
       "      <th>lying_flat</th>\n",
       "      <th>coords_pix</th>\n",
       "      <th>dist_pix</th>\n",
       "      <th>dist_cm</th>\n",
       "      <th>scientificName</th>\n",
       "      <th>...</th>\n",
       "      <th>species</th>\n",
       "      <th>combinedID</th>\n",
       "      <th>measureID</th>\n",
       "      <th>file_name</th>\n",
       "      <th>image_dim</th>\n",
       "      <th>resized_image_dim</th>\n",
       "      <th>coords_pix_scaled_up</th>\n",
       "      <th>filename</th>\n",
       "      <th>md5</th>\n",
       "      <th>dupes</th>\n",
       "    </tr>\n",
       "  </thead>\n",
       "  <tbody>\n",
       "    <tr>\n",
       "      <th>0</th>\n",
       "      <td>A00000032929.jpg</td>\n",
       "      <td>{\"x1\": 815, \"y1\": 244, \"x2\": 892, \"y2\": 244}</td>\n",
       "      <td>77.000000</td>\n",
       "      <td>1</td>\n",
       "      <td>ElytraLength</td>\n",
       "      <td>Yes</td>\n",
       "      <td>{\"x1\": 1055, \"y1\": 154, \"x2\": 1163, \"y2\": 149}</td>\n",
       "      <td>108.115679</td>\n",
       "      <td>1.404100</td>\n",
       "      <td>Carabus goryi</td>\n",
       "      <td>...</td>\n",
       "      <td>goryi</td>\n",
       "      <td>A00000032929_1</td>\n",
       "      <td>581c1309-6b06-4445-9ed5-55ebe366f6ed</td>\n",
       "      <td>group_images/A00000032929.jpg</td>\n",
       "      <td>(3712, 5568, 3)</td>\n",
       "      <td>(1299, 1949, 3)</td>\n",
       "      <td>{'x1': 3014, 'y1': 439, 'x2': 3323, 'y2': 425}</td>\n",
       "      <td>A00000032929_mask.png</td>\n",
       "      <td>af0c4ca9ba88e7011d90a2cdec0e264b</td>\n",
       "      <td>False</td>\n",
       "    </tr>\n",
       "    <tr>\n",
       "      <th>78</th>\n",
       "      <td>A00000033585.jpg</td>\n",
       "      <td>{\"x1\": 781, \"y1\": 253, \"x2\": 891, \"y2\": 254}</td>\n",
       "      <td>110.004545</td>\n",
       "      <td>1</td>\n",
       "      <td>ElytraLength</td>\n",
       "      <td>Yes</td>\n",
       "      <td>{\"x1\": 1010, \"y1\": 172, \"x2\": 1029, \"y2\": 229}</td>\n",
       "      <td>60.083276</td>\n",
       "      <td>0.546189</td>\n",
       "      <td>Synuchus impunctatus</td>\n",
       "      <td>...</td>\n",
       "      <td>impunctatus</td>\n",
       "      <td>A00000033585_1</td>\n",
       "      <td>ea4658bb-c7fe-49b5-b3e7-c4c42aa8e084</td>\n",
       "      <td>group_images/A00000033585.jpg</td>\n",
       "      <td>(3712, 5568, 3)</td>\n",
       "      <td>(1336, 2004, 3)</td>\n",
       "      <td>{'x1': 2806, 'y1': 477, 'x2': 2859, 'y2': 636}</td>\n",
       "      <td>A00000033585_mask.png</td>\n",
       "      <td>f40800c61227a884e6ae608d9decb911</td>\n",
       "      <td>False</td>\n",
       "    </tr>\n",
       "  </tbody>\n",
       "</table>\n",
       "<p>2 rows × 27 columns</p>\n",
       "</div>"
      ],
      "text/plain": [
       "           pictureID                                      scalebar  \\\n",
       "0   A00000032929.jpg  {\"x1\": 815, \"y1\": 244, \"x2\": 892, \"y2\": 244}   \n",
       "78  A00000033585.jpg  {\"x1\": 781, \"y1\": 253, \"x2\": 891, \"y2\": 254}   \n",
       "\n",
       "        cm_pix  individual     structure lying_flat  \\\n",
       "0    77.000000           1  ElytraLength        Yes   \n",
       "78  110.004545           1  ElytraLength        Yes   \n",
       "\n",
       "                                        coords_pix    dist_pix   dist_cm  \\\n",
       "0   {\"x1\": 1055, \"y1\": 154, \"x2\": 1163, \"y2\": 149}  108.115679  1.404100   \n",
       "78  {\"x1\": 1010, \"y1\": 172, \"x2\": 1029, \"y2\": 229}   60.083276  0.546189   \n",
       "\n",
       "          scientificName  ...      species      combinedID  \\\n",
       "0          Carabus goryi  ...        goryi  A00000032929_1   \n",
       "78  Synuchus impunctatus  ...  impunctatus  A00000033585_1   \n",
       "\n",
       "                               measureID                      file_name  \\\n",
       "0   581c1309-6b06-4445-9ed5-55ebe366f6ed  group_images/A00000032929.jpg   \n",
       "78  ea4658bb-c7fe-49b5-b3e7-c4c42aa8e084  group_images/A00000033585.jpg   \n",
       "\n",
       "          image_dim  resized_image_dim  \\\n",
       "0   (3712, 5568, 3)    (1299, 1949, 3)   \n",
       "78  (3712, 5568, 3)    (1336, 2004, 3)   \n",
       "\n",
       "                              coords_pix_scaled_up               filename  \\\n",
       "0   {'x1': 3014, 'y1': 439, 'x2': 3323, 'y2': 425}  A00000032929_mask.png   \n",
       "78  {'x1': 2806, 'y1': 477, 'x2': 2859, 'y2': 636}  A00000033585_mask.png   \n",
       "\n",
       "                                 md5  dupes  \n",
       "0   af0c4ca9ba88e7011d90a2cdec0e264b  False  \n",
       "78  f40800c61227a884e6ae608d9decb911  False  \n",
       "\n",
       "[2 rows x 27 columns]"
      ]
     },
     "execution_count": 39,
     "metadata": {},
     "output_type": "execute_result"
    }
   ],
   "source": [
    "gp_m_meta_cleaned.head(2)"
   ]
  },
  {
   "cell_type": "markdown",
   "metadata": {},
   "source": [
    "Now we just adjust the `filename` column to be `file_name` for HF dataset viewer and drop the `dupes` column."
   ]
  },
  {
   "cell_type": "code",
   "execution_count": 40,
   "metadata": {},
   "outputs": [
    {
     "data": {
      "text/html": [
       "<div>\n",
       "<style scoped>\n",
       "    .dataframe tbody tr th:only-of-type {\n",
       "        vertical-align: middle;\n",
       "    }\n",
       "\n",
       "    .dataframe tbody tr th {\n",
       "        vertical-align: top;\n",
       "    }\n",
       "\n",
       "    .dataframe thead th {\n",
       "        text-align: right;\n",
       "    }\n",
       "</style>\n",
       "<table border=\"1\" class=\"dataframe\">\n",
       "  <thead>\n",
       "    <tr style=\"text-align: right;\">\n",
       "      <th></th>\n",
       "      <th>pictureID</th>\n",
       "      <th>scalebar</th>\n",
       "      <th>cm_pix</th>\n",
       "      <th>individual</th>\n",
       "      <th>structure</th>\n",
       "      <th>lying_flat</th>\n",
       "      <th>coords_pix</th>\n",
       "      <th>dist_pix</th>\n",
       "      <th>dist_cm</th>\n",
       "      <th>scientificName</th>\n",
       "      <th>...</th>\n",
       "      <th>genus</th>\n",
       "      <th>species</th>\n",
       "      <th>combinedID</th>\n",
       "      <th>measureID</th>\n",
       "      <th>file_name</th>\n",
       "      <th>image_dim</th>\n",
       "      <th>resized_image_dim</th>\n",
       "      <th>coords_pix_scaled_up</th>\n",
       "      <th>file_name</th>\n",
       "      <th>md5</th>\n",
       "    </tr>\n",
       "  </thead>\n",
       "  <tbody>\n",
       "    <tr>\n",
       "      <th>0</th>\n",
       "      <td>A00000032929.jpg</td>\n",
       "      <td>{\"x1\": 815, \"y1\": 244, \"x2\": 892, \"y2\": 244}</td>\n",
       "      <td>77.000000</td>\n",
       "      <td>1</td>\n",
       "      <td>ElytraLength</td>\n",
       "      <td>Yes</td>\n",
       "      <td>{\"x1\": 1055, \"y1\": 154, \"x2\": 1163, \"y2\": 149}</td>\n",
       "      <td>108.115679</td>\n",
       "      <td>1.404100</td>\n",
       "      <td>Carabus goryi</td>\n",
       "      <td>...</td>\n",
       "      <td>Carabus</td>\n",
       "      <td>goryi</td>\n",
       "      <td>A00000032929_1</td>\n",
       "      <td>581c1309-6b06-4445-9ed5-55ebe366f6ed</td>\n",
       "      <td>group_images/A00000032929.jpg</td>\n",
       "      <td>(3712, 5568, 3)</td>\n",
       "      <td>(1299, 1949, 3)</td>\n",
       "      <td>{'x1': 3014, 'y1': 439, 'x2': 3323, 'y2': 425}</td>\n",
       "      <td>A00000032929_mask.png</td>\n",
       "      <td>af0c4ca9ba88e7011d90a2cdec0e264b</td>\n",
       "    </tr>\n",
       "    <tr>\n",
       "      <th>78</th>\n",
       "      <td>A00000033585.jpg</td>\n",
       "      <td>{\"x1\": 781, \"y1\": 253, \"x2\": 891, \"y2\": 254}</td>\n",
       "      <td>110.004545</td>\n",
       "      <td>1</td>\n",
       "      <td>ElytraLength</td>\n",
       "      <td>Yes</td>\n",
       "      <td>{\"x1\": 1010, \"y1\": 172, \"x2\": 1029, \"y2\": 229}</td>\n",
       "      <td>60.083276</td>\n",
       "      <td>0.546189</td>\n",
       "      <td>Synuchus impunctatus</td>\n",
       "      <td>...</td>\n",
       "      <td>Synuchus</td>\n",
       "      <td>impunctatus</td>\n",
       "      <td>A00000033585_1</td>\n",
       "      <td>ea4658bb-c7fe-49b5-b3e7-c4c42aa8e084</td>\n",
       "      <td>group_images/A00000033585.jpg</td>\n",
       "      <td>(3712, 5568, 3)</td>\n",
       "      <td>(1336, 2004, 3)</td>\n",
       "      <td>{'x1': 2806, 'y1': 477, 'x2': 2859, 'y2': 636}</td>\n",
       "      <td>A00000033585_mask.png</td>\n",
       "      <td>f40800c61227a884e6ae608d9decb911</td>\n",
       "    </tr>\n",
       "  </tbody>\n",
       "</table>\n",
       "<p>2 rows × 26 columns</p>\n",
       "</div>"
      ],
      "text/plain": [
       "           pictureID                                      scalebar  \\\n",
       "0   A00000032929.jpg  {\"x1\": 815, \"y1\": 244, \"x2\": 892, \"y2\": 244}   \n",
       "78  A00000033585.jpg  {\"x1\": 781, \"y1\": 253, \"x2\": 891, \"y2\": 254}   \n",
       "\n",
       "        cm_pix  individual     structure lying_flat  \\\n",
       "0    77.000000           1  ElytraLength        Yes   \n",
       "78  110.004545           1  ElytraLength        Yes   \n",
       "\n",
       "                                        coords_pix    dist_pix   dist_cm  \\\n",
       "0   {\"x1\": 1055, \"y1\": 154, \"x2\": 1163, \"y2\": 149}  108.115679  1.404100   \n",
       "78  {\"x1\": 1010, \"y1\": 172, \"x2\": 1029, \"y2\": 229}   60.083276  0.546189   \n",
       "\n",
       "          scientificName  ...     genus      species      combinedID  \\\n",
       "0          Carabus goryi  ...   Carabus        goryi  A00000032929_1   \n",
       "78  Synuchus impunctatus  ...  Synuchus  impunctatus  A00000033585_1   \n",
       "\n",
       "                               measureID                      file_name  \\\n",
       "0   581c1309-6b06-4445-9ed5-55ebe366f6ed  group_images/A00000032929.jpg   \n",
       "78  ea4658bb-c7fe-49b5-b3e7-c4c42aa8e084  group_images/A00000033585.jpg   \n",
       "\n",
       "          image_dim resized_image_dim  \\\n",
       "0   (3712, 5568, 3)   (1299, 1949, 3)   \n",
       "78  (3712, 5568, 3)   (1336, 2004, 3)   \n",
       "\n",
       "                              coords_pix_scaled_up              file_name  \\\n",
       "0   {'x1': 3014, 'y1': 439, 'x2': 3323, 'y2': 425}  A00000032929_mask.png   \n",
       "78  {'x1': 2806, 'y1': 477, 'x2': 2859, 'y2': 636}  A00000033585_mask.png   \n",
       "\n",
       "                                 md5  \n",
       "0   af0c4ca9ba88e7011d90a2cdec0e264b  \n",
       "78  f40800c61227a884e6ae608d9decb911  \n",
       "\n",
       "[2 rows x 26 columns]"
      ]
     },
     "execution_count": 40,
     "metadata": {},
     "output_type": "execute_result"
    }
   ],
   "source": [
    "gp_m_meta_cleaned.rename(columns={\"filename\": \"file_name\"}, inplace=True)\n",
    "gp_m_meta_cleaned.drop(columns=\"dupes\", inplace=True)\n",
    "gp_m_meta_cleaned.head(2)"
   ]
  },
  {
   "cell_type": "code",
   "execution_count": 41,
   "metadata": {},
   "outputs": [],
   "source": [
    "# Add subset Column\n",
    "gp_m_meta_cleaned[\"subset\"] = \"group_images_masks\""
   ]
  },
  {
   "cell_type": "markdown",
   "metadata": {},
   "source": [
    "#### Save `group_images_masks` metadata file\n",
    "\n",
    "Use relative path to local copy of [HF repo](https://huggingface.co/datasets/imageomics/2018-NEON-beetles)."
   ]
  },
  {
   "cell_type": "code",
   "execution_count": 42,
   "metadata": {},
   "outputs": [],
   "source": [
    "gp_m_meta_cleaned.to_csv(\"../../2018-NEON-beetles/group_images_masks/metadata.csv\", index = False)"
   ]
  },
  {
   "cell_type": "code",
   "execution_count": null,
   "metadata": {},
   "outputs": [],
   "source": []
  }
 ],
 "metadata": {
  "jupytext": {
   "formats": "ipynb,py:percent"
  },
  "kernelspec": {
   "display_name": "bp-eda",
   "language": "python",
   "name": "python3"
  },
  "language_info": {
   "codemirror_mode": {
    "name": "ipython",
    "version": 3
   },
   "file_extension": ".py",
   "mimetype": "text/x-python",
   "name": "python",
   "nbconvert_exporter": "python",
   "pygments_lexer": "ipython3",
   "version": "3.12.4"
  }
 },
 "nbformat": 4,
 "nbformat_minor": 2
}
