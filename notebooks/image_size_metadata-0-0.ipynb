{
 "cells": [
  {
   "cell_type": "code",
   "execution_count": 1,
   "metadata": {},
   "outputs": [],
   "source": [
    "import pandas as pd\n",
    "import os, shutil\n",
    "import numpy as np\n",
    "import cv2\n",
    "import matplotlib.pyplot as plt\n",
    "import ast\n"
   ]
  },
  {
   "cell_type": "markdown",
   "metadata": {},
   "source": [
    "### Adding resized and original size dimensions of images as a column to the BeetleMeasurements.csv"
   ]
  },
  {
   "cell_type": "code",
   "execution_count": 2,
   "metadata": {},
   "outputs": [
    {
     "name": "stdout",
     "output_type": "stream",
     "text": [
      "(39064, 24)\n"
     ]
    }
   ],
   "source": [
    "#read in CSV\n",
    "beetle_df = pd.read_csv('/home/ramirez.528/2018-NEON-beetles/BeetleMeasurements.csv')\n",
    "print(beetle_df.shape)\n",
    "\n",
    "# define folders for original and resized imgs\n",
    "image_folder = 'group_images'\n",
    "resized_folder = '/home/ramirez.528/BeetlePalooza/beetle_images_resized'\n"
   ]
  },
  {
   "cell_type": "code",
   "execution_count": 4,
   "metadata": {},
   "outputs": [
    {
     "name": "stdout",
     "output_type": "stream",
     "text": [
      "0\n",
      "100\n",
      "200\n",
      "300\n",
      "400\n",
      "500\n",
      "File A00000069245.jpg does not exist!\n"
     ]
    }
   ],
   "source": [
    "#get image dimensions for originals and resized\n",
    "image_dims = {}\n",
    "resized_image_dims = {}\n",
    "for i, p_id in enumerate(beetle_df.pictureID.unique()):\n",
    "    if i % 100 == 0:\n",
    "        print(i)\n",
    "    try:\n",
    "        im = plt.imread(f\"{image_folder}/{p_id}\")\n",
    "        resized_im = plt.imread(f\"{resized_folder}/{p_id}\")\n",
    "        image_dims[p_id] = im.shape\n",
    "        resized_image_dims[p_id] = resized_im.shape\n",
    "    except:\n",
    "        print(f'File {p_id} does not exist!')"
   ]
  },
  {
   "cell_type": "code",
   "execution_count": 5,
   "metadata": {},
   "outputs": [],
   "source": [
    "#fix the image that doesnt exist with a placeholder val\n",
    "image_dims['A00000069245.jpg'] = (0,0,0)\n",
    "resized_image_dims['A00000069245.jpg'] = (0,0,0)"
   ]
  },
  {
   "cell_type": "code",
   "execution_count": 6,
   "metadata": {},
   "outputs": [],
   "source": [
    "#add columns for size dimensions of resized images\n",
    "beetle_df['image_dim'] = beetle_df['pictureID']\n",
    "beetle_df['resized_image_dim'] = beetle_df['pictureID']\n",
    "\n",
    "# map pID to image dims, respectively\n",
    "beetle_df['image_dim'] = beetle_df['image_dim'].map(image_dims)\n",
    "beetle_df['resized_image_dim'] = beetle_df['resized_image_dim'].map(resized_image_dims)"
   ]
  },
  {
   "cell_type": "code",
   "execution_count": 14,
   "metadata": {},
   "outputs": [
    {
     "data": {
      "text/html": [
       "<div>\n",
       "<style scoped>\n",
       "    .dataframe tbody tr th:only-of-type {\n",
       "        vertical-align: middle;\n",
       "    }\n",
       "\n",
       "    .dataframe tbody tr th {\n",
       "        vertical-align: top;\n",
       "    }\n",
       "\n",
       "    .dataframe thead th {\n",
       "        text-align: right;\n",
       "    }\n",
       "</style>\n",
       "<table border=\"1\" class=\"dataframe\">\n",
       "  <thead>\n",
       "    <tr style=\"text-align: right;\">\n",
       "      <th></th>\n",
       "      <th>pictureID</th>\n",
       "      <th>scalebar</th>\n",
       "      <th>cm_pix</th>\n",
       "      <th>individual</th>\n",
       "      <th>structure</th>\n",
       "      <th>lying_flat</th>\n",
       "      <th>coords_pix</th>\n",
       "      <th>dist_pix</th>\n",
       "      <th>dist_cm</th>\n",
       "      <th>scientificName</th>\n",
       "      <th>...</th>\n",
       "      <th>plotID</th>\n",
       "      <th>user_name</th>\n",
       "      <th>workflowID</th>\n",
       "      <th>genus</th>\n",
       "      <th>species</th>\n",
       "      <th>combinedID</th>\n",
       "      <th>measureID</th>\n",
       "      <th>file_name</th>\n",
       "      <th>image_dim</th>\n",
       "      <th>resized_image_dim</th>\n",
       "    </tr>\n",
       "  </thead>\n",
       "  <tbody>\n",
       "    <tr>\n",
       "      <th>0</th>\n",
       "      <td>A00000032929.jpg</td>\n",
       "      <td>{\"x1\": 815, \"y1\": 244, \"x2\": 892, \"y2\": 244}</td>\n",
       "      <td>77.0</td>\n",
       "      <td>1</td>\n",
       "      <td>ElytraLength</td>\n",
       "      <td>Yes</td>\n",
       "      <td>{\"x1\": 1055, \"y1\": 154, \"x2\": 1163, \"y2\": 149}</td>\n",
       "      <td>108.115679</td>\n",
       "      <td>1.404100</td>\n",
       "      <td>Carabus goryi</td>\n",
       "      <td>...</td>\n",
       "      <td>HARV_001</td>\n",
       "      <td>IsaFluck</td>\n",
       "      <td>21652</td>\n",
       "      <td>Carabus</td>\n",
       "      <td>goryi</td>\n",
       "      <td>A00000032929_1</td>\n",
       "      <td>581c1309-6b06-4445-9ed5-55ebe366f6ed</td>\n",
       "      <td>group_images/A00000032929.jpg</td>\n",
       "      <td>(3712, 5568, 3)</td>\n",
       "      <td>(1299, 1949, 3)</td>\n",
       "    </tr>\n",
       "    <tr>\n",
       "      <th>1</th>\n",
       "      <td>A00000032929.jpg</td>\n",
       "      <td>{\"x1\": 815, \"y1\": 244, \"x2\": 892, \"y2\": 244}</td>\n",
       "      <td>77.0</td>\n",
       "      <td>1</td>\n",
       "      <td>ElytraWidth</td>\n",
       "      <td>Yes</td>\n",
       "      <td>{\"x1\": 1053, \"y1\": 129, \"x2\": 1057, \"y2\": 179}</td>\n",
       "      <td>50.159745</td>\n",
       "      <td>0.651425</td>\n",
       "      <td>Carabus goryi</td>\n",
       "      <td>...</td>\n",
       "      <td>HARV_001</td>\n",
       "      <td>IsaFluck</td>\n",
       "      <td>21652</td>\n",
       "      <td>Carabus</td>\n",
       "      <td>goryi</td>\n",
       "      <td>A00000032929_1</td>\n",
       "      <td>464836fd-853e-40d5-861c-8c279aec6a55</td>\n",
       "      <td>group_images/A00000032929.jpg</td>\n",
       "      <td>(3712, 5568, 3)</td>\n",
       "      <td>(1299, 1949, 3)</td>\n",
       "    </tr>\n",
       "  </tbody>\n",
       "</table>\n",
       "<p>2 rows × 23 columns</p>\n",
       "</div>"
      ],
      "text/plain": [
       "          pictureID                                      scalebar  cm_pix  \\\n",
       "0  A00000032929.jpg  {\"x1\": 815, \"y1\": 244, \"x2\": 892, \"y2\": 244}    77.0   \n",
       "1  A00000032929.jpg  {\"x1\": 815, \"y1\": 244, \"x2\": 892, \"y2\": 244}    77.0   \n",
       "\n",
       "   individual     structure lying_flat  \\\n",
       "0           1  ElytraLength        Yes   \n",
       "1           1   ElytraWidth        Yes   \n",
       "\n",
       "                                       coords_pix    dist_pix   dist_cm  \\\n",
       "0  {\"x1\": 1055, \"y1\": 154, \"x2\": 1163, \"y2\": 149}  108.115679  1.404100   \n",
       "1  {\"x1\": 1053, \"y1\": 129, \"x2\": 1057, \"y2\": 179}   50.159745  0.651425   \n",
       "\n",
       "  scientificName  ...    plotID user_name workflowID    genus species  \\\n",
       "0  Carabus goryi  ...  HARV_001  IsaFluck      21652  Carabus   goryi   \n",
       "1  Carabus goryi  ...  HARV_001  IsaFluck      21652  Carabus   goryi   \n",
       "\n",
       "       combinedID                             measureID  \\\n",
       "0  A00000032929_1  581c1309-6b06-4445-9ed5-55ebe366f6ed   \n",
       "1  A00000032929_1  464836fd-853e-40d5-861c-8c279aec6a55   \n",
       "\n",
       "                       file_name        image_dim resized_image_dim  \n",
       "0  group_images/A00000032929.jpg  (3712, 5568, 3)   (1299, 1949, 3)  \n",
       "1  group_images/A00000032929.jpg  (3712, 5568, 3)   (1299, 1949, 3)  \n",
       "\n",
       "[2 rows x 23 columns]"
      ]
     },
     "execution_count": 14,
     "metadata": {},
     "output_type": "execute_result"
    }
   ],
   "source": [
    "beetle_df.head(2)"
   ]
  },
  {
   "cell_type": "code",
   "execution_count": 9,
   "metadata": {},
   "outputs": [],
   "source": [
    "#save changes\n",
    "# beetle_df.to_csv('BeetleMeasurements.csv', index=False)"
   ]
  },
  {
   "cell_type": "markdown",
   "metadata": {},
   "source": [
    "### Rescale coordinates and add those as a column to the csv as well"
   ]
  },
  {
   "cell_type": "code",
   "execution_count": 3,
   "metadata": {},
   "outputs": [],
   "source": [
    "def rescale_coordinates(old_x, old_y, old_width, old_height, new_width, new_height):\n",
    "    # Calculate the scaling factors\n",
    "    x_scale = new_width / old_width\n",
    "    y_scale = new_height / old_height\n",
    "\n",
    "    # Calculate the new coordinates\n",
    "    new_x = old_x * x_scale\n",
    "    new_y = old_y * y_scale\n",
    "\n",
    "    return new_x, new_y\n",
    "\n",
    "def get_scaled_coords(coords, resized_image_shape, image_shape):\n",
    "\n",
    "    old_width, old_height = resized_image_shape[0], resized_image_shape[1]  # Original image size\n",
    "    new_width, new_height = image_shape[0], image_shape[1]  # New image size\n",
    "\n",
    "    x1_new, y1_new = rescale_coordinates(coords['x1'], coords['y1'], old_width, old_height, new_width, new_height)\n",
    "    x2_new, y2_new = rescale_coordinates(coords['x2'], coords['y2'], old_width, old_height, new_width, new_height)\n",
    "\n",
    "    new_coords = {'x1': int(x1_new), 'y1': int(y1_new), 'x2': int(x2_new), 'y2': int(y2_new)}\n",
    "\n",
    "    return new_coords"
   ]
  },
  {
   "cell_type": "code",
   "execution_count": 4,
   "metadata": {},
   "outputs": [
    {
     "name": "stdout",
     "output_type": "stream",
     "text": [
      "ZeroDivisionError error at row 38534\n",
      "ZeroDivisionError error at row 38535\n"
     ]
    }
   ],
   "source": [
    "#add a new column to our dataframe with the scaled coordinates\n",
    "beetle_df[\"coords_pix_scaled_up\"] = [None] * len(beetle_df)\n",
    "for i, row in beetle_df.iterrows():\n",
    "    try:\n",
    "        coords = ast.literal_eval(row.coords_pix)\n",
    "        resized_image_shape = ast.literal_eval(row.resized_image_dim) #dims of resized img (1MB)\n",
    "        group_image_shape = ast.literal_eval(row.image_dim) #dims of original, larger img\n",
    "\n",
    "        # scale coords using img size\n",
    "        new_coords = get_scaled_coords(coords, resized_image_shape, group_image_shape)\n",
    "        beetle_df.at[i, \"coords_pix_scaled_up\"] = new_coords\n",
    "    except ZeroDivisionError:\n",
    "        print(f\"ZeroDivisionError error at row {i}\")\n",
    "        beetle_df.at[i, \"coords_pix_scaled_up\"] = (0,0,0)"
   ]
  },
  {
   "cell_type": "code",
   "execution_count": 5,
   "metadata": {},
   "outputs": [
    {
     "data": {
      "text/plain": [
       "'(0, 0, 0)'"
      ]
     },
     "execution_count": 5,
     "metadata": {},
     "output_type": "execute_result"
    }
   ],
   "source": [
    "beetle_df.resized_image_dim.tolist()[38534]"
   ]
  },
  {
   "cell_type": "code",
   "execution_count": 43,
   "metadata": {},
   "outputs": [],
   "source": [
    "#save changes\n",
    "# beetle_df.to_csv('/home/ramirez.528/2018-NEON-beetles/BeetleMeasurements.csv', index=False)"
   ]
  }
 ],
 "metadata": {
  "kernelspec": {
   "display_name": "beetles",
   "language": "python",
   "name": "python3"
  },
  "language_info": {
   "codemirror_mode": {
    "name": "ipython",
    "version": 3
   },
   "file_extension": ".py",
   "mimetype": "text/x-python",
   "name": "python",
   "nbconvert_exporter": "python",
   "pygments_lexer": "ipython3",
   "version": "3.10.14"
  }
 },
 "nbformat": 4,
 "nbformat_minor": 2
}
