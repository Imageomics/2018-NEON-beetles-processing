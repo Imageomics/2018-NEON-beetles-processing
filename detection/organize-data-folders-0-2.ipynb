{
 "cells": [
  {
   "cell_type": "code",
   "execution_count": null,
   "metadata": {},
   "outputs": [],
   "source": [
    "import glob\n",
    "import numpy as np\n",
    "import pandas as pd"
   ]
  },
  {
   "cell_type": "code",
   "execution_count": null,
   "metadata": {},
   "outputs": [],
   "source": [
    "#load in images and text file paths\n",
    "img_paths = [p for p in glob.glob('/fs/ess/PAS2136/Butterfly/annotated_cvat_segmentation_data/images_256_256_corrected_orientations_flat/*')]\n",
    "txt_paths = [p for p in glob.glob('/fs/ess/PAS2136/Butterfly/annotated_cvat_segmentation_data/yolo_annotations_flat/*')]\n",
    "\n",
    "img_paths.sort()\n",
    "txt_paths.sort()\n",
    "\n",
    "print(len(img_paths))\n",
    "print(len(txt_paths))\n",
    "\n",
    "#create a dataframe of absolute image paths and their corresponding txt (yolo annotation file) paths\n",
    "dataset_df = pd.DataFrame({'image_path': img_paths,\n",
    "                     'yolo_annotation_path': txt_paths})\n",
    "\n",
    "dataset_df.head()"
   ]
  },
  {
   "cell_type": "code",
   "execution_count": null,
   "metadata": {},
   "outputs": [],
   "source": [
    "#split into train/val/test and create respective directories\n",
    "from sklearn.model_selection import train_test_split\n",
    "\n",
    "#Create a subset of data for testing\n",
    "X1, X_test, y1, y_test = train_test_split(dataset_df['image_path'], dataset_df['yolo_annotation_path'], test_size = 0.20, random_state = 0)\n",
    "\n",
    "#Get train and val sets\n",
    "X_train, X_val, y_train, y_val = train_test_split(X1, y1, test_size = 0.10, random_state = 0)\n",
    "\n",
    "#create dataframes out of our train/test/val splits\n",
    "train_df, val_df, test_df = dataset_df.iloc[X_train.index], dataset_df.iloc[X_val.index], dataset_df.iloc[X_test.index]\n",
    "\n",
    "print(train_df.shape)\n",
    "print(val_df.shape)\n",
    "print(test_df.shape)"
   ]
  },
  {
   "cell_type": "code",
   "execution_count": null,
   "metadata": {},
   "outputs": [],
   "source": [
    "#save train/val/test csvs\n",
    "os.makedirs('/fs/ess/PAS2136/Butterfly/annotated_cvat_segmentation_data/dataset_splits_yolo/csvs', exist_ok=True)\n",
    "\n",
    "train_df.to_csv('/fs/ess/PAS2136/Butterfly/annotated_cvat_segmentation_data/dataset_splits_yolo/csvs/train.csv', index=False)\n",
    "val_df.to_csv('/fs/ess/PAS2136/Butterfly/annotated_cvat_segmentation_data/dataset_splits_yolo/csvs/val.csv', index=False)\n",
    "test_df.to_csv('/fs/ess/PAS2136/Butterfly/annotated_cvat_segmentation_data/dataset_splits_yolo/csvs/test.csv', index=False)"
   ]
  },
  {
   "cell_type": "code",
   "execution_count": null,
   "metadata": {},
   "outputs": [],
   "source": [
    "#design helper function to save images and yolo annotation txt files in train/val/test folders\n",
    "def save_images_and_annotations(df, old_im_folder, old_ann_folder, new_img_folder, new_ann_folder):\n",
    "  \n",
    "  os.makedirs(new_img_folder, exist_ok=True)\n",
    "  os.makedirs(new_ann_folder, exist_ok=True)\n",
    "\n",
    "  for i, row in df.iterrows():\n",
    "    old_img_path, old_ann_path = row['image_path'], row['yolo_annotation_path']\n",
    "\n",
    "    new_img_path = old_img_path.replace(old_im_folder, new_img_folder)\n",
    "    new_ann_path = old_ann_path.replace(old_ann_folder, new_ann_folder)\n",
    "\n",
    "    shutil.copy(old_img_path, new_img_path)\n",
    "    shutil.copy(old_ann_path, new_ann_path)\n",
    "\n",
    "  return\n",
    "\n",
    "old_im_folder = '/fs/ess/PAS2136/Butterfly/annotated_cvat_segmentation_data/images_256_256_corrected_orientations_flat/'\n",
    "old_ann_folder = '/fs/ess/PAS2136/Butterfly/annotated_cvat_segmentation_data/yolo_annotations_flat/'\n",
    "\n",
    "new_split_folder = '/fs/ess/PAS2136/Butterfly/annotated_cvat_segmentation_data/dataset_splits_yolo/'\n",
    "\n",
    "save_images_and_annotations(train_df, old_im_folder, old_ann_folder, new_split_folder + 'images/train/', new_split_folder + 'labels/train/')\n",
    "save_images_and_annotations(val_df, old_im_folder, old_ann_folder, new_split_folder + 'images/val/', new_split_folder + 'labels/val/')\n",
    "save_images_and_annotations(test_df, old_im_folder, old_ann_folder, new_split_folder + 'images/test/', new_split_folder + 'labels/test/')"
   ]
  }
 ],
 "metadata": {
  "language_info": {
   "name": "python"
  }
 },
 "nbformat": 4,
 "nbformat_minor": 2
}
