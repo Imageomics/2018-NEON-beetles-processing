{
 "cells": [
  {
   "cell_type": "code",
   "execution_count": 9,
   "metadata": {},
   "outputs": [],
   "source": [
    "import pandas as pd\n",
    "import os\n",
    "import glob\n",
    "import cv2\n",
    "import matplotlib.pyplot as plt\n",
    "import ast\n",
    "import numpy as np\n",
    "import shutil"
   ]
  },
  {
   "cell_type": "markdown",
   "metadata": {},
   "source": [
    "### get rid of the txt files that don't have bbox annotations (not all images were annotated)"
   ]
  },
  {
   "cell_type": "code",
   "execution_count": 5,
   "metadata": {},
   "outputs": [
    {
     "name": "stdout",
     "output_type": "stream",
     "text": [
      "Empty .txt files removed successfully!\n",
      "0\n",
      "29\n"
     ]
    }
   ],
   "source": [
    "# Specify the folder containing your YOLO annotations\n",
    "folder_path = \"/home/ramirez.528/2018-NEON-beetles-processing/detection/obj_train_data/beetle_group_images\"\n",
    "\n",
    "# Iterate through all files in the folder\n",
    "empty = []\n",
    "annotated = []\n",
    "for filename in os.listdir(folder_path):\n",
    "    # Check if the file is a .txt file\n",
    "    if filename.endswith(\".txt\"):\n",
    "        file_path = os.path.join(folder_path, filename)\n",
    "        \n",
    "        # Check if the file is empty (size 0)\n",
    "        if os.path.getsize(file_path) == 0:\n",
    "            os.remove(file_path)\n",
    "            empty.append(file_path)\n",
    "        else:\n",
    "            annotated.append(file_path)\n",
    "\n",
    "print(\"Empty .txt files removed successfully!\")\n",
    "print(len(empty)) #548 images not annotated (round 1)\n",
    "print(len(annotated)) #29 images annotated (round 1)"
   ]
  },
  {
   "cell_type": "markdown",
   "metadata": {},
   "source": [
    "### for the images that do have annotations in (.txt) files, copy over their respective images into /data/images and labels from txt files into /data/labels"
   ]
  },
  {
   "cell_type": "code",
   "execution_count": 8,
   "metadata": {},
   "outputs": [
    {
     "data": {
      "text/plain": [
       "29"
      ]
     },
     "execution_count": 8,
     "metadata": {},
     "output_type": "execute_result"
    }
   ],
   "source": [
    "#get paths to annotations\n",
    "txt_paths = [p for p in glob.glob('/home/ramirez.528/2018-NEON-beetles-processing/detection/obj_train_data/beetle_group_images/*')]\n",
    "len(txt_paths)"
   ]
  },
  {
   "cell_type": "code",
   "execution_count": 23,
   "metadata": {},
   "outputs": [],
   "source": [
    "#make the new directories to store our images and labels of bbox annotated images\n",
    "os.makedirs('/home/ramirez.528/2018-NEON-beetles-processing/detection/data', exist_ok=True)\n",
    "os.makedirs('/home/ramirez.528/2018-NEON-beetles-processing/detection/data/images', exist_ok=True)\n",
    "os.makedirs('/home/ramirez.528/2018-NEON-beetles-processing/detection/data/labels', exist_ok=True)\n",
    "os.makedirs('/home/ramirez.528/2018-NEON-beetles-processing/detection/data/images/train', exist_ok=True)\n",
    "os.makedirs('/home/ramirez.528/2018-NEON-beetles-processing/detection/data/labels/train', exist_ok=True)"
   ]
  },
  {
   "cell_type": "code",
   "execution_count": 25,
   "metadata": {},
   "outputs": [
    {
     "name": "stdout",
     "output_type": "stream",
     "text": [
      "29 29\n"
     ]
    }
   ],
   "source": [
    "#copy over the images for which we have annotations for\n",
    "SOURCE_IMAGES = '/home/ramirez.528/2018-NEON-beetles/group_images'\n",
    "DEST_IMAGES = '/home/ramirez.528/2018-NEON-beetles-processing/detection/data/images/train'\n",
    "DEST_LABELS = '/home/ramirez.528/2018-NEON-beetles-processing/detection/data/labels/train'\n",
    "\n",
    "for txt_fp in txt_paths:\n",
    "    image_id = txt_fp.split('/')[-1].split('.txt')[0]\n",
    "    shutil.copy(SOURCE_IMAGES + f'/{image_id}.jpg', DEST_IMAGES + f'/{image_id}.jpg')\n",
    "    shutil.copy(txt_fp, DEST_LABELS + f\"/{image_id}.txt\")\n",
    "\n",
    "img_paths = [p for p in glob.glob('/home/ramirez.528/2018-NEON-beetles-processing/detection/data/images/train/*')]\n",
    "copied_txt_paths = [p for p in glob.glob('/home/ramirez.528/2018-NEON-beetles-processing/detection/data/labels/train/*')]\n",
    "print(len(img_paths), len(copied_txt_paths)) #should be 29 for round1 of annotations"
   ]
  },
  {
   "cell_type": "markdown",
   "metadata": {},
   "source": [
    "`we wont create train/test/val splits bc we will use all our data for fine-tuning a yolo detector`"
   ]
  }
 ],
 "metadata": {
  "kernelspec": {
   "display_name": "beetles",
   "language": "python",
   "name": "python3"
  },
  "language_info": {
   "codemirror_mode": {
    "name": "ipython",
    "version": 3
   },
   "file_extension": ".py",
   "mimetype": "text/x-python",
   "name": "python",
   "nbconvert_exporter": "python",
   "pygments_lexer": "ipython3",
   "version": "3.10.14"
  }
 },
 "nbformat": 4,
 "nbformat_minor": 2
}
